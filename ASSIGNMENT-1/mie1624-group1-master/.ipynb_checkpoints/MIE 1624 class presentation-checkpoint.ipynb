{
 "cells": [
  {
   "cell_type": "markdown",
   "metadata": {},
   "source": [
    "# 0 Notebook Setup"
   ]
  },
  {
   "cell_type": "markdown",
   "metadata": {},
   "source": [
    "#### Import libraries"
   ]
  },
  {
   "cell_type": "code",
   "execution_count": 1,
   "metadata": {},
   "outputs": [],
   "source": [
    "import pandas as pd\n",
    "import numpy as np\n",
    "import matplotlib.pyplot as plt\n",
    "import scipy.stats as stats\n",
    "import math\n",
    "import random\n",
    "import statistics"
   ]
  },
  {
   "cell_type": "markdown",
   "metadata": {},
   "source": [
    "#### Load data from customer_dbase_sel.csv for Sections 1 to 3"
   ]
  },
  {
   "cell_type": "code",
   "execution_count": 2,
   "metadata": {},
   "outputs": [
    {
     "name": "stdout",
     "output_type": "stream",
     "text": [
      "<class 'pandas.core.frame.DataFrame'>\n",
      "RangeIndex: 5000 entries, 0 to 4999\n",
      "Data columns (total 30 columns):\n",
      " #   Column         Non-Null Count  Dtype  \n",
      "---  ------         --------------  -----  \n",
      " 0   custid         5000 non-null   object \n",
      " 1   gender         5000 non-null   object \n",
      " 2   age            5000 non-null   int64  \n",
      " 3   age_cat        5000 non-null   object \n",
      " 4   debtinc        5000 non-null   float64\n",
      " 5   card           5000 non-null   object \n",
      " 6   carditems      5000 non-null   int64  \n",
      " 7   cardspent      5000 non-null   float64\n",
      " 8   cardtype       5000 non-null   object \n",
      " 9   creddebt       5000 non-null   float64\n",
      " 10  commute        5000 non-null   object \n",
      " 11  commutetime    4998 non-null   float64\n",
      " 12  card2          5000 non-null   object \n",
      " 13  card2items     5000 non-null   int64  \n",
      " 14  card2spent     5000 non-null   float64\n",
      " 15  card2type      5000 non-null   object \n",
      " 16  marital        5000 non-null   object \n",
      " 17  homeown        5000 non-null   object \n",
      " 18  hometype       5000 non-null   object \n",
      " 19  cars           5000 non-null   int64  \n",
      " 20  carown         4508 non-null   object \n",
      " 21  region         5000 non-null   object \n",
      " 22  ed_cat         5000 non-null   object \n",
      " 23  ed_years       5000 non-null   int64  \n",
      " 24  job_cat        5000 non-null   object \n",
      " 25  employ_years   5000 non-null   int64  \n",
      " 26  emp_cat        5000 non-null   object \n",
      " 27  retire         5000 non-null   object \n",
      " 28  annual_income  5000 non-null   float64\n",
      " 29  inc_cat        5000 non-null   object \n",
      "dtypes: float64(6), int64(6), object(18)\n",
      "memory usage: 1.1+ MB\n"
     ]
    }
   ],
   "source": [
    "df= pd.read_csv('customer_dbase_sel.csv')\n",
    "df.info()"
   ]
  },
  {
   "cell_type": "markdown",
   "metadata": {},
   "source": [
    "# 1 Bootstrapping\n",
    "\n",
    "Question: In the context of testing hypothesis about comparing means of two groups (females and males), bootstrap your data for comparing mean “amount spent on the primary credit card last month” and “debt to income ratio” for the two groups. For each of these two cases, plot two bootstrapped distributions (for males and females) and the distribution of the difference in means (plot the original distribution of differences and a normalized one, if necessary). Explain how you performed the bootstrapping and how many datapoints you average for computing your means. Provide your code and plots in the IPython notebook."
   ]
  },
  {
   "cell_type": "markdown",
   "metadata": {},
   "source": [
    "## 1.1 Amount spent on the primary credit card last month"
   ]
  },
  {
   "cell_type": "markdown",
   "metadata": {},
   "source": [
    "#### Creating a dataframe that contains only gender and cardspent columns"
   ]
  },
  {
   "cell_type": "code",
   "execution_count": 3,
   "metadata": {},
   "outputs": [
    {
     "data": {
      "text/html": [
       "<div>\n",
       "<style scoped>\n",
       "    .dataframe tbody tr th:only-of-type {\n",
       "        vertical-align: middle;\n",
       "    }\n",
       "\n",
       "    .dataframe tbody tr th {\n",
       "        vertical-align: top;\n",
       "    }\n",
       "\n",
       "    .dataframe thead th {\n",
       "        text-align: right;\n",
       "    }\n",
       "</style>\n",
       "<table border=\"1\" class=\"dataframe\">\n",
       "  <thead>\n",
       "    <tr style=\"text-align: right;\">\n",
       "      <th></th>\n",
       "      <th>gender</th>\n",
       "      <th>cardspent</th>\n",
       "    </tr>\n",
       "  </thead>\n",
       "  <tbody>\n",
       "    <tr>\n",
       "      <th>0</th>\n",
       "      <td>Female</td>\n",
       "      <td>81.66</td>\n",
       "    </tr>\n",
       "    <tr>\n",
       "      <th>1</th>\n",
       "      <td>Male</td>\n",
       "      <td>42.60</td>\n",
       "    </tr>\n",
       "    <tr>\n",
       "      <th>2</th>\n",
       "      <td>Female</td>\n",
       "      <td>184.22</td>\n",
       "    </tr>\n",
       "    <tr>\n",
       "      <th>3</th>\n",
       "      <td>Male</td>\n",
       "      <td>340.99</td>\n",
       "    </tr>\n",
       "    <tr>\n",
       "      <th>4</th>\n",
       "      <td>Male</td>\n",
       "      <td>255.10</td>\n",
       "    </tr>\n",
       "  </tbody>\n",
       "</table>\n",
       "</div>"
      ],
      "text/plain": [
       "   gender  cardspent\n",
       "0  Female      81.66\n",
       "1    Male      42.60\n",
       "2  Female     184.22\n",
       "3    Male     340.99\n",
       "4    Male     255.10"
      ]
     },
     "execution_count": 3,
     "metadata": {},
     "output_type": "execute_result"
    }
   ],
   "source": [
    "cardspent= df[['gender','cardspent']]\n",
    "cardspent.head()"
   ]
  },
  {
   "cell_type": "markdown",
   "metadata": {},
   "source": [
    "#### Separating female and male data"
   ]
  },
  {
   "cell_type": "code",
   "execution_count": 4,
   "metadata": {},
   "outputs": [],
   "source": [
    "female_cardspent_dataframe= cardspent.loc[cardspent['gender']=='Female']\n",
    "male_cardspent_dataframe= cardspent.loc[cardspent['gender']=='Male']"
   ]
  },
  {
   "cell_type": "markdown",
   "metadata": {},
   "source": [
    "#### Converting male and female dataframes to numpy arrays"
   ]
  },
  {
   "cell_type": "code",
   "execution_count": 5,
   "metadata": {},
   "outputs": [
    {
     "name": "stdout",
     "output_type": "stream",
     "text": [
      "[ 81.66 184.22 822.32 ... 269.72 284.38 245.65] [ 42.6  340.99 255.1  ... 210.81 884.08 381.35]\n"
     ]
    },
    {
     "data": {
      "text/plain": [
       "numpy.ndarray"
      ]
     },
     "execution_count": 5,
     "metadata": {},
     "output_type": "execute_result"
    }
   ],
   "source": [
    "female_cardspent_array= female_cardspent_dataframe['cardspent'].to_numpy()\n",
    "male_cardspent_array= male_cardspent_dataframe['cardspent'].to_numpy()\n",
    "print(female_cardspent_array, male_cardspent_array)\n",
    "type(female_cardspent_array)"
   ]
  },
  {
   "cell_type": "markdown",
   "metadata": {},
   "source": [
    "### 1.1.1 Bootstrap amount spent on the primary credit card last month for males and females"
   ]
  },
  {
   "cell_type": "markdown",
   "metadata": {},
   "source": [
    "#### Bootstrap"
   ]
  },
  {
   "cell_type": "code",
   "execution_count": 6,
   "metadata": {},
   "outputs": [],
   "source": [
    "group= 5000 #number of times to re-sample\n",
    "\n",
    "female_cardspent_bootstrap = []\n",
    "male_cardspent_bootstrap =[]\n",
    "\n",
    "for i in range(group):\n",
    "    female_cardspent_avg= np.mean(female_cardspent_array[np.random.randint( len(female_cardspent_array),size= len(female_cardspent_array))])\n",
    "    male_cardspent_avg= np.mean(male_cardspent_array[np.random.randint(len(male_cardspent_array),size= len(male_cardspent_array))])\n",
    "    female_cardspent_bootstrap.append(female_cardspent_avg)\n",
    "    male_cardspent_bootstrap.append(male_cardspent_avg)"
   ]
  },
  {
   "cell_type": "markdown",
   "metadata": {},
   "source": [
    "#### Plotting bootstrapped distributions"
   ]
  },
  {
   "cell_type": "code",
   "execution_count": 7,
   "metadata": {},
   "outputs": [
    {
     "data": {
      "text/plain": [
       "Text(0.5, 1.0, 'bootstrapped distributions of cardspent')"
      ]
     },
     "execution_count": 7,
     "metadata": {},
     "output_type": "execute_result"
    },
    {
     "data": {
      "image/png": "[encoded data removed]",
      "text/plain": [
       "<Figure size 432x288 with 1 Axes>"
      ]
     },
     "metadata": {
      "needs_background": "light"
     },
     "output_type": "display_data"
    }
   ],
   "source": [
    "plt.hist(female_cardspent_bootstrap, bins = 20,label = 'female', alpha = 0.5)\n",
    "plt.hist(male_cardspent_bootstrap, bins = 20,label = 'male', alpha = 0.5)\n",
    "plt.legend()\n",
    "plt.xlabel('cardspend')\n",
    "plt.ylabel('frequency')\n",
    "plt.title('bootstrapped distributions of cardspent')"
   ]
  },
  {
   "cell_type": "markdown",
   "metadata": {},
   "source": [
    "### 1.1.2 Distribution of the difference in means between males and females"
   ]
  },
  {
   "cell_type": "markdown",
   "metadata": {},
   "source": [
    "#### Calculate difference in means"
   ]
  },
  {
   "cell_type": "code",
   "execution_count": 8,
   "metadata": {},
   "outputs": [],
   "source": [
    "n_cardspent_male= len(male_cardspent_bootstrap)\n",
    "n_cardspent_female=len(female_cardspent_bootstrap)\n",
    "\n",
    "mu_cardspent_male = np.mean(male_cardspent_bootstrap)\n",
    "mu_cardspent_female = np.mean(female_cardspent_bootstrap)\n",
    "mu_cardspent_diff = mu_cardspent_male - mu_cardspent_female\n",
    "\n",
    "var_cardspent_male = np.var(male_cardspent_bootstrap)\n",
    "var_cardspent_female = np.var(female_cardspent_bootstrap)\n",
    "var_cardspent_diff = var_cardspent_male/n_cardspent_male + var_cardspent_female/n_cardspent_female"
   ]
  },
  {
   "cell_type": "markdown",
   "metadata": {},
   "source": [
    "#### Plot distribution of the difference in means"
   ]
  },
  {
   "cell_type": "code",
   "execution_count": 9,
   "metadata": {},
   "outputs": [
    {
     "data": {
      "image/png": "[encoded data removed]",
      "text/plain": [
       "<Figure size 432x288 with 1 Axes>"
      ]
     },
     "metadata": {
      "needs_background": "light"
     },
     "output_type": "display_data"
    }
   ],
   "source": [
    "mu = mu_cardspent_diff\n",
    "sigma = math.sqrt(var_cardspent_diff)\n",
    "x = np.linspace(mu - 3*sigma, mu + 3*sigma, 100)\n",
    "plt.plot(x, stats.norm.pdf(x, mu, sigma))\n",
    "plt.xlabel('difference in means')\n",
    "plt.title('distribution of the difference in means of cardspent')\n",
    "plt.show()"
   ]
  },
  {
   "cell_type": "markdown",
   "metadata": {},
   "source": [
    "### 1.1.3 Hypothesis testing\n",
    "$H_0$: There's no difference between the means of female_cardspent_bootstrap and male_cardspent_bootstrap. <br>\n",
    "$H_a$: There's a difference between the means of female_cardspent_bootstrap and male_cardspent_bootstrap. <br>\n",
    "$\\alpha$ = 5%"
   ]
  },
  {
   "cell_type": "code",
   "execution_count": 10,
   "metadata": {},
   "outputs": [
    {
     "name": "stdout",
     "output_type": "stream",
     "text": [
      "0.0 Reject null hypothesis\n"
     ]
    }
   ],
   "source": [
    "ttest, pval= stats.ttest_ind(female_cardspent_bootstrap, male_cardspent_bootstrap)\n",
    "\n",
    "if pval < 0.05:\n",
    "    print(pval,\"Reject null hypothesis\")\n",
    "else:\n",
    "    print(pval,\"Fail to reject null hypothesis\")"
   ]
  },
  {
   "cell_type": "markdown",
   "metadata": {},
   "source": [
    "#### Conclusion: Reject the null hypothesis since the p-value is smaller than $\\alpha$"
   ]
  },
  {
   "cell_type": "markdown",
   "metadata": {},
   "source": [
    " ## 1.2 Debt to income ratio"
   ]
  },
  {
   "cell_type": "markdown",
   "metadata": {},
   "source": [
    "#### Creating a dataframe that contains only gender and debtinc columns"
   ]
  },
  {
   "cell_type": "code",
   "execution_count": 11,
   "metadata": {},
   "outputs": [
    {
     "data": {
      "text/html": [
       "<div>\n",
       "<style scoped>\n",
       "    .dataframe tbody tr th:only-of-type {\n",
       "        vertical-align: middle;\n",
       "    }\n",
       "\n",
       "    .dataframe tbody tr th {\n",
       "        vertical-align: top;\n",
       "    }\n",
       "\n",
       "    .dataframe thead th {\n",
       "        text-align: right;\n",
       "    }\n",
       "</style>\n",
       "<table border=\"1\" class=\"dataframe\">\n",
       "  <thead>\n",
       "    <tr style=\"text-align: right;\">\n",
       "      <th></th>\n",
       "      <th>gender</th>\n",
       "      <th>debtinc</th>\n",
       "    </tr>\n",
       "  </thead>\n",
       "  <tbody>\n",
       "    <tr>\n",
       "      <th>0</th>\n",
       "      <td>Female</td>\n",
       "      <td>11.1</td>\n",
       "    </tr>\n",
       "    <tr>\n",
       "      <th>1</th>\n",
       "      <td>Male</td>\n",
       "      <td>18.6</td>\n",
       "    </tr>\n",
       "    <tr>\n",
       "      <th>2</th>\n",
       "      <td>Female</td>\n",
       "      <td>9.9</td>\n",
       "    </tr>\n",
       "    <tr>\n",
       "      <th>3</th>\n",
       "      <td>Male</td>\n",
       "      <td>5.7</td>\n",
       "    </tr>\n",
       "    <tr>\n",
       "      <th>4</th>\n",
       "      <td>Male</td>\n",
       "      <td>1.7</td>\n",
       "    </tr>\n",
       "  </tbody>\n",
       "</table>\n",
       "</div>"
      ],
      "text/plain": [
       "   gender  debtinc\n",
       "0  Female     11.1\n",
       "1    Male     18.6\n",
       "2  Female      9.9\n",
       "3    Male      5.7\n",
       "4    Male      1.7"
      ]
     },
     "execution_count": 11,
     "metadata": {},
     "output_type": "execute_result"
    }
   ],
   "source": [
    "debtinc= df[['gender','debtinc']]\n",
    "debtinc.head()"
   ]
  },
  {
   "cell_type": "markdown",
   "metadata": {},
   "source": [
    "#### Separating female and male data"
   ]
  },
  {
   "cell_type": "code",
   "execution_count": 12,
   "metadata": {},
   "outputs": [],
   "source": [
    "female_debtinc_dataframe= debtinc.loc[debtinc['gender']=='Female']\n",
    "male_debtinc_dataframe= debtinc.loc[debtinc['gender']=='Male']"
   ]
  },
  {
   "cell_type": "markdown",
   "metadata": {},
   "source": [
    "#### Converting male and female dataframes to numpy arrays"
   ]
  },
  {
   "cell_type": "code",
   "execution_count": 13,
   "metadata": {},
   "outputs": [
    {
     "name": "stdout",
     "output_type": "stream",
     "text": [
      "[11.1  9.9  1.9 ...  6.2 13.4  7.1]\n",
      "2551\n"
     ]
    }
   ],
   "source": [
    "female_debtinc_array= female_debtinc_dataframe['debtinc'].to_numpy()\n",
    "male_debtinc_array=  male_debtinc_dataframe['debtinc'].to_numpy()\n",
    "print(female_debtinc_array)\n",
    "print(len(female_debtinc_array))"
   ]
  },
  {
   "cell_type": "markdown",
   "metadata": {},
   "source": [
    "### 1.2.1 Bootstrap debt-to-income ratio for males and females"
   ]
  },
  {
   "cell_type": "markdown",
   "metadata": {},
   "source": [
    "#### Bootstrap"
   ]
  },
  {
   "cell_type": "code",
   "execution_count": 14,
   "metadata": {},
   "outputs": [],
   "source": [
    "group=5000 #number of times to re-sample\n",
    "female_debtinc_bootstrap= []\n",
    "male_debtinc_bootstrap =[]\n",
    "for i in range(group):\n",
    "    female_debtinc_avg= np.mean(female_debtinc_array[np.random.randint(len(female_debtinc_array),size= len(female_debtinc_array))])\n",
    "    male_debtinc_avg= np.mean(male_debtinc_array[np.random.randint(len(male_debtinc_array),size= len(male_debtinc_array))])\n",
    "    female_debtinc_bootstrap.append(female_debtinc_avg)\n",
    "    male_debtinc_bootstrap.append(male_debtinc_avg)"
   ]
  },
  {
   "cell_type": "markdown",
   "metadata": {},
   "source": [
    "#### Plotting bootstrapped distributions"
   ]
  },
  {
   "cell_type": "code",
   "execution_count": 15,
   "metadata": {},
   "outputs": [
    {
     "data": {
      "text/plain": [
       "Text(0.5, 1.0, 'bootstrapped distributions of debt to income ratio')"
      ]
     },
     "execution_count": 15,
     "metadata": {},
     "output_type": "execute_result"
    },
    {
     "data": {
      "image/png": "[encoded data removed]",
      "text/plain": [
       "<Figure size 432x288 with 1 Axes>"
      ]
     },
     "metadata": {
      "needs_background": "light"
     },
     "output_type": "display_data"
    }
   ],
   "source": [
    "plt.hist(female_debtinc_bootstrap, bins = 20,label = 'female', alpha = 0.5)\n",
    "plt.hist(male_debtinc_bootstrap, bins = 20,label = 'male', alpha = 0.5)\n",
    "plt.legend()\n",
    "plt.xlabel('debt to income ratio')\n",
    "plt.ylabel('frequency')\n",
    "plt.title('bootstrapped distributions of debt to income ratio')"
   ]
  },
  {
   "cell_type": "markdown",
   "metadata": {},
   "source": [
    "### 1.2.2 Distribution of the difference in means between males and females"
   ]
  },
  {
   "cell_type": "markdown",
   "metadata": {},
   "source": [
    "#### Calculate difference in means"
   ]
  },
  {
   "cell_type": "code",
   "execution_count": 16,
   "metadata": {},
   "outputs": [],
   "source": [
    "n_debtinc_male=len(male_debtinc_bootstrap)\n",
    "n_debtinc_female= len(female_debtinc_bootstrap)\n",
    "\n",
    "mu_debtinc_male = np.mean(male_debtinc_bootstrap)\n",
    "mu_debtinc_female = np.mean(female_debtinc_bootstrap)\n",
    "mu_debtinc_diff = mu_debtinc_female - mu_debtinc_male\n",
    "\n",
    "var_debtinc_male = np.var(male_debtinc_bootstrap)\n",
    "var_debtinc_female = np.var(female_debtinc_bootstrap)\n",
    "var_debtinc_diff = var_debtinc_male/n_debtinc_male + var_debtinc_female/n_debtinc_female"
   ]
  },
  {
   "cell_type": "markdown",
   "metadata": {},
   "source": [
    "#### Plot distribution of the difference in means"
   ]
  },
  {
   "cell_type": "code",
   "execution_count": 17,
   "metadata": {},
   "outputs": [
    {
     "data": {
      "image/png": "[encoded data removed]",
      "text/plain": [
       "<Figure size 432x288 with 1 Axes>"
      ]
     },
     "metadata": {
      "needs_background": "light"
     },
     "output_type": "display_data"
    }
   ],
   "source": [
    "mu = mu_debtinc_diff\n",
    "sigma = math.sqrt(var_debtinc_diff)\n",
    "\n",
    "x = np.linspace(mu - 3*sigma, mu + 3*sigma, 100)\n",
    "plt.plot(x, stats.norm.pdf(x, mu, sigma))\n",
    "plt.xlabel('difference in means')\n",
    "plt.title('distribution of the difference in means of debt to income ratio')\n",
    "plt.show()"
   ]
  },
  {
   "cell_type": "markdown",
   "metadata": {},
   "source": [
    "### 1.2.3 Hypothesis Testing\n",
    "\n",
    "$H_0$: There's no difference between the means of female_debtinc_bootstrap and male_debtinc_bootstrap. <br>\n",
    "$H_a$: There's a difference between the means of female_debtinc_bootstrap and male_debtinc_bootstrap. <br>\n",
    "$\\alpha$ = 5%"
   ]
  },
  {
   "cell_type": "code",
   "execution_count": 18,
   "metadata": {},
   "outputs": [
    {
     "name": "stdout",
     "output_type": "stream",
     "text": [
      "3.895732437552909e-104 Reject null hypothesis\n"
     ]
    }
   ],
   "source": [
    "ttest, pval= stats.ttest_ind(female_debtinc_bootstrap, male_debtinc_bootstrap)\n",
    "\n",
    "if pval < 0.05:\n",
    "    print(pval,\"Reject null hypothesis\")\n",
    "else:\n",
    "    print(pval,\"Fail to reject null hypothesis\")"
   ]
  },
  {
   "cell_type": "markdown",
   "metadata": {},
   "source": [
    "#### Conclusion: Reject the null hypothesis since the p-value is smaller than $\\alpha$"
   ]
  },
  {
   "cell_type": "markdown",
   "metadata": {},
   "source": [
    "# 2 ANOVA\n",
    "Question: Explain how you can do hypothesis testing for comparing more than two groups. Select three groups from the dataset and explain how you use analysis of variance (ANOVA) for hypothesis testing comparing means of three groups, provide your IPython notebook code and necessary plots to illustrate."
   ]
  },
  {
   "cell_type": "markdown",
   "metadata": {},
   "source": [
    "## 2.1 Inspecting categories for group division"
   ]
  },
  {
   "cell_type": "code",
   "execution_count": 19,
   "metadata": {},
   "outputs": [
    {
     "data": {
      "text/plain": [
       "array(['Zone 1', 'Zone 5', 'Zone 3', 'Zone 4', 'Zone 2'], dtype=object)"
      ]
     },
     "execution_count": 19,
     "metadata": {},
     "output_type": "execute_result"
    }
   ],
   "source": [
    "df['region'].unique()"
   ]
  },
  {
   "cell_type": "code",
   "execution_count": 20,
   "metadata": {
    "jupyter": {
     "source_hidden": true
    }
   },
   "outputs": [
    {
     "data": {
      "text/plain": [
       "array(['Some college', 'College degree', 'High school degree',\n",
       "       'Did not complete high school', 'Post-undergraduate degree'],\n",
       "      dtype=object)"
      ]
     },
     "execution_count": 20,
     "metadata": {},
     "output_type": "execute_result"
    }
   ],
   "source": [
    "df['ed_cat'].unique()"
   ]
  },
  {
   "cell_type": "code",
   "execution_count": 21,
   "metadata": {},
   "outputs": [
    {
     "name": "stdout",
     "output_type": "stream",
     "text": [
      "Index(['custid', 'gender', 'age', 'age_cat', 'debtinc', 'card', 'carditems',\n",
      "       'cardspent', 'cardtype', 'creddebt', 'commute', 'commutetime', 'card2',\n",
      "       'card2items', 'card2spent', 'card2type', 'marital', 'homeown',\n",
      "       'hometype', 'cars', 'carown', 'region', 'ed_cat', 'ed_years', 'job_cat',\n",
      "       'employ_years', 'emp_cat', 'retire', 'annual_income', 'inc_cat'],\n",
      "      dtype='object')\n"
     ]
    }
   ],
   "source": [
    "print(df.columns)"
   ]
  },
  {
   "cell_type": "code",
   "execution_count": 22,
   "metadata": {},
   "outputs": [
    {
     "data": {
      "text/plain": [
       "<matplotlib.axes._subplots.AxesSubplot at 0x11760ebb0>"
      ]
     },
     "execution_count": 22,
     "metadata": {},
     "output_type": "execute_result"
    },
    {
     "data": {
      "image/png": "[encoded data removed]",
      "text/plain": [
       "<Figure size 432x288 with 1 Axes>"
      ]
     },
     "metadata": {
      "needs_background": "light"
     },
     "output_type": "display_data"
    }
   ],
   "source": [
    "df.boxplot('cardspent',by='region')"
   ]
  },
  {
   "cell_type": "code",
   "execution_count": 23,
   "metadata": {},
   "outputs": [
    {
     "name": "stdout",
     "output_type": "stream",
     "text": [
      "      region  cardspent\n",
      "0     Zone 1      81.66\n",
      "16    Zone 1     305.94\n",
      "19    Zone 1       8.11\n",
      "24    Zone 1     453.74\n",
      "32    Zone 1     342.17\n",
      "...      ...        ...\n",
      "4970  Zone 1      31.91\n",
      "4979  Zone 1      39.40\n",
      "4982  Zone 1     520.42\n",
      "4984  Zone 1     224.69\n",
      "4996  Zone 1     381.35\n",
      "\n",
      "[1019 rows x 2 columns]\n",
      "      region  cardspent\n",
      "4     Zone 2     255.10\n",
      "6     Zone 2     822.32\n",
      "8     Zone 2     326.59\n",
      "9     Zone 2     199.64\n",
      "11    Zone 2     338.26\n",
      "...      ...        ...\n",
      "4977  Zone 2     147.93\n",
      "4981  Zone 2     245.26\n",
      "4986  Zone 2     327.06\n",
      "4989  Zone 2     285.67\n",
      "4993  Zone 2     872.11\n",
      "\n",
      "[1005 rows x 2 columns]\n",
      "      region  cardspent\n",
      "2     Zone 3     184.22\n",
      "7     Zone 3     592.70\n",
      "13    Zone 3     593.50\n",
      "15    Zone 3     297.47\n",
      "20    Zone 3     271.98\n",
      "...      ...        ...\n",
      "4988  Zone 3     440.75\n",
      "4991  Zone 3     227.25\n",
      "4992  Zone 3     430.80\n",
      "4994  Zone 3     210.81\n",
      "4997  Zone 3     269.72\n",
      "\n",
      "[981 rows x 2 columns]\n"
     ]
    }
   ],
   "source": [
    "zone1_df = df.loc[df['region'] == 'Zone 1']\n",
    "print(zone1_df[['region','cardspent']])\n",
    "\n",
    "zone2_df = df.loc[df['region'] == 'Zone 2']\n",
    "print(zone2_df[['region','cardspent']])\n",
    "\n",
    "zone3_df = df.loc[df['region'] == 'Zone 3']\n",
    "print(zone3_df[['region','cardspent']])"
   ]
  },
  {
   "cell_type": "code",
   "execution_count": 24,
   "metadata": {},
   "outputs": [
    {
     "data": {
      "text/plain": [
       "<matplotlib.axes._subplots.AxesSubplot at 0x1176eb6d0>"
      ]
     },
     "execution_count": 24,
     "metadata": {},
     "output_type": "execute_result"
    },
    {
     "data": {
      "image/png": "[encoded data removed]",
      "text/plain": [
       "<Figure size 432x288 with 1 Axes>"
      ]
     },
     "metadata": {
      "needs_background": "light"
     },
     "output_type": "display_data"
    }
   ],
   "source": [
    "region_cardspent = pd.concat([zone1_df,zone2_df,zone3_df])\n",
    "region_cardspent.boxplot('cardspent',by='region')"
   ]
  },
  {
   "cell_type": "markdown",
   "metadata": {},
   "source": [
    "#### Convert 'cardspent' grouped by region into numpy array"
   ]
  },
  {
   "cell_type": "code",
   "execution_count": 25,
   "metadata": {},
   "outputs": [],
   "source": [
    "zone1_cardspent = zone1_df['cardspent'].to_numpy()\n",
    "zone2_cardspent = zone2_df['cardspent'].to_numpy()\n",
    "zone3_cardspent = zone3_df['cardspent'].to_numpy()"
   ]
  },
  {
   "cell_type": "markdown",
   "metadata": {},
   "source": [
    "## 2.2 Bootstrapping"
   ]
  },
  {
   "cell_type": "markdown",
   "metadata": {},
   "source": [
    "#### Define Bootstrap function"
   ]
  },
  {
   "cell_type": "code",
   "execution_count": 26,
   "metadata": {},
   "outputs": [],
   "source": [
    "# make the result reproductable\n",
    "random.seed(1000)\n",
    "\n",
    "def myBoot(sample):\n",
    "    resample = random.choices(sample, k=len(sample))\n",
    "    resample_mean = statistics.mean(resample)\n",
    "    return resample_mean"
   ]
  },
  {
   "cell_type": "markdown",
   "metadata": {},
   "source": [
    "#### Conduct bootstrap"
   ]
  },
  {
   "cell_type": "code",
   "execution_count": 27,
   "metadata": {},
   "outputs": [],
   "source": [
    "zone1_cardspent_means = []\n",
    "zone2_cardspent_means = []\n",
    "zone3_cardspent_means = []\n",
    "\n",
    "# re-sample 1000 times\n",
    "for i in range(1000):\n",
    "    x = myBoot(zone1_cardspent)\n",
    "    zone1_cardspent_means.append(x)\n",
    "    \n",
    "    x = myBoot(zone2_cardspent)\n",
    "    zone2_cardspent_means.append(x)\n",
    "    \n",
    "    x = myBoot(zone3_cardspent)\n",
    "    zone3_cardspent_means.append(x)"
   ]
  },
  {
   "cell_type": "markdown",
   "metadata": {},
   "source": [
    "#### Concatenate data from all three regions"
   ]
  },
  {
   "cell_type": "code",
   "execution_count": 28,
   "metadata": {},
   "outputs": [],
   "source": [
    "region_cardspent_data = zone1_cardspent_means+zone2_cardspent_means+zone3_cardspent_means"
   ]
  },
  {
   "cell_type": "markdown",
   "metadata": {},
   "source": [
    "#### Display bootstrap result"
   ]
  },
  {
   "cell_type": "code",
   "execution_count": 29,
   "metadata": {},
   "outputs": [
    {
     "data": {
      "text/plain": [
       "Text(0.5, 1.0, 'bootstrapped distributions of cardspent grouped by region')"
      ]
     },
     "execution_count": 29,
     "metadata": {},
     "output_type": "execute_result"
    },
    {
     "data": {
      "image/png": "[encoded data removed]",
      "text/plain": [
       "<Figure size 432x288 with 1 Axes>"
      ]
     },
     "metadata": {
      "needs_background": "light"
     },
     "output_type": "display_data"
    }
   ],
   "source": [
    "plt.hist(zone1_cardspent_means, bins = 20,label = 'zone 1', alpha = 0.5)\n",
    "plt.hist(zone2_cardspent_means, bins = 20,label = 'zone 2', alpha = 0.5)\n",
    "plt.hist(zone3_cardspent_means, bins = 20,label = 'zone 3', alpha = 0.5)\n",
    "plt.legend()\n",
    "plt.xlabel('cardspent')\n",
    "plt.ylabel('frequency')\n",
    "plt.title('bootstrapped distributions of cardspent grouped by region')"
   ]
  },
  {
   "cell_type": "markdown",
   "metadata": {},
   "source": [
    "## 2.3 ANOVA Hypothesis Testing\n",
    "$H_0$: the mean for all three groups are the same <br>\n",
    "$H_a$: the mean of at least one group is not the same <br>\n",
    "Significance level ($\\alpha$) is 5% <br>"
   ]
  },
  {
   "cell_type": "markdown",
   "metadata": {},
   "source": [
    "$$Sum \\ of \\ Squared \\ Errors \\ (SSE) = \\sum_{i=1}^n(Y_i - \\hat Y_i)^2$$\n"
   ]
  },
  {
   "cell_type": "markdown",
   "metadata": {},
   "source": [
    "$$Total \\ Sum \\ of \\ Squares \\ (TSS) = \\sum_{i=1}^n(Y_i - \\bar Y_i)^2$$\n"
   ]
  },
  {
   "cell_type": "markdown",
   "metadata": {},
   "source": [
    "$$ Regression \\ Sum \\ of \\ Squares \\ (RSS) = TSS - SSE $$"
   ]
  },
  {
   "cell_type": "markdown",
   "metadata": {},
   "source": [
    "$$F = \\frac{RSS \\ / \\ (k-1)}{SSE \\ / \\ (n-k)} = \\frac{Mean \\ Regression \\ Sum \\ of \\ Squares}{Mean \\ Squared \\ Errors} = \\frac{MSR}{MSE}$$"
   ]
  },
  {
   "cell_type": "markdown",
   "metadata": {},
   "source": [
    "$$ where \\ k = number\\ of\\ groups, N\\ = sample\\ size\\ of\\ each\\ group $$"
   ]
  },
  {
   "cell_type": "code",
   "execution_count": 30,
   "metadata": {},
   "outputs": [],
   "source": [
    "# comparing 3 different regions\n",
    "N = len(zone1_cardspent_means)+len(zone2_cardspent_means)+len(zone3_cardspent_means)\n",
    "## number of groups\n",
    "k = 3\n",
    "\n",
    "dof_between = k-1\n",
    "dof_within = N-k"
   ]
  },
  {
   "cell_type": "markdown",
   "metadata": {},
   "source": [
    "#### Sum of Squares Within Samples (Sum of Squared Errors)"
   ]
  },
  {
   "cell_type": "code",
   "execution_count": 31,
   "metadata": {},
   "outputs": [
    {
     "data": {
      "text/plain": [
       "172464.20847104205"
      ]
     },
     "execution_count": 31,
     "metadata": {},
     "output_type": "execute_result"
    }
   ],
   "source": [
    "SSWS = np.sum((zone1_cardspent_means-np.mean(zone1_cardspent_means))**2)+np.sum((zone2_cardspent_means-np.mean(zone2_cardspent_means))**2)+np.sum((zone3_cardspent_means-np.mean(zone3_cardspent_means))**2)\n",
    "SSWS"
   ]
  },
  {
   "cell_type": "markdown",
   "metadata": {},
   "source": [
    "#### Total Sum of Squares"
   ]
  },
  {
   "cell_type": "code",
   "execution_count": 32,
   "metadata": {},
   "outputs": [],
   "source": [
    "TSS = np.sum((region_cardspent_data-np.mean(region_cardspent_data))**2)"
   ]
  },
  {
   "cell_type": "markdown",
   "metadata": {},
   "source": [
    "#### Sum of Squares between Samples (Regression Sum of Squares) = TSS - SSWS"
   ]
  },
  {
   "cell_type": "code",
   "execution_count": 33,
   "metadata": {},
   "outputs": [
    {
     "data": {
      "text/plain": [
       "432227.3498736658"
      ]
     },
     "execution_count": 33,
     "metadata": {},
     "output_type": "execute_result"
    }
   ],
   "source": [
    "SSBS = TSS-SSWS\n",
    "SSBS"
   ]
  },
  {
   "cell_type": "markdown",
   "metadata": {},
   "source": [
    "#### F test"
   ]
  },
  {
   "cell_type": "code",
   "execution_count": 34,
   "metadata": {},
   "outputs": [
    {
     "data": {
      "text/plain": [
       "3755.5194177836634"
      ]
     },
     "execution_count": 34,
     "metadata": {},
     "output_type": "execute_result"
    }
   ],
   "source": [
    "numerator = SSBS/dof_between\n",
    "denominator = SSWS/dof_within\n",
    "# Calculating F fraction\n",
    "F = numerator/denominator\n",
    "F"
   ]
  },
  {
   "cell_type": "markdown",
   "metadata": {},
   "source": [
    "#### Calculate p-value"
   ]
  },
  {
   "cell_type": "code",
   "execution_count": 35,
   "metadata": {},
   "outputs": [
    {
     "data": {
      "text/plain": [
       "0.0"
      ]
     },
     "execution_count": 35,
     "metadata": {},
     "output_type": "execute_result"
    }
   ],
   "source": [
    "p = stats.f.sf(F,dof_between,dof_within)\n",
    "p"
   ]
  },
  {
   "cell_type": "markdown",
   "metadata": {},
   "source": [
    "#### Another way to get F and p-value "
   ]
  },
  {
   "cell_type": "code",
   "execution_count": 36,
   "metadata": {},
   "outputs": [
    {
     "name": "stdout",
     "output_type": "stream",
     "text": [
      "3755.519417783665 0.0\n"
     ]
    }
   ],
   "source": [
    "f,p = stats.f_oneway(zone1_cardspent_means,zone2_cardspent_means,zone3_cardspent_means)\n",
    "print(f,p)"
   ]
  },
  {
   "cell_type": "markdown",
   "metadata": {},
   "source": [
    "#### Plot Results"
   ]
  },
  {
   "cell_type": "code",
   "execution_count": 37,
   "metadata": {},
   "outputs": [
    {
     "data": {
      "image/png": "[encoded data removed]",
      "text/plain": [
       "<Figure size 864x576 with 1 Axes>"
      ]
     },
     "metadata": {
      "needs_background": "light"
     },
     "output_type": "display_data"
    }
   ],
   "source": [
    "from scipy.stats import f, norm\n",
    "def plot_f_distrubiton():\n",
    "    # Set figure \n",
    "    plt.figure(figsize=(12, 8))\n",
    "    \n",
    "    # Set degrees of freedom\n",
    "    dfn, dfd = (k-1), (N-k)\n",
    "    rejection_reg = f.ppf(q=.95, dfn=dfn, dfd=dfd)\n",
    "    mean, var, skew, kurt = f.stats(dfn, dfd, moments='mvsk')\n",
    "    \n",
    "    x = np.linspace(f.ppf(0.01, dfn, dfd), \n",
    "                    f.ppf(0.99, dfn, dfd), 100)\n",
    "    \n",
    "    # Plot values\n",
    "    plt.plot(x, f.pdf(x, dfn, dfd), alpha=0.6, \n",
    "             label=' X ~ F({}, {})'.format(dfn, dfd))\n",
    "    plt.vlines(rejection_reg, 0.0, 1.0, \n",
    "               linestyles=\"dashdot\", label=\"Crit. Value: {:.2f}\".format(rejection_reg))\n",
    "    plt.legend()\n",
    "    plt.title('F-Distribution dfn:{}, dfd:{}'.format(dfn, dfd))\n",
    "plot_f_distrubiton();"
   ]
  },
  {
   "cell_type": "markdown",
   "metadata": {},
   "source": [
    "#### Conclusion: p < 0.05 (significance level) at f value, Reject null hypothethis, the region does influence the expenditure with card payment"
   ]
  },
  {
   "cell_type": "markdown",
   "metadata": {},
   "source": [
    "# 3 Hypothesis Testing on a Statistical Property Other than the Mean\n",
    "\n",
    "Question: In most cases we compare means in the hypothesis testing, either means of groups or sample mean vs. population mean. Can we compare some other statistical properties in our hypoth- esis testing like population proportion or population variance? Provide an IPython example for hypothesis testing comparing something else than means."
   ]
  },
  {
   "cell_type": "markdown",
   "metadata": {},
   "source": [
    "In this example, hypothesis testing will be performed on population variance in commute time. Using the sample variance, we want to infer something about the population variance. This is known as the \"test for one variance\" or \"one sample hypothesis testing\".\n",
    "\n",
    "$H_0$: Population variance of commute time is 35. <br>\n",
    "$H_a$: Population variance of commute time is greater than 35. <br>\n",
    "Significance level ($\\alpha$) is 5% <br>\n",
    "\n",
    "Assuming the commute time is normally distributed, the chi-squared statistic would be appropriate for this test.\n",
    "\n",
    "Chi-square Test Reference: <br>\n",
    "https://www.youtube.com/watch?v=PweabcpqzYI&ab_channel=jbstatistics <br>\n",
    "https://www.itl.nist.gov/div898/handbook/eda/section3/eda358.htm#:~:text=A%20chi%2Dsquare%20test%20(%20Snedecor,equal%20to%20a%20specified%20value.&text=The%20two%2Dsided%20version%20tests,greater%20than%20the%20specified%20value."
   ]
  },
  {
   "cell_type": "markdown",
   "metadata": {},
   "source": [
    "#### Set up hypothesis"
   ]
  },
  {
   "cell_type": "code",
   "execution_count": 38,
   "metadata": {},
   "outputs": [],
   "source": [
    "hypothesized_pop_var = 35"
   ]
  },
  {
   "cell_type": "markdown",
   "metadata": {},
   "source": [
    "#### Extract commute time column from the dataset"
   ]
  },
  {
   "cell_type": "code",
   "execution_count": 39,
   "metadata": {},
   "outputs": [
    {
     "name": "stdout",
     "output_type": "stream",
     "text": [
      "      commutetime\n",
      "0            22.0\n",
      "1            29.0\n",
      "2            24.0\n",
      "3            38.0\n",
      "4            32.0\n",
      "...           ...\n",
      "4995         32.0\n",
      "4996         12.0\n",
      "4997         32.0\n",
      "4998         21.0\n",
      "4999         22.0\n",
      "\n",
      "[5000 rows x 1 columns]\n"
     ]
    }
   ],
   "source": [
    "commutetime_df = df[['commutetime']]\n",
    "print(commutetime_df)"
   ]
  },
  {
   "cell_type": "markdown",
   "metadata": {},
   "source": [
    "#### Drop rows without commute times"
   ]
  },
  {
   "cell_type": "code",
   "execution_count": 40,
   "metadata": {},
   "outputs": [
    {
     "data": {
      "text/plain": [
       "(4998, 1)"
      ]
     },
     "execution_count": 40,
     "metadata": {},
     "output_type": "execute_result"
    }
   ],
   "source": [
    "commutetime_df = commutetime_df.dropna()\n",
    "commutetime_df.shape"
   ]
  },
  {
   "cell_type": "markdown",
   "metadata": {},
   "source": [
    "#### Check if the assumption that commute time is approximately normally distributed holds"
   ]
  },
  {
   "cell_type": "code",
   "execution_count": 41,
   "metadata": {},
   "outputs": [
    {
     "data": {
      "image/png": "[encoded data removed]",
      "text/plain": [
       "<Figure size 432x288 with 1 Axes>"
      ]
     },
     "metadata": {
      "needs_background": "light"
     },
     "output_type": "display_data"
    }
   ],
   "source": [
    "commutetime_df.hist()\n",
    "plt.xlabel('minutes')\n",
    "plt.ylabel('frequency')\n",
    "plt.title('commute time distribution')\n",
    "plt.show()"
   ]
  },
  {
   "cell_type": "markdown",
   "metadata": {},
   "source": [
    "#### Compute sample variance"
   ]
  },
  {
   "cell_type": "code",
   "execution_count": 42,
   "metadata": {},
   "outputs": [
    {
     "name": "stdout",
     "output_type": "stream",
     "text": [
      "commutetime    34.70004\n",
      "dtype: float64\n"
     ]
    }
   ],
   "source": [
    "sampleVar = commutetime_df.var()\n",
    "print(sampleVar)"
   ]
  },
  {
   "cell_type": "markdown",
   "metadata": {},
   "source": [
    "#### Compute chi-squared test statistic "
   ]
  },
  {
   "cell_type": "code",
   "execution_count": 43,
   "metadata": {},
   "outputs": [
    {
     "name": "stdout",
     "output_type": "stream",
     "text": [
      "commutetime    4954.174338\n",
      "dtype: float64\n"
     ]
    }
   ],
   "source": [
    "chisq = (len(commutetime_df)-1)*sampleVar/hypothesized_pop_var\n",
    "print(chisq)"
   ]
  },
  {
   "cell_type": "markdown",
   "metadata": {},
   "source": [
    "#### Calculate p-value"
   ]
  },
  {
   "cell_type": "code",
   "execution_count": 44,
   "metadata": {},
   "outputs": [
    {
     "name": "stdout",
     "output_type": "stream",
     "text": [
      "[0.66383106]\n"
     ]
    }
   ],
   "source": [
    "p = 1-stats.chi2.cdf(chisq, len(commutetime_df)-1)\n",
    "print(p)"
   ]
  },
  {
   "cell_type": "markdown",
   "metadata": {},
   "source": [
    "#### Plot hypothesis testing result"
   ]
  },
  {
   "cell_type": "code",
   "execution_count": 45,
   "metadata": {},
   "outputs": [
    {
     "data": {
      "image/png": "[encoded data removed]",
      "text/plain": [
       "<Figure size 432x288 with 1 Axes>"
      ]
     },
     "metadata": {
      "needs_background": "light"
     },
     "output_type": "display_data"
    }
   ],
   "source": [
    "dfn = len(commutetime_df)-1\n",
    "x = np.linspace(stats.chi2.ppf(0.001, dfn),stats.chi2.ppf(0.999, dfn), 1000)\n",
    "y = stats.chi2(dfn)\n",
    "plt.plot(x, y.pdf(x), lw=2, label='chi-squared distribution (4997 DOF)')\n",
    "plt.vlines(chisq, 0, 0.004, color = 'red', label='test statistic')\n",
    "\n",
    "rejection_region = np.arange(stats.chi2.ppf(0.95, dfn), stats.chi2.ppf(0.999, dfn), 1)\n",
    "plt.fill_between(rejection_region,y.pdf(rejection_region), label = \"rejection region\")\n",
    "plt.legend(loc='upper center', bbox_to_anchor=(0.5, -0.2),\n",
    "          fancybox=True, ncol=5)\n",
    "plt.title(\"Hypothesis Testing Result\")\n",
    "plt.xlabel(\"Chi-squared test statistic\")\n",
    "plt.ylabel (\"Probability Density\")\n",
    "plt.show()"
   ]
  },
  {
   "cell_type": "markdown",
   "metadata": {},
   "source": [
    "#### Conclusion: Since the p value is greater than alpha, we don't have enough evidence to reject the null hypothesis"
   ]
  },
  {
   "cell_type": "markdown",
   "metadata": {},
   "source": [
    "# 4 A/B Testing\n",
    "\n",
    "Question: Find your own additional dataset to describe and illustrate “A/B testing” to statistically test differences in average revenue per paying user, click-rate conversion, number of sales made, number of registrations, etc. “A/B testing” is an application of statistical hypothesis testing in web- and marketing-analytics.\n"
   ]
  },
  {
   "cell_type": "markdown",
   "metadata": {},
   "source": [
    "The data for this A/B Testing is from:\n",
    "https://www.datacamp.com/projects/184\n",
    "\n",
    "(Public dataset can found at the Kaggle links below.)\n",
    "\n",
    "The senario is regarding to a mobile game called \"Cookie CATS\" and the A/B testing is between the control version of the game with 30 Levels and the Test version of the game with 40 levels. The objective is to increase retention rate and the data collected are retention after 1 day and retention after 7 days.\n",
    "\n",
    "Reference:\n",
    "https://towardsdatascience.com/the-math-behind-a-b-testing-with-example-code-part-1-of-2-7be752e1d06f\n",
    "\n",
    "https://www.kaggle.com/yufengsui/mobile-games-ab-testing\n",
    "\n",
    "https://www.kaggle.com/conorm97/mobile-games-a-b-testing-datacamp-project"
   ]
  },
  {
   "cell_type": "markdown",
   "metadata": {},
   "source": [
    "#### Read data"
   ]
  },
  {
   "cell_type": "code",
   "execution_count": 46,
   "metadata": {},
   "outputs": [
    {
     "data": {
      "text/html": [
       "<div>\n",
       "<style scoped>\n",
       "    .dataframe tbody tr th:only-of-type {\n",
       "        vertical-align: middle;\n",
       "    }\n",
       "\n",
       "    .dataframe tbody tr th {\n",
       "        vertical-align: top;\n",
       "    }\n",
       "\n",
       "    .dataframe thead th {\n",
       "        text-align: right;\n",
       "    }\n",
       "</style>\n",
       "<table border=\"1\" class=\"dataframe\">\n",
       "  <thead>\n",
       "    <tr style=\"text-align: right;\">\n",
       "      <th></th>\n",
       "      <th>userid</th>\n",
       "      <th>version</th>\n",
       "      <th>sum_gamerounds</th>\n",
       "      <th>retention_1</th>\n",
       "      <th>retention_7</th>\n",
       "    </tr>\n",
       "  </thead>\n",
       "  <tbody>\n",
       "    <tr>\n",
       "      <th>0</th>\n",
       "      <td>116</td>\n",
       "      <td>gate_30</td>\n",
       "      <td>3</td>\n",
       "      <td>False</td>\n",
       "      <td>False</td>\n",
       "    </tr>\n",
       "    <tr>\n",
       "      <th>1</th>\n",
       "      <td>337</td>\n",
       "      <td>gate_30</td>\n",
       "      <td>38</td>\n",
       "      <td>True</td>\n",
       "      <td>False</td>\n",
       "    </tr>\n",
       "    <tr>\n",
       "      <th>2</th>\n",
       "      <td>377</td>\n",
       "      <td>gate_40</td>\n",
       "      <td>165</td>\n",
       "      <td>True</td>\n",
       "      <td>False</td>\n",
       "    </tr>\n",
       "    <tr>\n",
       "      <th>3</th>\n",
       "      <td>483</td>\n",
       "      <td>gate_40</td>\n",
       "      <td>1</td>\n",
       "      <td>False</td>\n",
       "      <td>False</td>\n",
       "    </tr>\n",
       "    <tr>\n",
       "      <th>4</th>\n",
       "      <td>488</td>\n",
       "      <td>gate_40</td>\n",
       "      <td>179</td>\n",
       "      <td>True</td>\n",
       "      <td>True</td>\n",
       "    </tr>\n",
       "    <tr>\n",
       "      <th>...</th>\n",
       "      <td>...</td>\n",
       "      <td>...</td>\n",
       "      <td>...</td>\n",
       "      <td>...</td>\n",
       "      <td>...</td>\n",
       "    </tr>\n",
       "    <tr>\n",
       "      <th>90184</th>\n",
       "      <td>9999441</td>\n",
       "      <td>gate_40</td>\n",
       "      <td>97</td>\n",
       "      <td>True</td>\n",
       "      <td>False</td>\n",
       "    </tr>\n",
       "    <tr>\n",
       "      <th>90185</th>\n",
       "      <td>9999479</td>\n",
       "      <td>gate_40</td>\n",
       "      <td>30</td>\n",
       "      <td>False</td>\n",
       "      <td>False</td>\n",
       "    </tr>\n",
       "    <tr>\n",
       "      <th>90186</th>\n",
       "      <td>9999710</td>\n",
       "      <td>gate_30</td>\n",
       "      <td>28</td>\n",
       "      <td>True</td>\n",
       "      <td>False</td>\n",
       "    </tr>\n",
       "    <tr>\n",
       "      <th>90187</th>\n",
       "      <td>9999768</td>\n",
       "      <td>gate_40</td>\n",
       "      <td>51</td>\n",
       "      <td>True</td>\n",
       "      <td>False</td>\n",
       "    </tr>\n",
       "    <tr>\n",
       "      <th>90188</th>\n",
       "      <td>9999861</td>\n",
       "      <td>gate_40</td>\n",
       "      <td>16</td>\n",
       "      <td>False</td>\n",
       "      <td>False</td>\n",
       "    </tr>\n",
       "  </tbody>\n",
       "</table>\n",
       "<p>90189 rows × 5 columns</p>\n",
       "</div>"
      ],
      "text/plain": [
       "        userid  version  sum_gamerounds  retention_1  retention_7\n",
       "0          116  gate_30               3        False        False\n",
       "1          337  gate_30              38         True        False\n",
       "2          377  gate_40             165         True        False\n",
       "3          483  gate_40               1        False        False\n",
       "4          488  gate_40             179         True         True\n",
       "...        ...      ...             ...          ...          ...\n",
       "90184  9999441  gate_40              97         True        False\n",
       "90185  9999479  gate_40              30        False        False\n",
       "90186  9999710  gate_30              28         True        False\n",
       "90187  9999768  gate_40              51         True        False\n",
       "90188  9999861  gate_40              16        False        False\n",
       "\n",
       "[90189 rows x 5 columns]"
      ]
     },
     "execution_count": 46,
     "metadata": {},
     "output_type": "execute_result"
    }
   ],
   "source": [
    "df = pd.read_csv(\"cookie_cats.csv\")\n",
    "df"
   ]
  },
  {
   "cell_type": "markdown",
   "metadata": {},
   "source": [
    "#### Check the data"
   ]
  },
  {
   "cell_type": "code",
   "execution_count": 47,
   "metadata": {},
   "outputs": [
    {
     "name": "stdout",
     "output_type": "stream",
     "text": [
      "<class 'pandas.core.frame.DataFrame'>\n",
      "RangeIndex: 90189 entries, 0 to 90188\n",
      "Data columns (total 5 columns):\n",
      " #   Column          Non-Null Count  Dtype \n",
      "---  ------          --------------  ----- \n",
      " 0   userid          90189 non-null  int64 \n",
      " 1   version         90189 non-null  object\n",
      " 2   sum_gamerounds  90189 non-null  int64 \n",
      " 3   retention_1     90189 non-null  bool  \n",
      " 4   retention_7     90189 non-null  bool  \n",
      "dtypes: bool(2), int64(2), object(1)\n",
      "memory usage: 2.2+ MB\n"
     ]
    },
    {
     "data": {
      "text/html": [
       "<div>\n",
       "<style scoped>\n",
       "    .dataframe tbody tr th:only-of-type {\n",
       "        vertical-align: middle;\n",
       "    }\n",
       "\n",
       "    .dataframe tbody tr th {\n",
       "        vertical-align: top;\n",
       "    }\n",
       "\n",
       "    .dataframe thead th {\n",
       "        text-align: right;\n",
       "    }\n",
       "</style>\n",
       "<table border=\"1\" class=\"dataframe\">\n",
       "  <thead>\n",
       "    <tr style=\"text-align: right;\">\n",
       "      <th></th>\n",
       "      <th>userid</th>\n",
       "      <th>sum_gamerounds</th>\n",
       "      <th>retention_1</th>\n",
       "      <th>retention_7</th>\n",
       "    </tr>\n",
       "    <tr>\n",
       "      <th>version</th>\n",
       "      <th></th>\n",
       "      <th></th>\n",
       "      <th></th>\n",
       "      <th></th>\n",
       "    </tr>\n",
       "  </thead>\n",
       "  <tbody>\n",
       "    <tr>\n",
       "      <th>gate_30</th>\n",
       "      <td>44700</td>\n",
       "      <td>44700</td>\n",
       "      <td>44700</td>\n",
       "      <td>44700</td>\n",
       "    </tr>\n",
       "    <tr>\n",
       "      <th>gate_40</th>\n",
       "      <td>45489</td>\n",
       "      <td>45489</td>\n",
       "      <td>45489</td>\n",
       "      <td>45489</td>\n",
       "    </tr>\n",
       "  </tbody>\n",
       "</table>\n",
       "</div>"
      ],
      "text/plain": [
       "         userid  sum_gamerounds  retention_1  retention_7\n",
       "version                                                  \n",
       "gate_30   44700           44700        44700        44700\n",
       "gate_40   45489           45489        45489        45489"
      ]
     },
     "execution_count": 47,
     "metadata": {},
     "output_type": "execute_result"
    }
   ],
   "source": [
    "df.info()\n",
    "df.groupby('version').count()"
   ]
  },
  {
   "cell_type": "markdown",
   "metadata": {},
   "source": [
    "#### Quick calculation of the mean"
   ]
  },
  {
   "cell_type": "code",
   "execution_count": 48,
   "metadata": {},
   "outputs": [
    {
     "data": {
      "text/html": [
       "<div>\n",
       "<style scoped>\n",
       "    .dataframe tbody tr th:only-of-type {\n",
       "        vertical-align: middle;\n",
       "    }\n",
       "\n",
       "    .dataframe tbody tr th {\n",
       "        vertical-align: top;\n",
       "    }\n",
       "\n",
       "    .dataframe thead th {\n",
       "        text-align: right;\n",
       "    }\n",
       "</style>\n",
       "<table border=\"1\" class=\"dataframe\">\n",
       "  <thead>\n",
       "    <tr style=\"text-align: right;\">\n",
       "      <th></th>\n",
       "      <th>retention_1</th>\n",
       "    </tr>\n",
       "    <tr>\n",
       "      <th>version</th>\n",
       "      <th></th>\n",
       "    </tr>\n",
       "  </thead>\n",
       "  <tbody>\n",
       "    <tr>\n",
       "      <th>gate_30</th>\n",
       "      <td>0.448188</td>\n",
       "    </tr>\n",
       "    <tr>\n",
       "      <th>gate_40</th>\n",
       "      <td>0.442283</td>\n",
       "    </tr>\n",
       "  </tbody>\n",
       "</table>\n",
       "</div>"
      ],
      "text/plain": [
       "         retention_1\n",
       "version             \n",
       "gate_30     0.448188\n",
       "gate_40     0.442283"
      ]
     },
     "execution_count": 48,
     "metadata": {},
     "output_type": "execute_result"
    }
   ],
   "source": [
    "df.pivot_table(values='retention_1', index='version', aggfunc=np.mean)"
   ]
  },
  {
   "cell_type": "markdown",
   "metadata": {},
   "source": [
    "## 4.1 Using the T-Test Methods for A/B Testing"
   ]
  },
  {
   "cell_type": "markdown",
   "metadata": {},
   "source": [
    "#### Extract data into control and test group"
   ]
  },
  {
   "cell_type": "code",
   "execution_count": 49,
   "metadata": {},
   "outputs": [],
   "source": [
    "# gate_30 is control group\n",
    "gate_30_df = df.loc[df['version'] == 'gate_30']\n",
    "\n",
    "# gate_40 is test group\n",
    "gate_40_df = df.loc[df['version'] == 'gate_40']"
   ]
  },
  {
   "cell_type": "markdown",
   "metadata": {},
   "source": [
    "### 4.1.1 1-Day Retention A/B Testing"
   ]
  },
  {
   "cell_type": "markdown",
   "metadata": {},
   "source": [
    "#### Convert to numpy array"
   ]
  },
  {
   "cell_type": "code",
   "execution_count": 50,
   "metadata": {},
   "outputs": [],
   "source": [
    "gate_30_ar = gate_30_df['retention_1'].to_numpy()\n",
    "gate_40_ar = gate_40_df['retention_1'].to_numpy()\n",
    "#gate_30_ar\n",
    "#gate_40_ar"
   ]
  },
  {
   "cell_type": "markdown",
   "metadata": {},
   "source": [
    "#### Perform bootstrapping and plot results"
   ]
  },
  {
   "cell_type": "code",
   "execution_count": 51,
   "metadata": {},
   "outputs": [
    {
     "data": {
      "text/plain": [
       "Text(0.5, 1.0, '30-Level vs 40-Level Game 1-Day Retention Rate')"
      ]
     },
     "execution_count": 51,
     "metadata": {},
     "output_type": "execute_result"
    },
    {
     "data": {
      "image/png": "[encoded data removed]",
      "text/plain": [
       "<Figure size 432x288 with 1 Axes>"
      ]
     },
     "metadata": {
      "needs_background": "light"
     },
     "output_type": "display_data"
    }
   ],
   "source": [
    "group = 1000 #number of times to re-sample\n",
    "\n",
    "gate_30_avg = []\n",
    "gate_40_avg = []\n",
    "for i in range(group):\n",
    "    gate_30_1d_avg = np.mean(gate_30_ar[np.random.randint(len(gate_30_ar), size = len(gate_30_ar))])\n",
    "    gate_40_1d_avg = np.mean(gate_40_ar[np.random.randint(len(gate_40_ar), size = len(gate_40_ar))])\n",
    "    gate_30_avg.append(gate_30_1d_avg)\n",
    "    gate_40_avg.append(gate_40_1d_avg)\n",
    "    \n",
    "plt.hist(gate_30_avg, bins = 20, label = '30-Level', alpha = 0.5)\n",
    "plt.hist(gate_40_avg, bins = 20, label = '40-Level', alpha = 0.5)\n",
    "plt.legend()\n",
    "plt.xlabel('Retention Rate')\n",
    "plt.ylabel('Frequency')\n",
    "plt.title('30-Level vs 40-Level Game 1-Day Retention Rate')"
   ]
  },
  {
   "cell_type": "markdown",
   "metadata": {},
   "source": [
    "#### Hypothesis testing"
   ]
  },
  {
   "cell_type": "code",
   "execution_count": 52,
   "metadata": {},
   "outputs": [
    {
     "name": "stdout",
     "output_type": "stream",
     "text": [
      "0.0 Reject null hypothesis. 30 Levels design have higher retention.\n"
     ]
    }
   ],
   "source": [
    "ttest, pval= stats.ttest_ind(gate_30_avg, gate_40_avg)\n",
    "\n",
    "if pval < 0.05:\n",
    "    print(pval,\"Reject null hypothesis. 30 Levels design have higher retention.\")\n",
    "else:\n",
    "    print(pval,\"Fail to rejecy null hypothesis\")"
   ]
  },
  {
   "cell_type": "markdown",
   "metadata": {},
   "source": [
    "#### Conclusion: Reject the null hypothesis since the p-value is smaller than $\\alpha$"
   ]
  },
  {
   "cell_type": "markdown",
   "metadata": {},
   "source": [
    "### 4.1.2 7-Day Retention A/B Testing"
   ]
  },
  {
   "cell_type": "markdown",
   "metadata": {},
   "source": [
    "#### Convert 7-day retention data to numpy array"
   ]
  },
  {
   "cell_type": "code",
   "execution_count": 53,
   "metadata": {},
   "outputs": [],
   "source": [
    "gate_30_7d_ar = gate_30_df['retention_7'].to_numpy()\n",
    "gate_40_7d_ar = gate_40_df['retention_7'].to_numpy()"
   ]
  },
  {
   "cell_type": "markdown",
   "metadata": {},
   "source": [
    "#### Perform bootstrapping and plot results"
   ]
  },
  {
   "cell_type": "code",
   "execution_count": 54,
   "metadata": {},
   "outputs": [
    {
     "data": {
      "text/plain": [
       "Text(0.5, 1.0, '30-Level vs 40-Level Game 7-Day Retention Rate')"
      ]
     },
     "execution_count": 54,
     "metadata": {},
     "output_type": "execute_result"
    },
    {
     "data": {
      "image/png": "[encoded data removed]",
      "text/plain": [
       "<Figure size 432x288 with 1 Axes>"
      ]
     },
     "metadata": {
      "needs_background": "light"
     },
     "output_type": "display_data"
    }
   ],
   "source": [
    "group = 1000 #number of times to re-sample\n",
    "\n",
    "gate_30_7d_avg = []\n",
    "gate_40_7d_avg = []\n",
    "for i in range(group):\n",
    "    gate_30_7d_mean = np.mean(gate_30_7d_ar[np.random.randint(len(gate_30_7d_ar), size = len(gate_30_7d_ar))])\n",
    "    gate_40_7d_mean = np.mean(gate_40_7d_ar[np.random.randint(len(gate_40_7d_ar), size = len(gate_40_7d_ar))])\n",
    "    gate_30_7d_avg.append(gate_30_7d_mean)\n",
    "    gate_40_7d_avg.append(gate_40_7d_mean)\n",
    "    \n",
    "plt.hist(gate_30_7d_avg, bins = 20, label = '30-Level', alpha = 0.5)\n",
    "plt.hist(gate_40_7d_avg, bins = 20, label = '40-Level', alpha = 0.5)\n",
    "plt.legend()\n",
    "plt.xlabel('Retention Rate')\n",
    "plt.ylabel('Frequency')\n",
    "plt.title('30-Level vs 40-Level Game 7-Day Retention Rate')"
   ]
  },
  {
   "cell_type": "markdown",
   "metadata": {},
   "source": [
    "#### Hypothesis testing"
   ]
  },
  {
   "cell_type": "code",
   "execution_count": 57,
   "metadata": {},
   "outputs": [
    {
     "name": "stdout",
     "output_type": "stream",
     "text": [
      "0.0 Reject null hypothesis. 30 Levels design have higher retention.\n"
     ]
    }
   ],
   "source": [
    "ttest, pval= stats.ttest_ind(gate_30_7d_avg, gate_40_7d_avg)\n",
    "\n",
    "if pval < 0.05:\n",
    "    print(pval,\"Reject null hypothesis. 30 Levels design have higher retention.\")\n",
    "else:\n",
    "    print(pval,\"Fail to rejct null hypothesis\")"
   ]
  },
  {
   "cell_type": "markdown",
   "metadata": {},
   "source": [
    "#### Conclusion: Reject the null hypothesis since the p-value is smaller than $\\alpha$"
   ]
  },
  {
   "cell_type": "markdown",
   "metadata": {},
   "source": [
    "## 4.2 A/B Testing Conclusion\n",
    "Since the Null hypotheses are rejected for both the 1-day retention and 7-day retention data, there are strong evidence that the Control Group of playing a 30 level game have a high retention rate than the Test Group of playing a 40 levels game."
   ]
  }
 ],
 "metadata": {
  "kernelspec": {
   "display_name": "Python 3",
   "language": "python",
   "name": "python3"
  },
  "language_info": {
   "codemirror_mode": {
    "name": "ipython",
    "version": 3
   },
   "file_extension": ".py",
   "mimetype": "text/x-python",
   "name": "python",
   "nbconvert_exporter": "python",
   "pygments_lexer": "ipython3",
   "version": "3.8.3"
  }
 },
 "nbformat": 4,
 "nbformat_minor": 4
}
