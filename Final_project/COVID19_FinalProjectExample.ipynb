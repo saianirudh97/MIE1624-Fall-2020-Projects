{
 "cells": [
  {
   "cell_type": "markdown",
   "metadata": {},
   "source": [
    "# COVID-19 Modeling Final Project Approach Examples."
   ]
  },
  {
   "cell_type": "markdown",
   "metadata": {},
   "source": [
    "### Install relevant libraries\n",
    "\n",
    "#### Import libraries"
   ]
  },
  {
   "cell_type": "code",
   "execution_count": 1,
   "metadata": {},
   "outputs": [],
   "source": [
    "# imports\n",
    "import pandas as pd\n",
    "import numpy as np\n",
    "import matplotlib.pyplot as plt\n",
    "from matplotlib.dates import DateFormatter\n",
    "import matplotlib.dates as mdates\n",
    "import itertools\n",
    "import seaborn as sns\n",
    "import datetime as dt\n",
    "import matplotlib.pyplot as plt\n",
    "\n",
    "from scipy.optimize import curve_fit\n",
    "\n",
    "from sklearn.model_selection import train_test_split\n",
    "from sklearn.linear_model import LinearRegression\n",
    "from sklearn import metrics\n",
    "\n",
    "# show plots inline for notebooks\n",
    "%matplotlib inline\n",
    "\n",
    "#https://github.com/CSSEGISandData/COVID-19/blob/master/csse_covid_19_data/csse_covid_19_time_series/time_series_covid19_confirmed_US.csv\n"
   ]
  },
  {
   "cell_type": "markdown",
   "metadata": {},
   "source": [
    "## Part 1: Load and Clean Data\n",
    "\n",
    "Load data about COVID-19 by USA Counties into Pandas dataframe."
   ]
  },
  {
   "cell_type": "code",
   "execution_count": 5,
   "metadata": {},
   "outputs": [
    {
     "data": {
      "text/html": [
       "<div>\n",
       "<style scoped>\n",
       "    .dataframe tbody tr th:only-of-type {\n",
       "        vertical-align: middle;\n",
       "    }\n",
       "\n",
       "    .dataframe tbody tr th {\n",
       "        vertical-align: top;\n",
       "    }\n",
       "\n",
       "    .dataframe thead th {\n",
       "        text-align: right;\n",
       "    }\n",
       "</style>\n",
       "<table border=\"1\" class=\"dataframe\">\n",
       "  <thead>\n",
       "    <tr style=\"text-align: right;\">\n",
       "      <th></th>\n",
       "      <th>UID</th>\n",
       "      <th>iso2</th>\n",
       "      <th>iso3</th>\n",
       "      <th>code3</th>\n",
       "      <th>FIPS</th>\n",
       "      <th>Admin2</th>\n",
       "      <th>Province_State</th>\n",
       "      <th>Country_Region</th>\n",
       "      <th>Lat</th>\n",
       "      <th>Long_</th>\n",
       "      <th>...</th>\n",
       "      <th>11/18/20</th>\n",
       "      <th>11/19/20</th>\n",
       "      <th>11/20/20</th>\n",
       "      <th>11/21/20</th>\n",
       "      <th>11/22/20</th>\n",
       "      <th>11/23/20</th>\n",
       "      <th>11/24/20</th>\n",
       "      <th>11/25/20</th>\n",
       "      <th>11/26/20</th>\n",
       "      <th>11/27/20</th>\n",
       "    </tr>\n",
       "  </thead>\n",
       "  <tbody>\n",
       "    <tr>\n",
       "      <th>0</th>\n",
       "      <td>84001001</td>\n",
       "      <td>US</td>\n",
       "      <td>USA</td>\n",
       "      <td>840</td>\n",
       "      <td>1001.0</td>\n",
       "      <td>Autauga</td>\n",
       "      <td>Alabama</td>\n",
       "      <td>US</td>\n",
       "      <td>32.539527</td>\n",
       "      <td>-86.644082</td>\n",
       "      <td>...</td>\n",
       "      <td>2529</td>\n",
       "      <td>2554</td>\n",
       "      <td>2580</td>\n",
       "      <td>2597</td>\n",
       "      <td>2617</td>\n",
       "      <td>2634</td>\n",
       "      <td>2661</td>\n",
       "      <td>2686</td>\n",
       "      <td>2704</td>\n",
       "      <td>2716</td>\n",
       "    </tr>\n",
       "    <tr>\n",
       "      <th>1</th>\n",
       "      <td>84001003</td>\n",
       "      <td>US</td>\n",
       "      <td>USA</td>\n",
       "      <td>840</td>\n",
       "      <td>1003.0</td>\n",
       "      <td>Baldwin</td>\n",
       "      <td>Alabama</td>\n",
       "      <td>US</td>\n",
       "      <td>30.727750</td>\n",
       "      <td>-87.722071</td>\n",
       "      <td>...</td>\n",
       "      <td>7849</td>\n",
       "      <td>7933</td>\n",
       "      <td>8038</td>\n",
       "      <td>8131</td>\n",
       "      <td>8199</td>\n",
       "      <td>8269</td>\n",
       "      <td>8376</td>\n",
       "      <td>8473</td>\n",
       "      <td>8576</td>\n",
       "      <td>8603</td>\n",
       "    </tr>\n",
       "    <tr>\n",
       "      <th>2</th>\n",
       "      <td>84001005</td>\n",
       "      <td>US</td>\n",
       "      <td>USA</td>\n",
       "      <td>840</td>\n",
       "      <td>1005.0</td>\n",
       "      <td>Barbour</td>\n",
       "      <td>Alabama</td>\n",
       "      <td>US</td>\n",
       "      <td>31.868263</td>\n",
       "      <td>-85.387129</td>\n",
       "      <td>...</td>\n",
       "      <td>1137</td>\n",
       "      <td>1145</td>\n",
       "      <td>1151</td>\n",
       "      <td>1157</td>\n",
       "      <td>1160</td>\n",
       "      <td>1161</td>\n",
       "      <td>1167</td>\n",
       "      <td>1170</td>\n",
       "      <td>1170</td>\n",
       "      <td>1171</td>\n",
       "    </tr>\n",
       "    <tr>\n",
       "      <th>3</th>\n",
       "      <td>84001007</td>\n",
       "      <td>US</td>\n",
       "      <td>USA</td>\n",
       "      <td>840</td>\n",
       "      <td>1007.0</td>\n",
       "      <td>Bibb</td>\n",
       "      <td>Alabama</td>\n",
       "      <td>US</td>\n",
       "      <td>32.996421</td>\n",
       "      <td>-87.125115</td>\n",
       "      <td>...</td>\n",
       "      <td>1008</td>\n",
       "      <td>1011</td>\n",
       "      <td>1024</td>\n",
       "      <td>1036</td>\n",
       "      <td>1136</td>\n",
       "      <td>1142</td>\n",
       "      <td>1157</td>\n",
       "      <td>1162</td>\n",
       "      <td>1170</td>\n",
       "      <td>1173</td>\n",
       "    </tr>\n",
       "    <tr>\n",
       "      <th>4</th>\n",
       "      <td>84001009</td>\n",
       "      <td>US</td>\n",
       "      <td>USA</td>\n",
       "      <td>840</td>\n",
       "      <td>1009.0</td>\n",
       "      <td>Blount</td>\n",
       "      <td>Alabama</td>\n",
       "      <td>US</td>\n",
       "      <td>33.982109</td>\n",
       "      <td>-86.567906</td>\n",
       "      <td>...</td>\n",
       "      <td>2648</td>\n",
       "      <td>2683</td>\n",
       "      <td>2704</td>\n",
       "      <td>2735</td>\n",
       "      <td>2754</td>\n",
       "      <td>2763</td>\n",
       "      <td>2822</td>\n",
       "      <td>2855</td>\n",
       "      <td>2879</td>\n",
       "      <td>2888</td>\n",
       "    </tr>\n",
       "  </tbody>\n",
       "</table>\n",
       "<p>5 rows × 322 columns</p>\n",
       "</div>"
      ],
      "text/plain": [
       "        UID iso2 iso3  code3    FIPS   Admin2 Province_State Country_Region  \\\n",
       "0  84001001   US  USA    840  1001.0  Autauga        Alabama             US   \n",
       "1  84001003   US  USA    840  1003.0  Baldwin        Alabama             US   \n",
       "2  84001005   US  USA    840  1005.0  Barbour        Alabama             US   \n",
       "3  84001007   US  USA    840  1007.0     Bibb        Alabama             US   \n",
       "4  84001009   US  USA    840  1009.0   Blount        Alabama             US   \n",
       "\n",
       "         Lat      Long_  ... 11/18/20  11/19/20  11/20/20  11/21/20  11/22/20  \\\n",
       "0  32.539527 -86.644082  ...     2529      2554      2580      2597      2617   \n",
       "1  30.727750 -87.722071  ...     7849      7933      8038      8131      8199   \n",
       "2  31.868263 -85.387129  ...     1137      1145      1151      1157      1160   \n",
       "3  32.996421 -87.125115  ...     1008      1011      1024      1036      1136   \n",
       "4  33.982109 -86.567906  ...     2648      2683      2704      2735      2754   \n",
       "\n",
       "   11/23/20  11/24/20  11/25/20  11/26/20  11/27/20  \n",
       "0      2634      2661      2686      2704      2716  \n",
       "1      8269      8376      8473      8576      8603  \n",
       "2      1161      1167      1170      1170      1171  \n",
       "3      1142      1157      1162      1170      1173  \n",
       "4      2763      2822      2855      2879      2888  \n",
       "\n",
       "[5 rows x 322 columns]"
      ]
     },
     "execution_count": 5,
     "metadata": {},
     "output_type": "execute_result"
    }
   ],
   "source": [
    "rawJH = pd.read_csv('COVID-19-master/csse_covid_19_data/csse_covid_19_time_series/time_series_covid19_confirmed_US.csv')\n",
    "rawJH.head()"
   ]
  },
  {
   "cell_type": "code",
   "execution_count": 6,
   "metadata": {},
   "outputs": [
    {
     "data": {
      "text/html": [
       "<div>\n",
       "<style scoped>\n",
       "    .dataframe tbody tr th:only-of-type {\n",
       "        vertical-align: middle;\n",
       "    }\n",
       "\n",
       "    .dataframe tbody tr th {\n",
       "        vertical-align: top;\n",
       "    }\n",
       "\n",
       "    .dataframe thead th {\n",
       "        text-align: right;\n",
       "    }\n",
       "</style>\n",
       "<table border=\"1\" class=\"dataframe\">\n",
       "  <thead>\n",
       "    <tr style=\"text-align: right;\">\n",
       "      <th></th>\n",
       "      <th>UID</th>\n",
       "      <th>iso2</th>\n",
       "      <th>iso3</th>\n",
       "      <th>code3</th>\n",
       "      <th>FIPS</th>\n",
       "      <th>Admin2</th>\n",
       "      <th>Province_State</th>\n",
       "      <th>Country_Region</th>\n",
       "      <th>Lat</th>\n",
       "      <th>Long_</th>\n",
       "      <th>...</th>\n",
       "      <th>11/18/20</th>\n",
       "      <th>11/19/20</th>\n",
       "      <th>11/20/20</th>\n",
       "      <th>11/21/20</th>\n",
       "      <th>11/22/20</th>\n",
       "      <th>11/23/20</th>\n",
       "      <th>11/24/20</th>\n",
       "      <th>11/25/20</th>\n",
       "      <th>11/26/20</th>\n",
       "      <th>11/27/20</th>\n",
       "    </tr>\n",
       "  </thead>\n",
       "  <tbody>\n",
       "    <tr>\n",
       "      <th>3335</th>\n",
       "      <td>84056039</td>\n",
       "      <td>US</td>\n",
       "      <td>USA</td>\n",
       "      <td>840</td>\n",
       "      <td>56039.0</td>\n",
       "      <td>Teton</td>\n",
       "      <td>Wyoming</td>\n",
       "      <td>US</td>\n",
       "      <td>43.935225</td>\n",
       "      <td>-110.589080</td>\n",
       "      <td>...</td>\n",
       "      <td>1271</td>\n",
       "      <td>1298</td>\n",
       "      <td>1336</td>\n",
       "      <td>1360</td>\n",
       "      <td>1371</td>\n",
       "      <td>1433</td>\n",
       "      <td>1442</td>\n",
       "      <td>1476</td>\n",
       "      <td>1476</td>\n",
       "      <td>1547</td>\n",
       "    </tr>\n",
       "    <tr>\n",
       "      <th>3336</th>\n",
       "      <td>84056041</td>\n",
       "      <td>US</td>\n",
       "      <td>USA</td>\n",
       "      <td>840</td>\n",
       "      <td>56041.0</td>\n",
       "      <td>Uinta</td>\n",
       "      <td>Wyoming</td>\n",
       "      <td>US</td>\n",
       "      <td>41.287818</td>\n",
       "      <td>-110.547578</td>\n",
       "      <td>...</td>\n",
       "      <td>835</td>\n",
       "      <td>869</td>\n",
       "      <td>894</td>\n",
       "      <td>901</td>\n",
       "      <td>920</td>\n",
       "      <td>950</td>\n",
       "      <td>982</td>\n",
       "      <td>1016</td>\n",
       "      <td>1016</td>\n",
       "      <td>1037</td>\n",
       "    </tr>\n",
       "    <tr>\n",
       "      <th>3337</th>\n",
       "      <td>84090056</td>\n",
       "      <td>US</td>\n",
       "      <td>USA</td>\n",
       "      <td>840</td>\n",
       "      <td>90056.0</td>\n",
       "      <td>Unassigned</td>\n",
       "      <td>Wyoming</td>\n",
       "      <td>US</td>\n",
       "      <td>0.000000</td>\n",
       "      <td>0.000000</td>\n",
       "      <td>...</td>\n",
       "      <td>0</td>\n",
       "      <td>0</td>\n",
       "      <td>0</td>\n",
       "      <td>0</td>\n",
       "      <td>0</td>\n",
       "      <td>0</td>\n",
       "      <td>0</td>\n",
       "      <td>0</td>\n",
       "      <td>0</td>\n",
       "      <td>0</td>\n",
       "    </tr>\n",
       "    <tr>\n",
       "      <th>3338</th>\n",
       "      <td>84056043</td>\n",
       "      <td>US</td>\n",
       "      <td>USA</td>\n",
       "      <td>840</td>\n",
       "      <td>56043.0</td>\n",
       "      <td>Washakie</td>\n",
       "      <td>Wyoming</td>\n",
       "      <td>US</td>\n",
       "      <td>43.904516</td>\n",
       "      <td>-107.680187</td>\n",
       "      <td>...</td>\n",
       "      <td>263</td>\n",
       "      <td>274</td>\n",
       "      <td>290</td>\n",
       "      <td>298</td>\n",
       "      <td>315</td>\n",
       "      <td>325</td>\n",
       "      <td>339</td>\n",
       "      <td>395</td>\n",
       "      <td>395</td>\n",
       "      <td>415</td>\n",
       "    </tr>\n",
       "    <tr>\n",
       "      <th>3339</th>\n",
       "      <td>84056045</td>\n",
       "      <td>US</td>\n",
       "      <td>USA</td>\n",
       "      <td>840</td>\n",
       "      <td>56045.0</td>\n",
       "      <td>Weston</td>\n",
       "      <td>Wyoming</td>\n",
       "      <td>US</td>\n",
       "      <td>43.839612</td>\n",
       "      <td>-104.567488</td>\n",
       "      <td>...</td>\n",
       "      <td>353</td>\n",
       "      <td>355</td>\n",
       "      <td>364</td>\n",
       "      <td>366</td>\n",
       "      <td>372</td>\n",
       "      <td>372</td>\n",
       "      <td>383</td>\n",
       "      <td>386</td>\n",
       "      <td>386</td>\n",
       "      <td>396</td>\n",
       "    </tr>\n",
       "  </tbody>\n",
       "</table>\n",
       "<p>5 rows × 322 columns</p>\n",
       "</div>"
      ],
      "text/plain": [
       "           UID iso2 iso3  code3     FIPS      Admin2 Province_State  \\\n",
       "3335  84056039   US  USA    840  56039.0       Teton        Wyoming   \n",
       "3336  84056041   US  USA    840  56041.0       Uinta        Wyoming   \n",
       "3337  84090056   US  USA    840  90056.0  Unassigned        Wyoming   \n",
       "3338  84056043   US  USA    840  56043.0    Washakie        Wyoming   \n",
       "3339  84056045   US  USA    840  56045.0      Weston        Wyoming   \n",
       "\n",
       "     Country_Region        Lat       Long_  ... 11/18/20  11/19/20  11/20/20  \\\n",
       "3335             US  43.935225 -110.589080  ...     1271      1298      1336   \n",
       "3336             US  41.287818 -110.547578  ...      835       869       894   \n",
       "3337             US   0.000000    0.000000  ...        0         0         0   \n",
       "3338             US  43.904516 -107.680187  ...      263       274       290   \n",
       "3339             US  43.839612 -104.567488  ...      353       355       364   \n",
       "\n",
       "      11/21/20  11/22/20  11/23/20  11/24/20  11/25/20  11/26/20  11/27/20  \n",
       "3335      1360      1371      1433      1442      1476      1476      1547  \n",
       "3336       901       920       950       982      1016      1016      1037  \n",
       "3337         0         0         0         0         0         0         0  \n",
       "3338       298       315       325       339       395       395       415  \n",
       "3339       366       372       372       383       386       386       396  \n",
       "\n",
       "[5 rows x 322 columns]"
      ]
     },
     "execution_count": 6,
     "metadata": {},
     "output_type": "execute_result"
    }
   ],
   "source": [
    "rawJH.tail()"
   ]
  },
  {
   "cell_type": "code",
   "execution_count": 11,
   "metadata": {},
   "outputs": [
    {
     "name": "stdout",
     "output_type": "stream",
     "text": [
      "<class 'pandas.core.frame.DataFrame'>\n",
      "RangeIndex: 3340 entries, 0 to 3339\n",
      "Columns: 322 entries, UID to 11/27/20\n",
      "dtypes: float64(3), int64(313), object(6)\n",
      "memory usage: 8.2+ MB\n"
     ]
    }
   ],
   "source": [
    "rawJH.info()"
   ]
  },
  {
   "cell_type": "markdown",
   "metadata": {},
   "source": [
    "## I want to visualize data on a county in Texas"
   ]
  },
  {
   "cell_type": "code",
   "execution_count": 46,
   "metadata": {},
   "outputs": [
    {
     "name": "stdout",
     "output_type": "stream",
     "text": [
      "<class 'pandas.core.frame.DataFrame'>\n",
      "Int64Index: 256 entries, 2698 to 2953\n",
      "Columns: 322 entries, UID to 11/27/20\n",
      "dtypes: float64(3), int64(313), object(6)\n",
      "memory usage: 646.0+ KB\n"
     ]
    }
   ],
   "source": [
    "rawDFTex = rawDF[rawJH['Province_State'] == 'Texas']\n",
    "rawDFTex.info()"
   ]
  },
  {
   "cell_type": "code",
   "execution_count": 47,
   "metadata": {},
   "outputs": [
    {
     "data": {
      "text/html": [
       "<div>\n",
       "<style scoped>\n",
       "    .dataframe tbody tr th:only-of-type {\n",
       "        vertical-align: middle;\n",
       "    }\n",
       "\n",
       "    .dataframe tbody tr th {\n",
       "        vertical-align: top;\n",
       "    }\n",
       "\n",
       "    .dataframe thead th {\n",
       "        text-align: right;\n",
       "    }\n",
       "</style>\n",
       "<table border=\"1\" class=\"dataframe\">\n",
       "  <thead>\n",
       "    <tr style=\"text-align: right;\">\n",
       "      <th></th>\n",
       "      <th>UID</th>\n",
       "      <th>iso2</th>\n",
       "      <th>iso3</th>\n",
       "      <th>code3</th>\n",
       "      <th>FIPS</th>\n",
       "      <th>Admin2</th>\n",
       "      <th>Province_State</th>\n",
       "      <th>Country_Region</th>\n",
       "      <th>Lat</th>\n",
       "      <th>Long_</th>\n",
       "      <th>...</th>\n",
       "      <th>11/18/20</th>\n",
       "      <th>11/19/20</th>\n",
       "      <th>11/20/20</th>\n",
       "      <th>11/21/20</th>\n",
       "      <th>11/22/20</th>\n",
       "      <th>11/23/20</th>\n",
       "      <th>11/24/20</th>\n",
       "      <th>11/25/20</th>\n",
       "      <th>11/26/20</th>\n",
       "      <th>11/27/20</th>\n",
       "    </tr>\n",
       "  </thead>\n",
       "  <tbody>\n",
       "    <tr>\n",
       "      <th>2698</th>\n",
       "      <td>84048001</td>\n",
       "      <td>US</td>\n",
       "      <td>USA</td>\n",
       "      <td>840</td>\n",
       "      <td>48001.0</td>\n",
       "      <td>Anderson</td>\n",
       "      <td>Texas</td>\n",
       "      <td>US</td>\n",
       "      <td>31.815347</td>\n",
       "      <td>-95.653548</td>\n",
       "      <td>...</td>\n",
       "      <td>3095</td>\n",
       "      <td>3101</td>\n",
       "      <td>3092</td>\n",
       "      <td>3127</td>\n",
       "      <td>3127</td>\n",
       "      <td>3118</td>\n",
       "      <td>3143</td>\n",
       "      <td>3150</td>\n",
       "      <td>3171</td>\n",
       "      <td>3172</td>\n",
       "    </tr>\n",
       "    <tr>\n",
       "      <th>2699</th>\n",
       "      <td>84048003</td>\n",
       "      <td>US</td>\n",
       "      <td>USA</td>\n",
       "      <td>840</td>\n",
       "      <td>48003.0</td>\n",
       "      <td>Andrews</td>\n",
       "      <td>Texas</td>\n",
       "      <td>US</td>\n",
       "      <td>32.304686</td>\n",
       "      <td>-102.637655</td>\n",
       "      <td>...</td>\n",
       "      <td>926</td>\n",
       "      <td>940</td>\n",
       "      <td>940</td>\n",
       "      <td>977</td>\n",
       "      <td>977</td>\n",
       "      <td>977</td>\n",
       "      <td>977</td>\n",
       "      <td>1018</td>\n",
       "      <td>1018</td>\n",
       "      <td>1018</td>\n",
       "    </tr>\n",
       "    <tr>\n",
       "      <th>2700</th>\n",
       "      <td>84048005</td>\n",
       "      <td>US</td>\n",
       "      <td>USA</td>\n",
       "      <td>840</td>\n",
       "      <td>48005.0</td>\n",
       "      <td>Angelina</td>\n",
       "      <td>Texas</td>\n",
       "      <td>US</td>\n",
       "      <td>31.254573</td>\n",
       "      <td>-94.609015</td>\n",
       "      <td>...</td>\n",
       "      <td>2446</td>\n",
       "      <td>2497</td>\n",
       "      <td>2515</td>\n",
       "      <td>2515</td>\n",
       "      <td>2515</td>\n",
       "      <td>2515</td>\n",
       "      <td>2555</td>\n",
       "      <td>2587</td>\n",
       "      <td>2587</td>\n",
       "      <td>2587</td>\n",
       "    </tr>\n",
       "    <tr>\n",
       "      <th>2701</th>\n",
       "      <td>84048007</td>\n",
       "      <td>US</td>\n",
       "      <td>USA</td>\n",
       "      <td>840</td>\n",
       "      <td>48007.0</td>\n",
       "      <td>Aransas</td>\n",
       "      <td>Texas</td>\n",
       "      <td>US</td>\n",
       "      <td>28.105562</td>\n",
       "      <td>-96.999505</td>\n",
       "      <td>...</td>\n",
       "      <td>376</td>\n",
       "      <td>376</td>\n",
       "      <td>376</td>\n",
       "      <td>376</td>\n",
       "      <td>393</td>\n",
       "      <td>393</td>\n",
       "      <td>398</td>\n",
       "      <td>402</td>\n",
       "      <td>404</td>\n",
       "      <td>404</td>\n",
       "    </tr>\n",
       "    <tr>\n",
       "      <th>2702</th>\n",
       "      <td>84048009</td>\n",
       "      <td>US</td>\n",
       "      <td>USA</td>\n",
       "      <td>840</td>\n",
       "      <td>48009.0</td>\n",
       "      <td>Archer</td>\n",
       "      <td>Texas</td>\n",
       "      <td>US</td>\n",
       "      <td>33.615700</td>\n",
       "      <td>-98.687546</td>\n",
       "      <td>...</td>\n",
       "      <td>209</td>\n",
       "      <td>220</td>\n",
       "      <td>227</td>\n",
       "      <td>231</td>\n",
       "      <td>231</td>\n",
       "      <td>231</td>\n",
       "      <td>244</td>\n",
       "      <td>248</td>\n",
       "      <td>251</td>\n",
       "      <td>251</td>\n",
       "    </tr>\n",
       "  </tbody>\n",
       "</table>\n",
       "<p>5 rows × 322 columns</p>\n",
       "</div>"
      ],
      "text/plain": [
       "           UID iso2 iso3  code3     FIPS    Admin2 Province_State  \\\n",
       "2698  84048001   US  USA    840  48001.0  Anderson          Texas   \n",
       "2699  84048003   US  USA    840  48003.0   Andrews          Texas   \n",
       "2700  84048005   US  USA    840  48005.0  Angelina          Texas   \n",
       "2701  84048007   US  USA    840  48007.0   Aransas          Texas   \n",
       "2702  84048009   US  USA    840  48009.0    Archer          Texas   \n",
       "\n",
       "     Country_Region        Lat       Long_  ... 11/18/20  11/19/20  11/20/20  \\\n",
       "2698             US  31.815347  -95.653548  ...     3095      3101      3092   \n",
       "2699             US  32.304686 -102.637655  ...      926       940       940   \n",
       "2700             US  31.254573  -94.609015  ...     2446      2497      2515   \n",
       "2701             US  28.105562  -96.999505  ...      376       376       376   \n",
       "2702             US  33.615700  -98.687546  ...      209       220       227   \n",
       "\n",
       "      11/21/20  11/22/20  11/23/20  11/24/20  11/25/20  11/26/20  11/27/20  \n",
       "2698      3127      3127      3118      3143      3150      3171      3172  \n",
       "2699       977       977       977       977      1018      1018      1018  \n",
       "2700      2515      2515      2515      2555      2587      2587      2587  \n",
       "2701       376       393       393       398       402       404       404  \n",
       "2702       231       231       231       244       248       251       251  \n",
       "\n",
       "[5 rows x 322 columns]"
      ]
     },
     "execution_count": 47,
     "metadata": {},
     "output_type": "execute_result"
    }
   ],
   "source": [
    "rawDFTex.head()"
   ]
  },
  {
   "cell_type": "markdown",
   "metadata": {},
   "source": [
    "## I have family in Austin, so lets choose to analyse that county"
   ]
  },
  {
   "cell_type": "code",
   "execution_count": 85,
   "metadata": {},
   "outputs": [
    {
     "data": {
      "text/html": [
       "<div>\n",
       "<style scoped>\n",
       "    .dataframe tbody tr th:only-of-type {\n",
       "        vertical-align: middle;\n",
       "    }\n",
       "\n",
       "    .dataframe tbody tr th {\n",
       "        vertical-align: top;\n",
       "    }\n",
       "\n",
       "    .dataframe thead th {\n",
       "        text-align: right;\n",
       "    }\n",
       "</style>\n",
       "<table border=\"1\" class=\"dataframe\">\n",
       "  <thead>\n",
       "    <tr style=\"text-align: right;\">\n",
       "      <th></th>\n",
       "      <th>UID</th>\n",
       "      <th>iso2</th>\n",
       "      <th>iso3</th>\n",
       "      <th>code3</th>\n",
       "      <th>FIPS</th>\n",
       "      <th>Admin2</th>\n",
       "      <th>Province_State</th>\n",
       "      <th>Country_Region</th>\n",
       "      <th>Lat</th>\n",
       "      <th>Long_</th>\n",
       "      <th>...</th>\n",
       "      <th>11/18/20</th>\n",
       "      <th>11/19/20</th>\n",
       "      <th>11/20/20</th>\n",
       "      <th>11/21/20</th>\n",
       "      <th>11/22/20</th>\n",
       "      <th>11/23/20</th>\n",
       "      <th>11/24/20</th>\n",
       "      <th>11/25/20</th>\n",
       "      <th>11/26/20</th>\n",
       "      <th>11/27/20</th>\n",
       "    </tr>\n",
       "  </thead>\n",
       "  <tbody>\n",
       "    <tr>\n",
       "      <th>2705</th>\n",
       "      <td>84048015</td>\n",
       "      <td>US</td>\n",
       "      <td>USA</td>\n",
       "      <td>840</td>\n",
       "      <td>48015.0</td>\n",
       "      <td>Austin</td>\n",
       "      <td>Texas</td>\n",
       "      <td>US</td>\n",
       "      <td>29.885487</td>\n",
       "      <td>-96.277369</td>\n",
       "      <td>...</td>\n",
       "      <td>546</td>\n",
       "      <td>552</td>\n",
       "      <td>554</td>\n",
       "      <td>558</td>\n",
       "      <td>562</td>\n",
       "      <td>571</td>\n",
       "      <td>579</td>\n",
       "      <td>590</td>\n",
       "      <td>592</td>\n",
       "      <td>600</td>\n",
       "    </tr>\n",
       "  </tbody>\n",
       "</table>\n",
       "<p>1 rows × 322 columns</p>\n",
       "</div>"
      ],
      "text/plain": [
       "           UID iso2 iso3  code3     FIPS  Admin2 Province_State  \\\n",
       "2705  84048015   US  USA    840  48015.0  Austin          Texas   \n",
       "\n",
       "     Country_Region        Lat      Long_  ... 11/18/20  11/19/20  11/20/20  \\\n",
       "2705             US  29.885487 -96.277369  ...      546       552       554   \n",
       "\n",
       "      11/21/20  11/22/20  11/23/20  11/24/20  11/25/20  11/26/20  11/27/20  \n",
       "2705       558       562       571       579       590       592       600  \n",
       "\n",
       "[1 rows x 322 columns]"
      ]
     },
     "execution_count": 85,
     "metadata": {},
     "output_type": "execute_result"
    }
   ],
   "source": [
    "rawDFDallas = rawDFTex[rawDFTex['Admin2'] == 'Austin']\n",
    "rawDFDallas.head()"
   ]
  },
  {
   "cell_type": "markdown",
   "metadata": {},
   "source": [
    "## Part 2: Plot Cumulative, daily and dates of interest"
   ]
  },
  {
   "cell_type": "code",
   "execution_count": 86,
   "metadata": {},
   "outputs": [
    {
     "data": {
      "text/plain": [
       "<matplotlib.axes._subplots.AxesSubplot at 0x18df46828d0>"
      ]
     },
     "execution_count": 86,
     "metadata": {},
     "output_type": "execute_result"
    },
    {
     "data": {
      "image/png": "[encoded data removed]",
      "text/plain": [
       "<Figure size 432x288 with 1 Axes>"
      ]
     },
     "metadata": {
      "needs_background": "light"
     },
     "output_type": "display_data"
    }
   ],
   "source": [
    "rawDFDallas.transpose().iloc[11:].plot()"
   ]
  },
  {
   "cell_type": "code",
   "execution_count": 87,
   "metadata": {},
   "outputs": [
    {
     "data": {
      "text/plain": [
       "<matplotlib.axes._subplots.AxesSubplot at 0x18df451d6d8>"
      ]
     },
     "execution_count": 87,
     "metadata": {},
     "output_type": "execute_result"
    },
    {
     "data": {
      "image/png": "[encoded data removed]",
      "text/plain": [
       "<Figure size 432x288 with 1 Axes>"
      ]
     },
     "metadata": {
      "needs_background": "light"
     },
     "output_type": "display_data"
    }
   ],
   "source": [
    "rawDFDallas.transpose().iloc[12:].diff(axis=0).plot(kind='bar')"
   ]
  },
  {
   "cell_type": "markdown",
   "metadata": {},
   "source": [
    "## Lets plot the when major events took place\n",
    "\n",
    "<img src=\"texasdates.PNG\" width=\"500\" height=\"600\">"
   ]
  },
  {
   "cell_type": "code",
   "execution_count": 88,
   "metadata": {},
   "outputs": [
    {
     "data": {
      "text/plain": [
       "<matplotlib.lines.Line2D at 0x18df5103ef0>"
      ]
     },
     "execution_count": 88,
     "metadata": {},
     "output_type": "execute_result"
    },
    {
     "data": {
      "image/png": "[encoded data removed]",
      "text/plain": [
       "<Figure size 432x288 with 1 Axes>"
      ]
     },
     "metadata": {
      "needs_background": "light"
     },
     "output_type": "display_data"
    }
   ],
   "source": [
    "#Source: https://www.elpasotimes.com/story/news/2020/07/03/covid-texas-coronavirus-timeline-greg-abbott-close-reopen/5368894002/\n",
    "\n",
    "disasterdecleration = '3/13/20'\n",
    "stayhomeorder = '3/31/20'\n",
    "stayhomeextended = '4/12/20'\n",
    "\n",
    "phase1reopen = '5/1/20'\n",
    "phase2reopen = '5/18/20'\n",
    "phase3reopen = '6/3/20'\n",
    "\n",
    "fig, ax = plt.subplots()\n",
    "\n",
    "rawDFDallas.transpose().iloc[11:].plot(ax=ax)\n",
    "ax.axvline(rawDFDallas.transpose().iloc[11:].index.searchsorted(disasterdecleration),color=\"red\")\n",
    "ax.axvline(rawDFDallas.transpose().iloc[11:].index.searchsorted(stayhomeorder),color=\"red\")\n",
    "ax.axvline(rawDFDallas.transpose().iloc[11:].index.searchsorted(stayhomeextended),color=\"red\")\n",
    "ax.axvline(rawDFDallas.transpose().iloc[11:].index.searchsorted(phase1reopen),color=\"green\")\n",
    "ax.axvline(rawDFDallas.transpose().iloc[11:].index.searchsorted(phase2reopen),color=\"green\")\n",
    "ax.axvline(rawDFDallas.transpose().iloc[11:].index.searchsorted(phase3reopen),color=\"green\")"
   ]
  },
  {
   "cell_type": "markdown",
   "metadata": {},
   "source": [
    "## Modelling Examples (for Part 3 and 4) - Fitting Linear and Sigmoid Functions "
   ]
  },
  {
   "cell_type": "code",
   "execution_count": null,
   "metadata": {},
   "outputs": [],
   "source": [
    "rawDF = pd.read_csv('https://opendata.ecdc.europa.eu/covid19/casedistribution/csv')\n",
    "\n",
    "rawDF['dateRep']= pd.to_datetime(rawDF['dateRep'],dayfirst=True)\n",
    "rawDF.head()\n",
    "dfCases = rawDF.pivot(index='dateRep', columns='countriesAndTerritories', values='cases')\n",
    "dfCases = dfCases[:333]   #Cutoff around end of Nov\n",
    "\n",
    "dfCases['log_USA'] = np.log(dfCases[\"United_States_of_America\"])"
   ]
  },
  {
   "cell_type": "code",
   "execution_count": 126,
   "metadata": {},
   "outputs": [],
   "source": [
    "begin_idx = 67\n",
    "windows_size = 21"
   ]
  },
  {
   "cell_type": "code",
   "execution_count": 130,
   "metadata": {},
   "outputs": [],
   "source": [
    "N_days = len(dfCases.iloc[begin_idx:])\n",
    "X = np.reshape(range(1,N_days+1),(1,N_days)).reshape(-1,1)"
   ]
  },
  {
   "cell_type": "code",
   "execution_count": 131,
   "metadata": {},
   "outputs": [
    {
     "name": "stdout",
     "output_type": "stream",
     "text": [
      "[4.10358301]\n",
      "[[0.2804711]]\n"
     ]
    }
   ],
   "source": [
    "# run linear regression\n",
    "feature_cols = ['log_USA']\n",
    "y2 = dfCases[feature_cols].iloc[begin_idx:begin_idx+windows_size]\n",
    "X2 = np.reshape(range(1,windows_size+1),(1, windows_size)).reshape(-1,1)\n",
    "\n",
    "lm2 = LinearRegression()\n",
    "lm2.fit(X2, y2)\n",
    "\n",
    "# print intercept and coefficients\n",
    "print(lm2.intercept_)\n",
    "print(lm2.coef_)"
   ]
  },
  {
   "cell_type": "code",
   "execution_count": 132,
   "metadata": {},
   "outputs": [],
   "source": [
    "yU = lm2.predict(X)"
   ]
  },
  {
   "cell_type": "code",
   "execution_count": 134,
   "metadata": {},
   "outputs": [
    {
     "name": "stdout",
     "output_type": "stream",
     "text": [
      "5.452926403520833\n",
      "[0.28750008]\n"
     ]
    }
   ],
   "source": [
    "# run linear regression\n",
    "dfCases['cum_USA'] = np.cumsum(dfCases['United_States_of_America'])\n",
    "\n",
    "y2a = np.log(dfCases['cum_USA'].iloc[begin_idx:begin_idx+windows_size].values)\n",
    "X2a = np.reshape(range(1,windows_size+1),(1, windows_size)).reshape(-1,1)\n",
    "\n",
    "lm2a = LinearRegression()\n",
    "lm2a.fit(X2a, y2a)\n",
    "\n",
    "# print intercept and coefficients\n",
    "print(lm2a.intercept_)\n",
    "print(lm2a.coef_)\n",
    "\n",
    "yUa = lm2a.predict(X)"
   ]
  },
  {
   "cell_type": "markdown",
   "metadata": {},
   "source": [
    "#### Plot linear regression fit for USA"
   ]
  },
  {
   "cell_type": "code",
   "execution_count": 135,
   "metadata": {},
   "outputs": [
    {
     "name": "stderr",
     "output_type": "stream",
     "text": [
      "C:\\Users\\Zain\\Anaconda3\\envs\\MLenv\\lib\\site-packages\\matplotlib\\cbook\\__init__.py:1377: FutureWarning: Support for multi-dimensional indexing (e.g. `obj[:, None]`) is deprecated and will be removed in a future version.  Convert to a numpy array before indexing instead.\n",
      "  x[:, None]\n",
      "C:\\Users\\Zain\\Anaconda3\\envs\\MLenv\\lib\\site-packages\\matplotlib\\axes\\_base.py:237: FutureWarning: Support for multi-dimensional indexing (e.g. `obj[:, None]`) is deprecated and will be removed in a future version.  Convert to a numpy array before indexing instead.\n",
      "  x = x[:, np.newaxis]\n"
     ]
    },
    {
     "data": {
      "text/plain": [
       "<matplotlib.legend.Legend at 0x18dead96ac8>"
      ]
     },
     "execution_count": 135,
     "metadata": {},
     "output_type": "execute_result"
    },
    {
     "data": {
      "image/png": "[encoded data removed]",
      "text/plain": [
       "<Figure size 792x432 with 1 Axes>"
      ]
     },
     "metadata": {
      "needs_background": "light"
     },
     "output_type": "display_data"
    }
   ],
   "source": [
    "fig = plt.figure(figsize=(11,6))\n",
    "plt.plot(dfCases.iloc[begin_idx:].index, dfCases['log_USA'].iloc[begin_idx:].values,label=\"USA - number of cases\")\n",
    "plt.plot(dfCases.iloc[begin_idx:].index, yU.ravel(),color='k',label=\"USA - regression line\")\n",
    "plt.xlabel('Date')\n",
    "plt.ylabel('$\\log(N_t)$')\n",
    "plt.legend()"
   ]
  },
  {
   "cell_type": "code",
   "execution_count": 136,
   "metadata": {},
   "outputs": [
    {
     "data": {
      "text/plain": [
       "<matplotlib.legend.Legend at 0x18df514a048>"
      ]
     },
     "execution_count": 136,
     "metadata": {},
     "output_type": "execute_result"
    },
    {
     "data": {
      "image/png": "[encoded data removed]",
      "text/plain": [
       "<Figure size 792x432 with 1 Axes>"
      ]
     },
     "metadata": {
      "needs_background": "light"
     },
     "output_type": "display_data"
    }
   ],
   "source": [
    "fig = plt.figure(figsize=(11,6))\n",
    "plt.plot(dfCases.iloc[begin_idx:].index, dfCases['cum_USA'].iloc[begin_idx:].values,label=\"USA - cumulative number of cases\")\n",
    "plt.plot(dfCases.iloc[begin_idx:].index, np.cumsum(np.exp(yU.ravel())),color='k',label=\"USA - regression line\")\n",
    "plt.xlabel('Date')\n",
    "plt.ylabel('Total Number of Cases')\n",
    "plt.legend()"
   ]
  },
  {
   "cell_type": "markdown",
   "metadata": {},
   "source": [
    "## Fitting sigmoid (logistic) function to cumulative sum of cases - predicting length of quarantine\n",
    "\n",
    "Cumulative sum of the number of cases for Canada can be approximated by sigmoid (logarithmic) function. We fitted sigmoid function to Canada to model the end of quarantine.\n",
    "\n",
    "An end of qurantine corresponds to \"optimistic\" start of recovery time period."
   ]
  },
  {
   "cell_type": "code",
   "execution_count": 71,
   "metadata": {},
   "outputs": [],
   "source": [
    "startC = 20 # start from day 20 (January 19)\n",
    "ydataC = dfCases['cum_Canada'].iloc[startC:].values\n",
    "ydataC\n",
    "N_dCan = len(ydataC)\n",
    "xdataC = range(1,N_dCan+1)"
   ]
  },
  {
   "cell_type": "code",
   "execution_count": 72,
   "metadata": {},
   "outputs": [],
   "source": [
    "#p0C = [1.2*max(ydataC), 2*np.median(xdataC), 1, min(ydataC)] # this is an mandatory initial guess\n",
    "p0C = [1.2*max(ydataC), 1.5*np.median(xdataC), 1, min(ydataC)] # this is an mandatory initial guess\n",
    "\n",
    "poptC, pcovC = curve_fit(sigmoid, xdataC, ydataC, p0C, method='dogbox')"
   ]
  },
  {
   "cell_type": "code",
   "execution_count": 73,
   "metadata": {},
   "outputs": [],
   "source": [
    "sigCan = []\n",
    "for j in range(1,N_dCan+1):\n",
    "    sigCan.append(sigmoid(j,poptC[0],poptC[1],poptC[2],poptC[3]))"
   ]
  },
  {
   "cell_type": "code",
   "execution_count": 74,
   "metadata": {},
   "outputs": [],
   "source": [
    "sigCan1 = []\n",
    "for j in range(1,2*(N_dCan+1)):\n",
    "    sigCan1.append(sigmoid(j,poptC[0],poptC[1],poptC[2],poptC[3]))"
   ]
  },
  {
   "cell_type": "code",
   "execution_count": 75,
   "metadata": {},
   "outputs": [],
   "source": [
    "datelist1 = pd.date_range(dfCases.iloc[startC:].index.values[0], periods=len(range(1,N_dCan+1)))\n",
    "datelist2 = pd.date_range(dfCases.iloc[startC:].index.values[0], periods=len(range(1,2*(N_dCan+1))))"
   ]
  },
  {
   "cell_type": "code",
   "execution_count": 76,
   "metadata": {},
   "outputs": [
    {
     "data": {
      "text/plain": [
       "<matplotlib.legend.Legend at 0x2455cef9c88>"
      ]
     },
     "execution_count": 76,
     "metadata": {},
     "output_type": "execute_result"
    },
    {
     "data": {
      "image/png": "[encoded data removed]",
      "text/plain": [
       "<Figure size 792x432 with 1 Axes>"
      ]
     },
     "metadata": {
      "needs_background": "light"
     },
     "output_type": "display_data"
    }
   ],
   "source": [
    "fig = plt.figure(figsize=(11,6))\n",
    "plt.plot(datelist1, dfCases['cum_Canada'].iloc[startC:].values, marker='o', label=\"Canada - cumulative number of cases\")\n",
    "plt.plot(datelist2, sigCan1, color='r',label=\"Canada - fitted sigmoid function\")\n",
    "ax.xaxis.set_minor_locator(mdates.DayLocator(interval=1))\n",
    "ax.xaxis.set_major_locator(mdates.DayLocator(interval=5))\n",
    "ax.xaxis.set_major_formatter(mdates.DateFormatter('%m-%d'))\n",
    "plt.xlabel('Date')\n",
    "plt.ylabel('Total Number of Cases')\n",
    "plt.legend()"
   ]
  },
  {
   "cell_type": "code",
   "execution_count": 77,
   "metadata": {},
   "outputs": [],
   "source": [
    "# end of quarantine in Canada (May 5)\n",
    "endQ_Canada = dt.datetime(2020, 5, 18)"
   ]
  },
  {
   "cell_type": "code",
   "execution_count": 78,
   "metadata": {},
   "outputs": [
    {
     "data": {
      "image/png": "[encoded data removed]",
      "text/plain": [
       "<Figure size 792x432 with 1 Axes>"
      ]
     },
     "metadata": {
      "needs_background": "light"
     },
     "output_type": "display_data"
    }
   ],
   "source": [
    "fig = plt.figure(figsize=(11,6))\n",
    "ax = fig.add_subplot(111)\n",
    "\n",
    "ax.xaxis.set_minor_locator(mdates.DayLocator(interval=1))\n",
    "ax.xaxis.set_major_locator(mdates.DayLocator(interval=5))\n",
    "ax.xaxis.set_major_formatter(mdates.DateFormatter('%d-%b'))\n",
    "\n",
    "ax.plot(datelist1, dfCases['cum_Canada'].iloc[startC:].values, marker='o', linestyle='None', label=\"Canada - cumulative number of cases\")\n",
    "ax.plot(datelist2, sigCan1, color='r', linewidth=2, label=\"Canada - fitted logistic function\")\n",
    "ax.plot(dfCases.iloc[begin_idx:begin_idx+34].index, np.exp(yCa[0:34].ravel()), linewidth=2, color='k',label=\"Canada - exponential function (do nothing)\")\n",
    "plt.axvline(endQ_Canada, linestyle='--', color='k', linewidth=1, label=\"potential end of quarantine in Canada\")\n",
    "\n",
    "ax.set_xlim([dt.date(2020, 2, 15), dt.date(2020, 6, 15)])\n",
    "ax.set_ylim([-1000, 53000])\n",
    "plt.xlabel('Date')\n",
    "plt.ylabel('Total Number of Cases')\n",
    "plt.legend()\n",
    "\n",
    "fig.autofmt_xdate()\n",
    "\n",
    "ax.grid(True)\n",
    "#plt.savefig('Canada_COVID_sigmoid_fit_with_exp.png', format='png', bbox_inches='tight', dpi=600)\n",
    "plt.show()"
   ]
  },
  {
   "cell_type": "code",
   "execution_count": 80,
   "metadata": {},
   "outputs": [
    {
     "name": "stdout",
     "output_type": "stream",
     "text": [
      "Canada current cases, total cases: 107579.0 104957.2782938741\n"
     ]
    }
   ],
   "source": [
    "print(\"Canada current cases, total cases:\", dfCases['cum_Canada'].values[-1],sigCan1[-1])"
   ]
  },
  {
   "cell_type": "markdown",
   "metadata": {},
   "source": [
    "## Part 5: Using the Analysis from Part 3 and 4 to derive insights about policy and guidance"
   ]
  },
  {
   "cell_type": "markdown",
   "metadata": {},
   "source": [
    "Some examples of policy and guidance that can be derived from the above analysis is:\n",
    "\n",
    "* Policies to inform when to shut down\n",
    "* Policies to inform when we can start opening back up again based on what the model shows\n",
    "* When to impose stricter measures in the phased re-openings - when data deviates from model\n",
    "\n",
    "All insights should be linked back to the models and data visualizations and tied back in with how the models allow you to reach you conclusions. \n",
    "\n",
    "\n",
    "Here the Policy and Insights will depend directly on what you chose to model and how you chose to model it "
   ]
  },
  {
   "cell_type": "code",
   "execution_count": null,
   "metadata": {},
   "outputs": [],
   "source": []
  }
 ],
 "metadata": {
  "anaconda-cloud": {},
  "kernelspec": {
   "display_name": "Python 3",
   "language": "python",
   "name": "python3"
  },
  "language_info": {
   "codemirror_mode": {
    "name": "ipython",
    "version": 3
   },
   "file_extension": ".py",
   "mimetype": "text/x-python",
   "name": "python",
   "nbconvert_exporter": "python",
   "pygments_lexer": "ipython3",
   "version": "3.8.3"
  },
  "widgets": {
   "state": {},
   "version": "1.1.2"
  }
 },
 "nbformat": 4,
 "nbformat_minor": 1
}
