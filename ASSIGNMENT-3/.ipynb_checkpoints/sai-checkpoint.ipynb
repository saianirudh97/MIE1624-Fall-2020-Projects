{
 "cells": [
  {
   "cell_type": "code",
   "execution_count": 1,
   "metadata": {
    "colab": {
     "base_uri": "https://localhost:8080/",
     "height": 119
    },
    "colab_type": "code",
    "id": "Ho1Jd2YfUe4a",
    "outputId": "c00ebeb8-9784-49cd-ea88-e181be4d4b08"
   },
   "outputs": [
    {
     "name": "stderr",
     "output_type": "stream",
     "text": [
      "[nltk_data] Downloading package stopwords to\n",
      "[nltk_data]     /home/anirudh/nltk_data...\n",
      "[nltk_data]   Package stopwords is already up-to-date!\n",
      "[nltk_data] Downloading package wordnet to /home/anirudh/nltk_data...\n",
      "[nltk_data]   Package wordnet is already up-to-date!\n",
      "[nltk_data] Downloading package punkt to /home/anirudh/nltk_data...\n",
      "[nltk_data]   Package punkt is already up-to-date!\n"
     ]
    }
   ],
   "source": [
    "import numpy as np\n",
    "import pandas as pd\n",
    "\n",
    "from html.parser import HTMLParser\n",
    "from bs4 import BeautifulSoup\n",
    "import unicodedata\n",
    "from nltk.stem import WordNetLemmatizer\n",
    "lemmatizer = WordNetLemmatizer()\n",
    "from nltk.tokenize import word_tokenize\n",
    "from sklearn.feature_extraction.text import CountVectorizer, TfidfVectorizer\n",
    "\n",
    "import re\n",
    "import nltk\n",
    "nltk.download(\"stopwords\")\n",
    "nltk.download('wordnet')\n",
    "nltk.download('punkt')\n",
    "from nltk.corpus import stopwords\n",
    "from nltk.tokenize import RegexpTokenizer\n",
    "from sklearn.model_selection import train_test_split\n",
    "\n",
    "from wordcloud import WordCloud, STOPWORDS\n",
    "\n",
    "from sklearn.metrics import accuracy_score\n",
    "import matplotlib.pyplot as plt\n",
    "from matplotlib import rc\n",
    "%matplotlib inline"
   ]
  },
  {
   "cell_type": "markdown",
   "metadata": {
    "colab_type": "text",
    "id": "6qLEuv0MV9l_"
   },
   "source": [
    "# Question 1: Data Cleaning"
   ]
  },
  {
   "cell_type": "markdown",
   "metadata": {
    "colab_type": "text",
    "id": "CrDmwrh-igG_"
   },
   "source": [
    "In this section, the tweets are cleaned by converting to all letters to lower cases, removing html tags and attributes, replacing html character codes, removing all URLs and removing stop words. The generic tweets dataset is cleaned first and then the Canadian Election 2019 dataset."
   ]
  },
  {
   "cell_type": "code",
   "execution_count": 2,
   "metadata": {
    "colab": {
     "base_uri": "https://localhost:8080/",
     "height": 51
    },
    "colab_type": "code",
    "id": "JF3ht1-SVaVq",
    "outputId": "5d7f21f7-24ba-4d94-8c56-82fff7ec6f9c"
   },
   "outputs": [
    {
     "name": "stdout",
     "output_type": "stream",
     "text": [
      "Shape of Sentiment: (550391, 3)\n",
      "Shape of Canadian_elections_2019: (2552, 3)\n"
     ]
    }
   ],
   "source": [
    "# Read data\n",
    "senti = pd.read_csv('./sentiment_analysis.csv')\n",
    "elec = pd.read_csv('./US_Elections_2020.csv')\n",
    "print(\"Shape of Sentiment:\",senti.shape)\n",
    "print(\"Shape of Canadian_elections_2019:\",elec.shape)"
   ]
  },
  {
   "cell_type": "code",
   "execution_count": 3,
   "metadata": {},
   "outputs": [
    {
     "data": {
      "text/html": [
       "<div>\n",
       "<style scoped>\n",
       "    .dataframe tbody tr th:only-of-type {\n",
       "        vertical-align: middle;\n",
       "    }\n",
       "\n",
       "    .dataframe tbody tr th {\n",
       "        vertical-align: top;\n",
       "    }\n",
       "\n",
       "    .dataframe thead th {\n",
       "        text-align: right;\n",
       "    }\n",
       "</style>\n",
       "<table border=\"1\" class=\"dataframe\">\n",
       "  <thead>\n",
       "    <tr style=\"text-align: right;\">\n",
       "      <th></th>\n",
       "      <th>ID</th>\n",
       "      <th>text</th>\n",
       "      <th>label</th>\n",
       "      <th>sentiment</th>\n",
       "    </tr>\n",
       "  </thead>\n",
       "  <tbody>\n",
       "    <tr>\n",
       "      <th>0</th>\n",
       "      <td>7.680980e+17</td>\n",
       "      <td>Josh Jenkins is looking forward to TAB Breeder...</td>\n",
       "      <td>1</td>\n",
       "      <td>Positive</td>\n",
       "    </tr>\n",
       "    <tr>\n",
       "      <th>1</th>\n",
       "      <td>7.680980e+17</td>\n",
       "      <td>RT @MianUsmanJaved: Congratulations Pakistan o...</td>\n",
       "      <td>1</td>\n",
       "      <td>Positive</td>\n",
       "    </tr>\n",
       "    <tr>\n",
       "      <th>2</th>\n",
       "      <td>7.680980e+17</td>\n",
       "      <td>RT @PEPalerts: This September, @YESmag is taki...</td>\n",
       "      <td>1</td>\n",
       "      <td>Positive</td>\n",
       "    </tr>\n",
       "    <tr>\n",
       "      <th>3</th>\n",
       "      <td>7.680980e+17</td>\n",
       "      <td>RT @david_gaibis: Newly painted walls, thanks ...</td>\n",
       "      <td>1</td>\n",
       "      <td>Positive</td>\n",
       "    </tr>\n",
       "    <tr>\n",
       "      <th>4</th>\n",
       "      <td>7.680980e+17</td>\n",
       "      <td>RT @CedricFeschotte: Excited to announce: as o...</td>\n",
       "      <td>1</td>\n",
       "      <td>Positive</td>\n",
       "    </tr>\n",
       "    <tr>\n",
       "      <th>...</th>\n",
       "      <td>...</td>\n",
       "      <td>...</td>\n",
       "      <td>...</td>\n",
       "      <td>...</td>\n",
       "    </tr>\n",
       "    <tr>\n",
       "      <th>550386</th>\n",
       "      <td>8.046170e+17</td>\n",
       "      <td>@goddesses_o I can't stop watching her...mm. M...</td>\n",
       "      <td>0</td>\n",
       "      <td>Negative</td>\n",
       "    </tr>\n",
       "    <tr>\n",
       "      <th>550387</th>\n",
       "      <td>8.046180e+17</td>\n",
       "      <td>Poor old Tom Odell doesn't look like he would ...</td>\n",
       "      <td>0</td>\n",
       "      <td>Negative</td>\n",
       "    </tr>\n",
       "    <tr>\n",
       "      <th>550388</th>\n",
       "      <td>8.046180e+17</td>\n",
       "      <td>#antsmasher I smashed  7 ants in this awesome ...</td>\n",
       "      <td>1</td>\n",
       "      <td>Positive</td>\n",
       "    </tr>\n",
       "    <tr>\n",
       "      <th>550389</th>\n",
       "      <td>8.046180e+17</td>\n",
       "      <td>@LizHudston @KymWyllie @Evasmiless @meanBok @l...</td>\n",
       "      <td>1</td>\n",
       "      <td>Positive</td>\n",
       "    </tr>\n",
       "    <tr>\n",
       "      <th>550390</th>\n",
       "      <td>8.046190e+17</td>\n",
       "      <td>Bixbeat Mixtape Vol.2 is here with great artis...</td>\n",
       "      <td>1</td>\n",
       "      <td>Positive</td>\n",
       "    </tr>\n",
       "  </tbody>\n",
       "</table>\n",
       "<p>550391 rows × 4 columns</p>\n",
       "</div>"
      ],
      "text/plain": [
       "                  ID                                               text  \\\n",
       "0       7.680980e+17  Josh Jenkins is looking forward to TAB Breeder...   \n",
       "1       7.680980e+17  RT @MianUsmanJaved: Congratulations Pakistan o...   \n",
       "2       7.680980e+17  RT @PEPalerts: This September, @YESmag is taki...   \n",
       "3       7.680980e+17  RT @david_gaibis: Newly painted walls, thanks ...   \n",
       "4       7.680980e+17  RT @CedricFeschotte: Excited to announce: as o...   \n",
       "...              ...                                                ...   \n",
       "550386  8.046170e+17  @goddesses_o I can't stop watching her...mm. M...   \n",
       "550387  8.046180e+17  Poor old Tom Odell doesn't look like he would ...   \n",
       "550388  8.046180e+17  #antsmasher I smashed  7 ants in this awesome ...   \n",
       "550389  8.046180e+17  @LizHudston @KymWyllie @Evasmiless @meanBok @l...   \n",
       "550390  8.046190e+17  Bixbeat Mixtape Vol.2 is here with great artis...   \n",
       "\n",
       "        label sentiment  \n",
       "0           1  Positive  \n",
       "1           1  Positive  \n",
       "2           1  Positive  \n",
       "3           1  Positive  \n",
       "4           1  Positive  \n",
       "...       ...       ...  \n",
       "550386      0  Negative  \n",
       "550387      0  Negative  \n",
       "550388      1  Positive  \n",
       "550389      1  Positive  \n",
       "550390      1  Positive  \n",
       "\n",
       "[550391 rows x 4 columns]"
      ]
     },
     "execution_count": 3,
     "metadata": {},
     "output_type": "execute_result"
    }
   ],
   "source": [
    "senti['sentiment'] = senti['label'] .map({1: 'Positive', 0: 'Negative'})\n",
    "senti"
   ]
  },
  {
   "cell_type": "code",
   "execution_count": 4,
   "metadata": {},
   "outputs": [
    {
     "data": {
      "text/html": [
       "<div>\n",
       "<style scoped>\n",
       "    .dataframe tbody tr th:only-of-type {\n",
       "        vertical-align: middle;\n",
       "    }\n",
       "\n",
       "    .dataframe tbody tr th {\n",
       "        vertical-align: top;\n",
       "    }\n",
       "\n",
       "    .dataframe thead th {\n",
       "        text-align: right;\n",
       "    }\n",
       "</style>\n",
       "<table border=\"1\" class=\"dataframe\">\n",
       "  <thead>\n",
       "    <tr style=\"text-align: right;\">\n",
       "      <th></th>\n",
       "      <th>text</th>\n",
       "      <th>sentiment</th>\n",
       "      <th>negative_reason</th>\n",
       "    </tr>\n",
       "  </thead>\n",
       "  <tbody>\n",
       "    <tr>\n",
       "      <th>0</th>\n",
       "      <td>b'@robreiner so afraid of Nov, Dec, and Jan! E...</td>\n",
       "      <td>Negative</td>\n",
       "      <td>covid19</td>\n",
       "    </tr>\n",
       "    <tr>\n",
       "      <th>1</th>\n",
       "      <td>b\"RT @SueC00K: Lord Sumption launches Recovery...</td>\n",
       "      <td>Negative</td>\n",
       "      <td>others</td>\n",
       "    </tr>\n",
       "    <tr>\n",
       "      <th>2</th>\n",
       "      <td>b'RT @WalidPhares: Uber Timing: after #Biden a...</td>\n",
       "      <td>Negative</td>\n",
       "      <td>covid19</td>\n",
       "    </tr>\n",
       "    <tr>\n",
       "      <th>3</th>\n",
       "      <td>b'Every 107 seconds an American is dying from ...</td>\n",
       "      <td>Positive</td>\n",
       "      <td>NaN</td>\n",
       "    </tr>\n",
       "    <tr>\n",
       "      <th>4</th>\n",
       "      <td>b'RT @thewebbix: The #Democrats embrace #Diver...</td>\n",
       "      <td>Positive</td>\n",
       "      <td>NaN</td>\n",
       "    </tr>\n",
       "    <tr>\n",
       "      <th>...</th>\n",
       "      <td>...</td>\n",
       "      <td>...</td>\n",
       "      <td>...</td>\n",
       "    </tr>\n",
       "    <tr>\n",
       "      <th>2547</th>\n",
       "      <td>b'RT @BoycottUtah: It is Friday, October 30, 2...</td>\n",
       "      <td>Positive</td>\n",
       "      <td>NaN</td>\n",
       "    </tr>\n",
       "    <tr>\n",
       "      <th>2548</th>\n",
       "      <td>b'@nowthisnews Delivered today in Montgomery C...</td>\n",
       "      <td>Positive</td>\n",
       "      <td>NaN</td>\n",
       "    </tr>\n",
       "    <tr>\n",
       "      <th>2549</th>\n",
       "      <td>b'@DonaldJTrumpJr DUHnnie Jr. lied on Fox when...</td>\n",
       "      <td>Negative</td>\n",
       "      <td>covid19</td>\n",
       "    </tr>\n",
       "    <tr>\n",
       "      <th>2550</th>\n",
       "      <td>b'RT @Pale_Ranger: Any ideas why @JoeBiden is ...</td>\n",
       "      <td>Negative</td>\n",
       "      <td>covid19</td>\n",
       "    </tr>\n",
       "    <tr>\n",
       "      <th>2551</th>\n",
       "      <td>b'RT @cazaresforcoc: game time, keep up our mo...</td>\n",
       "      <td>Positive</td>\n",
       "      <td>NaN</td>\n",
       "    </tr>\n",
       "  </tbody>\n",
       "</table>\n",
       "<p>2552 rows × 3 columns</p>\n",
       "</div>"
      ],
      "text/plain": [
       "                                                   text sentiment  \\\n",
       "0     b'@robreiner so afraid of Nov, Dec, and Jan! E...  Negative   \n",
       "1     b\"RT @SueC00K: Lord Sumption launches Recovery...  Negative   \n",
       "2     b'RT @WalidPhares: Uber Timing: after #Biden a...  Negative   \n",
       "3     b'Every 107 seconds an American is dying from ...  Positive   \n",
       "4     b'RT @thewebbix: The #Democrats embrace #Diver...  Positive   \n",
       "...                                                 ...       ...   \n",
       "2547  b'RT @BoycottUtah: It is Friday, October 30, 2...  Positive   \n",
       "2548  b'@nowthisnews Delivered today in Montgomery C...  Positive   \n",
       "2549  b'@DonaldJTrumpJr DUHnnie Jr. lied on Fox when...  Negative   \n",
       "2550  b'RT @Pale_Ranger: Any ideas why @JoeBiden is ...  Negative   \n",
       "2551  b'RT @cazaresforcoc: game time, keep up our mo...  Positive   \n",
       "\n",
       "     negative_reason  \n",
       "0            covid19  \n",
       "1             others  \n",
       "2            covid19  \n",
       "3                NaN  \n",
       "4                NaN  \n",
       "...              ...  \n",
       "2547             NaN  \n",
       "2548             NaN  \n",
       "2549         covid19  \n",
       "2550         covid19  \n",
       "2551             NaN  \n",
       "\n",
       "[2552 rows x 3 columns]"
      ]
     },
     "execution_count": 4,
     "metadata": {},
     "output_type": "execute_result"
    }
   ],
   "source": [
    "elec['sentiment'] = elec['sentiment'] .map({1: 'Positive', 0: 'Negative'})\n",
    "elec"
   ]
  },
  {
   "cell_type": "markdown",
   "metadata": {
    "colab_type": "text",
    "id": "uMn-wko6hWmc"
   },
   "source": [
    "## Convert to lower case"
   ]
  },
  {
   "cell_type": "code",
   "execution_count": 5,
   "metadata": {
    "colab": {
     "base_uri": "https://localhost:8080/",
     "height": 204
    },
    "colab_type": "code",
    "id": "gjAYrgLHWW6j",
    "outputId": "65546417-dd63-45aa-fa9d-56512e4e61a7"
   },
   "outputs": [
    {
     "data": {
      "text/html": [
       "<div>\n",
       "<style scoped>\n",
       "    .dataframe tbody tr th:only-of-type {\n",
       "        vertical-align: middle;\n",
       "    }\n",
       "\n",
       "    .dataframe tbody tr th {\n",
       "        vertical-align: top;\n",
       "    }\n",
       "\n",
       "    .dataframe thead th {\n",
       "        text-align: right;\n",
       "    }\n",
       "</style>\n",
       "<table border=\"1\" class=\"dataframe\">\n",
       "  <thead>\n",
       "    <tr style=\"text-align: right;\">\n",
       "      <th></th>\n",
       "      <th>text</th>\n",
       "    </tr>\n",
       "  </thead>\n",
       "  <tbody>\n",
       "    <tr>\n",
       "      <th>0</th>\n",
       "      <td>josh jenkins is looking forward to tab breeder...</td>\n",
       "    </tr>\n",
       "    <tr>\n",
       "      <th>1</th>\n",
       "      <td>rt @mianusmanjaved: congratulations pakistan o...</td>\n",
       "    </tr>\n",
       "    <tr>\n",
       "      <th>2</th>\n",
       "      <td>rt @pepalerts: this september, @yesmag is taki...</td>\n",
       "    </tr>\n",
       "    <tr>\n",
       "      <th>3</th>\n",
       "      <td>rt @david_gaibis: newly painted walls, thanks ...</td>\n",
       "    </tr>\n",
       "    <tr>\n",
       "      <th>4</th>\n",
       "      <td>rt @cedricfeschotte: excited to announce: as o...</td>\n",
       "    </tr>\n",
       "  </tbody>\n",
       "</table>\n",
       "</div>"
      ],
      "text/plain": [
       "                                                text\n",
       "0  josh jenkins is looking forward to tab breeder...\n",
       "1  rt @mianusmanjaved: congratulations pakistan o...\n",
       "2  rt @pepalerts: this september, @yesmag is taki...\n",
       "3  rt @david_gaibis: newly painted walls, thanks ...\n",
       "4  rt @cedricfeschotte: excited to announce: as o..."
      ]
     },
     "execution_count": 5,
     "metadata": {},
     "output_type": "execute_result"
    }
   ],
   "source": [
    "senti_cleaned = senti[['text']].apply(lambda x: x.astype(str).str.lower())\n",
    "senti_cleaned.head()"
   ]
  },
  {
   "cell_type": "markdown",
   "metadata": {
    "colab_type": "text",
    "id": "HAHq44DJWDJ1"
   },
   "source": [
    "## Remove html tags and attributes"
   ]
  },
  {
   "cell_type": "code",
   "execution_count": 6,
   "metadata": {
    "colab": {},
    "colab_type": "code",
    "id": "4nEfutqfkUeG"
   },
   "outputs": [],
   "source": [
    "def parse(text):\n",
    "    \"\"\"\n",
    "    remove html tags and attributes using beautifulSoup html.parser\n",
    "    returns output as text\n",
    "    \"\"\"\n",
    "    soup=BeautifulSoup(text,'html.parser')\n",
    "    return soup.get_text()"
   ]
  },
  {
   "cell_type": "code",
   "execution_count": 7,
   "metadata": {
    "colab": {},
    "colab_type": "code",
    "id": "DMHp2ir1x3r7"
   },
   "outputs": [],
   "source": [
    "senti_cleaned['text'] = senti_cleaned['text'].apply(parse)"
   ]
  },
  {
   "cell_type": "code",
   "execution_count": 8,
   "metadata": {
    "colab": {
     "base_uri": "https://localhost:8080/",
     "height": 204
    },
    "colab_type": "code",
    "id": "dsDAR1GOx7Xp",
    "outputId": "a83581af-b0f4-4e61-a1d6-18874237a3dc"
   },
   "outputs": [
    {
     "data": {
      "text/html": [
       "<div>\n",
       "<style scoped>\n",
       "    .dataframe tbody tr th:only-of-type {\n",
       "        vertical-align: middle;\n",
       "    }\n",
       "\n",
       "    .dataframe tbody tr th {\n",
       "        vertical-align: top;\n",
       "    }\n",
       "\n",
       "    .dataframe thead th {\n",
       "        text-align: right;\n",
       "    }\n",
       "</style>\n",
       "<table border=\"1\" class=\"dataframe\">\n",
       "  <thead>\n",
       "    <tr style=\"text-align: right;\">\n",
       "      <th></th>\n",
       "      <th>text</th>\n",
       "    </tr>\n",
       "  </thead>\n",
       "  <tbody>\n",
       "    <tr>\n",
       "      <th>0</th>\n",
       "      <td>josh jenkins is looking forward to tab breeder...</td>\n",
       "    </tr>\n",
       "    <tr>\n",
       "      <th>1</th>\n",
       "      <td>rt @mianusmanjaved: congratulations pakistan o...</td>\n",
       "    </tr>\n",
       "    <tr>\n",
       "      <th>2</th>\n",
       "      <td>rt @pepalerts: this september, @yesmag is taki...</td>\n",
       "    </tr>\n",
       "    <tr>\n",
       "      <th>3</th>\n",
       "      <td>rt @david_gaibis: newly painted walls, thanks ...</td>\n",
       "    </tr>\n",
       "    <tr>\n",
       "      <th>4</th>\n",
       "      <td>rt @cedricfeschotte: excited to announce: as o...</td>\n",
       "    </tr>\n",
       "  </tbody>\n",
       "</table>\n",
       "</div>"
      ],
      "text/plain": [
       "                                                text\n",
       "0  josh jenkins is looking forward to tab breeder...\n",
       "1  rt @mianusmanjaved: congratulations pakistan o...\n",
       "2  rt @pepalerts: this september, @yesmag is taki...\n",
       "3  rt @david_gaibis: newly painted walls, thanks ...\n",
       "4  rt @cedricfeschotte: excited to announce: as o..."
      ]
     },
     "execution_count": 8,
     "metadata": {},
     "output_type": "execute_result"
    }
   ],
   "source": [
    "senti_cleaned.head()"
   ]
  },
  {
   "cell_type": "markdown",
   "metadata": {
    "colab_type": "text",
    "id": "2UKOD-SQnP_0"
   },
   "source": [
    "## Remove html character codes"
   ]
  },
  {
   "cell_type": "code",
   "execution_count": 9,
   "metadata": {
    "colab": {},
    "colab_type": "code",
    "id": "gLL2PunNnih3"
   },
   "outputs": [],
   "source": [
    "def normalize(text):\n",
    "    \"\"\"\n",
    "    normalizes unicode character to regular text\n",
    "    \"\"\"\n",
    "    text=unicodedata.normalize('NFKD',text).encode('ascii', 'ignore').decode('utf-8')\n",
    "    return text"
   ]
  },
  {
   "cell_type": "code",
   "execution_count": 10,
   "metadata": {
    "colab": {},
    "colab_type": "code",
    "id": "xoQ3uWJ1sQph"
   },
   "outputs": [],
   "source": [
    "senti_cleaned['text'] = senti_cleaned['text'].apply(normalize)"
   ]
  },
  {
   "cell_type": "markdown",
   "metadata": {
    "colab_type": "text",
    "id": "m1J3Rrek3Btl"
   },
   "source": [
    "## Remove URLs"
   ]
  },
  {
   "cell_type": "code",
   "execution_count": 11,
   "metadata": {
    "colab": {},
    "colab_type": "code",
    "id": "0mISfXHU3JGz"
   },
   "outputs": [],
   "source": [
    "def remove_URL(text):\n",
    "    \"\"\"\n",
    "    removes URL within a string by matching a pattern\n",
    "    pattern: http or www until 1st white space seen\n",
    "    \"\"\"\n",
    "    try:\n",
    "        text = re.sub(r'http\\S+', '', text) #match pattern http followed by any non whitespace followed by white space, replace with nothing\n",
    "        text = re.sub(r'www\\S+', '', text) #match pattern www followed by any non whitespace followed by white space, replace with nothing\n",
    "    except:\n",
    "        text = text\n",
    "    return(text)"
   ]
  },
  {
   "cell_type": "code",
   "execution_count": 12,
   "metadata": {
    "colab": {},
    "colab_type": "code",
    "id": "R7n05QQB3hDF"
   },
   "outputs": [],
   "source": [
    "senti_cleaned['text'] = senti_cleaned['text'].apply(remove_URL)"
   ]
  },
  {
   "cell_type": "markdown",
   "metadata": {
    "colab_type": "text",
    "id": "G0wG1Va36I7h"
   },
   "source": [
    "## Remove stop words"
   ]
  },
  {
   "cell_type": "markdown",
   "metadata": {
    "colab_type": "text",
    "id": "QEO3D_e8M9mb"
   },
   "source": [
    "A stop word is a commonly used word that a search engine has been programmed to ignore, both when indexing entries for searching and when retrieving them as the result of a search query.\n",
    "\n",
    "We could remove these words to avoid them taking up space in our database, or taking up valuable processing time. The list of stop words used in this section is from the Natural Language Toolkit (NLTK)."
   ]
  },
  {
   "cell_type": "code",
   "execution_count": 13,
   "metadata": {
    "colab": {},
    "colab_type": "code",
    "id": "UXcwVUmK6rRb"
   },
   "outputs": [],
   "source": [
    "stop_words=set(stopwords.words('english'))\n",
    "# adding two stop words to the list\n",
    "stop_words.add(\"i'm\")\n",
    "stop_words.add(\"they're\")"
   ]
  },
  {
   "cell_type": "code",
   "execution_count": 14,
   "metadata": {
    "colab": {},
    "colab_type": "code",
    "id": "T1ooqQVONuf-"
   },
   "outputs": [],
   "source": [
    "def remove_stopwords(text):\n",
    "    words = text.split()\n",
    "    new_text = [word for word in words if word not in stop_words]\n",
    "    return ' '.join(new_text)"
   ]
  },
  {
   "cell_type": "code",
   "execution_count": 15,
   "metadata": {
    "colab": {},
    "colab_type": "code",
    "id": "mChyftEHSWRT"
   },
   "outputs": [],
   "source": [
    "senti_cleaned['text'] = senti_cleaned['text'].apply(remove_stopwords)"
   ]
  },
  {
   "cell_type": "markdown",
   "metadata": {
    "colab_type": "text",
    "id": "qilsbXRCZKKV"
   },
   "source": [
    "## Remove @ tag"
   ]
  },
  {
   "cell_type": "code",
   "execution_count": 16,
   "metadata": {
    "colab": {},
    "colab_type": "code",
    "id": "KYAT3ZXHZJAX"
   },
   "outputs": [],
   "source": [
    "def remove_hashtag(text):\n",
    "    return re.sub(r'@.*?\\s','',text)"
   ]
  },
  {
   "cell_type": "code",
   "execution_count": 17,
   "metadata": {
    "colab": {},
    "colab_type": "code",
    "id": "05p8d_XrZzK6"
   },
   "outputs": [],
   "source": [
    "senti_cleaned['text'] = senti_cleaned['text'].apply(remove_hashtag)"
   ]
  },
  {
   "cell_type": "code",
   "execution_count": 18,
   "metadata": {
    "colab": {
     "base_uri": "https://localhost:8080/"
    },
    "colab_type": "code",
    "id": "3qw23Xowy6eQ",
    "outputId": "55f3245a-869f-460b-bf74-50d9527d0d33"
   },
   "outputs": [
    {
     "data": {
      "text/html": [
       "<div>\n",
       "<style scoped>\n",
       "    .dataframe tbody tr th:only-of-type {\n",
       "        vertical-align: middle;\n",
       "    }\n",
       "\n",
       "    .dataframe tbody tr th {\n",
       "        vertical-align: top;\n",
       "    }\n",
       "\n",
       "    .dataframe thead th {\n",
       "        text-align: right;\n",
       "    }\n",
       "</style>\n",
       "<table border=\"1\" class=\"dataframe\">\n",
       "  <thead>\n",
       "    <tr style=\"text-align: right;\">\n",
       "      <th></th>\n",
       "      <th>text</th>\n",
       "    </tr>\n",
       "  </thead>\n",
       "  <tbody>\n",
       "    <tr>\n",
       "      <th>0</th>\n",
       "      <td>josh jenkins looking forward tab breeders crow...</td>\n",
       "    </tr>\n",
       "    <tr>\n",
       "      <th>1</th>\n",
       "      <td>rt congratulations pakistan becoming #no1testt...</td>\n",
       "    </tr>\n",
       "    <tr>\n",
       "      <th>2</th>\n",
       "      <td>rt september, taking maine mendozas surprise t...</td>\n",
       "    </tr>\n",
       "    <tr>\n",
       "      <th>3</th>\n",
       "      <td>rt newly painted walls, thanks million custodi...</td>\n",
       "    </tr>\n",
       "    <tr>\n",
       "      <th>4</th>\n",
       "      <td>rt excited announce: july 2017 feschotte lab r...</td>\n",
       "    </tr>\n",
       "  </tbody>\n",
       "</table>\n",
       "</div>"
      ],
      "text/plain": [
       "                                                text\n",
       "0  josh jenkins looking forward tab breeders crow...\n",
       "1  rt congratulations pakistan becoming #no1testt...\n",
       "2  rt september, taking maine mendozas surprise t...\n",
       "3  rt newly painted walls, thanks million custodi...\n",
       "4  rt excited announce: july 2017 feschotte lab r..."
      ]
     },
     "execution_count": 18,
     "metadata": {},
     "output_type": "execute_result"
    }
   ],
   "source": [
    "senti_cleaned.head()"
   ]
  },
  {
   "cell_type": "markdown",
   "metadata": {
    "colab_type": "text",
    "id": "ZdGbc7zWxPra"
   },
   "source": [
    "## Remove non-letter and white spaces"
   ]
  },
  {
   "cell_type": "code",
   "execution_count": 19,
   "metadata": {
    "colab": {},
    "colab_type": "code",
    "id": "-dYbd66XxZMM"
   },
   "outputs": [],
   "source": [
    "def remove_nonletter(text):\n",
    "    \"\"\"\n",
    "    matching anything that is not in the a-z, A-Z and white space set, replace with white space\n",
    "    \"\"\"\n",
    "    text=re.sub(r'[^a-zA-Z ]+', ' ', text)\n",
    "    return text"
   ]
  },
  {
   "cell_type": "code",
   "execution_count": 20,
   "metadata": {
    "colab": {},
    "colab_type": "code",
    "id": "oQ-MtmSeyEkz"
   },
   "outputs": [],
   "source": [
    "senti_cleaned['text'] = senti_cleaned['text'].apply(remove_nonletter)"
   ]
  },
  {
   "cell_type": "code",
   "execution_count": 21,
   "metadata": {
    "colab": {
     "base_uri": "https://localhost:8080/"
    },
    "colab_type": "code",
    "id": "3G2IxWkHy8uP",
    "outputId": "952806b7-5722-486e-fe1d-66c8b37e08c6"
   },
   "outputs": [
    {
     "data": {
      "text/html": [
       "<div>\n",
       "<style scoped>\n",
       "    .dataframe tbody tr th:only-of-type {\n",
       "        vertical-align: middle;\n",
       "    }\n",
       "\n",
       "    .dataframe tbody tr th {\n",
       "        vertical-align: top;\n",
       "    }\n",
       "\n",
       "    .dataframe thead th {\n",
       "        text-align: right;\n",
       "    }\n",
       "</style>\n",
       "<table border=\"1\" class=\"dataframe\">\n",
       "  <thead>\n",
       "    <tr style=\"text-align: right;\">\n",
       "      <th></th>\n",
       "      <th>text</th>\n",
       "    </tr>\n",
       "  </thead>\n",
       "  <tbody>\n",
       "    <tr>\n",
       "      <th>0</th>\n",
       "      <td>josh jenkins looking forward tab breeders crow...</td>\n",
       "    </tr>\n",
       "    <tr>\n",
       "      <th>1</th>\n",
       "      <td>rt congratulations pakistan becoming  no testt...</td>\n",
       "    </tr>\n",
       "    <tr>\n",
       "      <th>2</th>\n",
       "      <td>rt september  taking maine mendozas surprise t...</td>\n",
       "    </tr>\n",
       "    <tr>\n",
       "      <th>3</th>\n",
       "      <td>rt newly painted walls  thanks million custodi...</td>\n",
       "    </tr>\n",
       "    <tr>\n",
       "      <th>4</th>\n",
       "      <td>rt excited announce  july   feschotte lab relo...</td>\n",
       "    </tr>\n",
       "  </tbody>\n",
       "</table>\n",
       "</div>"
      ],
      "text/plain": [
       "                                                text\n",
       "0  josh jenkins looking forward tab breeders crow...\n",
       "1  rt congratulations pakistan becoming  no testt...\n",
       "2  rt september  taking maine mendozas surprise t...\n",
       "3  rt newly painted walls  thanks million custodi...\n",
       "4  rt excited announce  july   feschotte lab relo..."
      ]
     },
     "execution_count": 21,
     "metadata": {},
     "output_type": "execute_result"
    }
   ],
   "source": [
    "senti_cleaned.head()"
   ]
  },
  {
   "cell_type": "code",
   "execution_count": 22,
   "metadata": {
    "colab": {},
    "colab_type": "code",
    "id": "rJ5vzmaQxtzy"
   },
   "outputs": [],
   "source": [
    "def remove_ws(text):\n",
    "    \"\"\"\n",
    "    Removing extra whitespace, make all text lower case, and remove trailing and leading white spaces\n",
    "    \"\"\"\n",
    "    text=re.sub(r'\\s+', ' ', text)\n",
    "    return text"
   ]
  },
  {
   "cell_type": "code",
   "execution_count": 23,
   "metadata": {
    "colab": {},
    "colab_type": "code",
    "id": "_gmYTjtfyJFP"
   },
   "outputs": [],
   "source": [
    "senti_cleaned['text'] = senti_cleaned['text'].apply(remove_ws)"
   ]
  },
  {
   "cell_type": "code",
   "execution_count": 24,
   "metadata": {
    "colab": {
     "base_uri": "https://localhost:8080/"
    },
    "colab_type": "code",
    "id": "UtMtaSPHy-qg",
    "outputId": "5179ca0e-c8ab-4ec7-be4e-fa24811d3252"
   },
   "outputs": [
    {
     "data": {
      "text/html": [
       "<div>\n",
       "<style scoped>\n",
       "    .dataframe tbody tr th:only-of-type {\n",
       "        vertical-align: middle;\n",
       "    }\n",
       "\n",
       "    .dataframe tbody tr th {\n",
       "        vertical-align: top;\n",
       "    }\n",
       "\n",
       "    .dataframe thead th {\n",
       "        text-align: right;\n",
       "    }\n",
       "</style>\n",
       "<table border=\"1\" class=\"dataframe\">\n",
       "  <thead>\n",
       "    <tr style=\"text-align: right;\">\n",
       "      <th></th>\n",
       "      <th>text</th>\n",
       "    </tr>\n",
       "  </thead>\n",
       "  <tbody>\n",
       "    <tr>\n",
       "      <th>0</th>\n",
       "      <td>josh jenkins looking forward tab breeders crow...</td>\n",
       "    </tr>\n",
       "    <tr>\n",
       "      <th>1</th>\n",
       "      <td>rt congratulations pakistan becoming no testte...</td>\n",
       "    </tr>\n",
       "    <tr>\n",
       "      <th>2</th>\n",
       "      <td>rt september taking maine mendozas surprise th...</td>\n",
       "    </tr>\n",
       "    <tr>\n",
       "      <th>3</th>\n",
       "      <td>rt newly painted walls thanks million custodia...</td>\n",
       "    </tr>\n",
       "    <tr>\n",
       "      <th>4</th>\n",
       "      <td>rt excited announce july feschotte lab relocat...</td>\n",
       "    </tr>\n",
       "  </tbody>\n",
       "</table>\n",
       "</div>"
      ],
      "text/plain": [
       "                                                text\n",
       "0  josh jenkins looking forward tab breeders crow...\n",
       "1  rt congratulations pakistan becoming no testte...\n",
       "2  rt september taking maine mendozas surprise th...\n",
       "3  rt newly painted walls thanks million custodia...\n",
       "4  rt excited announce july feschotte lab relocat..."
      ]
     },
     "execution_count": 24,
     "metadata": {},
     "output_type": "execute_result"
    }
   ],
   "source": [
    "senti_cleaned.head()"
   ]
  },
  {
   "cell_type": "markdown",
   "metadata": {
    "colab_type": "text",
    "id": "hcH7BjBGbheA"
   },
   "source": [
    "## Lemmatization"
   ]
  },
  {
   "cell_type": "markdown",
   "metadata": {
    "colab_type": "text",
    "id": "1hpGKLLLQoQ0"
   },
   "source": [
    "Lemmatization uses a vocabulary and morphological analysis of the word to return it to its base form. This condenses variations of one word into its base form. It is comparatively more computationally expensive than stemming, but more accurate."
   ]
  },
  {
   "cell_type": "code",
   "execution_count": 25,
   "metadata": {
    "colab": {},
    "colab_type": "code",
    "id": "htwXJhsKjJma"
   },
   "outputs": [],
   "source": [
    "def lemmatization(text):\n",
    "    words = word_tokenize(text)\n",
    "    new_text = [lemmatizer.lemmatize(word) for word in words]\n",
    "    return ' '.join(new_text)"
   ]
  },
  {
   "cell_type": "code",
   "execution_count": 26,
   "metadata": {
    "colab": {},
    "colab_type": "code",
    "id": "_XsilXwQkydQ"
   },
   "outputs": [],
   "source": [
    "senti_cleaned['text'] = senti_cleaned['text'].apply(lemmatization)"
   ]
  },
  {
   "cell_type": "code",
   "execution_count": 27,
   "metadata": {
    "colab": {
     "base_uri": "https://localhost:8080/"
    },
    "colab_type": "code",
    "id": "hZEMsegpw2-l",
    "outputId": "76536775-e63a-4020-b372-f04b5acded56"
   },
   "outputs": [
    {
     "data": {
      "text/html": [
       "<div>\n",
       "<style scoped>\n",
       "    .dataframe tbody tr th:only-of-type {\n",
       "        vertical-align: middle;\n",
       "    }\n",
       "\n",
       "    .dataframe tbody tr th {\n",
       "        vertical-align: top;\n",
       "    }\n",
       "\n",
       "    .dataframe thead th {\n",
       "        text-align: right;\n",
       "    }\n",
       "</style>\n",
       "<table border=\"1\" class=\"dataframe\">\n",
       "  <thead>\n",
       "    <tr style=\"text-align: right;\">\n",
       "      <th></th>\n",
       "      <th>text</th>\n",
       "    </tr>\n",
       "  </thead>\n",
       "  <tbody>\n",
       "    <tr>\n",
       "      <th>0</th>\n",
       "      <td>josh jenkins looking forward tab breeder crown...</td>\n",
       "    </tr>\n",
       "    <tr>\n",
       "      <th>1</th>\n",
       "      <td>rt congratulation pakistan becoming no testtea...</td>\n",
       "    </tr>\n",
       "    <tr>\n",
       "      <th>2</th>\n",
       "      <td>rt september taking maine mendozas surprise th...</td>\n",
       "    </tr>\n",
       "    <tr>\n",
       "      <th>3</th>\n",
       "      <td>rt newly painted wall thanks million custodial...</td>\n",
       "    </tr>\n",
       "    <tr>\n",
       "      <th>4</th>\n",
       "      <td>rt excited announce july feschotte lab relocat...</td>\n",
       "    </tr>\n",
       "  </tbody>\n",
       "</table>\n",
       "</div>"
      ],
      "text/plain": [
       "                                                text\n",
       "0  josh jenkins looking forward tab breeder crown...\n",
       "1  rt congratulation pakistan becoming no testtea...\n",
       "2  rt september taking maine mendozas surprise th...\n",
       "3  rt newly painted wall thanks million custodial...\n",
       "4  rt excited announce july feschotte lab relocat..."
      ]
     },
     "execution_count": 27,
     "metadata": {},
     "output_type": "execute_result"
    }
   ],
   "source": [
    "senti_cleaned.head()"
   ]
  },
  {
   "cell_type": "markdown",
   "metadata": {
    "colab_type": "text",
    "id": "xcFi5_hA7l0J"
   },
   "source": [
    "## Concat cleaned text with original data"
   ]
  },
  {
   "cell_type": "code",
   "execution_count": 28,
   "metadata": {
    "colab": {
     "base_uri": "https://localhost:8080/"
    },
    "colab_type": "code",
    "id": "lTv1gN8Z7tBm",
    "outputId": "bae941dc-dbdb-46b9-f864-9e35c94743c6"
   },
   "outputs": [
    {
     "data": {
      "text/html": [
       "<div>\n",
       "<style scoped>\n",
       "    .dataframe tbody tr th:only-of-type {\n",
       "        vertical-align: middle;\n",
       "    }\n",
       "\n",
       "    .dataframe tbody tr th {\n",
       "        vertical-align: top;\n",
       "    }\n",
       "\n",
       "    .dataframe thead th {\n",
       "        text-align: right;\n",
       "    }\n",
       "</style>\n",
       "<table border=\"1\" class=\"dataframe\">\n",
       "  <thead>\n",
       "    <tr style=\"text-align: right;\">\n",
       "      <th></th>\n",
       "      <th>ID</th>\n",
       "      <th>text</th>\n",
       "      <th>label</th>\n",
       "      <th>sentiment</th>\n",
       "      <th>cleaned_text</th>\n",
       "    </tr>\n",
       "  </thead>\n",
       "  <tbody>\n",
       "    <tr>\n",
       "      <th>0</th>\n",
       "      <td>7.680980e+17</td>\n",
       "      <td>Josh Jenkins is looking forward to TAB Breeder...</td>\n",
       "      <td>1</td>\n",
       "      <td>Positive</td>\n",
       "      <td>josh jenkins looking forward tab breeder crown...</td>\n",
       "    </tr>\n",
       "    <tr>\n",
       "      <th>1</th>\n",
       "      <td>7.680980e+17</td>\n",
       "      <td>RT @MianUsmanJaved: Congratulations Pakistan o...</td>\n",
       "      <td>1</td>\n",
       "      <td>Positive</td>\n",
       "      <td>rt congratulation pakistan becoming no testtea...</td>\n",
       "    </tr>\n",
       "    <tr>\n",
       "      <th>2</th>\n",
       "      <td>7.680980e+17</td>\n",
       "      <td>RT @PEPalerts: This September, @YESmag is taki...</td>\n",
       "      <td>1</td>\n",
       "      <td>Positive</td>\n",
       "      <td>rt september taking maine mendozas surprise th...</td>\n",
       "    </tr>\n",
       "    <tr>\n",
       "      <th>3</th>\n",
       "      <td>7.680980e+17</td>\n",
       "      <td>RT @david_gaibis: Newly painted walls, thanks ...</td>\n",
       "      <td>1</td>\n",
       "      <td>Positive</td>\n",
       "      <td>rt newly painted wall thanks million custodial...</td>\n",
       "    </tr>\n",
       "    <tr>\n",
       "      <th>4</th>\n",
       "      <td>7.680980e+17</td>\n",
       "      <td>RT @CedricFeschotte: Excited to announce: as o...</td>\n",
       "      <td>1</td>\n",
       "      <td>Positive</td>\n",
       "      <td>rt excited announce july feschotte lab relocat...</td>\n",
       "    </tr>\n",
       "  </tbody>\n",
       "</table>\n",
       "</div>"
      ],
      "text/plain": [
       "             ID                                               text  label  \\\n",
       "0  7.680980e+17  Josh Jenkins is looking forward to TAB Breeder...      1   \n",
       "1  7.680980e+17  RT @MianUsmanJaved: Congratulations Pakistan o...      1   \n",
       "2  7.680980e+17  RT @PEPalerts: This September, @YESmag is taki...      1   \n",
       "3  7.680980e+17  RT @david_gaibis: Newly painted walls, thanks ...      1   \n",
       "4  7.680980e+17  RT @CedricFeschotte: Excited to announce: as o...      1   \n",
       "\n",
       "  sentiment                                       cleaned_text  \n",
       "0  Positive  josh jenkins looking forward tab breeder crown...  \n",
       "1  Positive  rt congratulation pakistan becoming no testtea...  \n",
       "2  Positive  rt september taking maine mendozas surprise th...  \n",
       "3  Positive  rt newly painted wall thanks million custodial...  \n",
       "4  Positive  rt excited announce july feschotte lab relocat...  "
      ]
     },
     "execution_count": 28,
     "metadata": {},
     "output_type": "execute_result"
    }
   ],
   "source": [
    "senti_cleaned.columns = ['cleaned_text']\n",
    "senti = pd.concat([senti, senti_cleaned], axis=1)\n",
    "senti.head()"
   ]
  },
  {
   "cell_type": "markdown",
   "metadata": {
    "colab_type": "text",
    "id": "t4jIOuqV878i"
   },
   "source": [
    "## Data cleaning for Canadian Election 2019 dataset"
   ]
  },
  {
   "cell_type": "markdown",
   "metadata": {
    "colab_type": "text",
    "id": "akWvsZkfRTu7"
   },
   "source": [
    "This section follows the same methods developed previously and cleans the Canadian Election 2019 dataset to satisfy the requirements."
   ]
  },
  {
   "cell_type": "code",
   "execution_count": 29,
   "metadata": {
    "colab": {},
    "colab_type": "code",
    "id": "n32PiAOu9Bir"
   },
   "outputs": [],
   "source": [
    "elec_cleaned = elec[['text']].apply(lambda x: x.astype(str).str.lower())"
   ]
  },
  {
   "cell_type": "code",
   "execution_count": 30,
   "metadata": {
    "colab": {},
    "colab_type": "code",
    "id": "fuyiR-INfACp"
   },
   "outputs": [
    {
     "name": "stderr",
     "output_type": "stream",
     "text": [
      "/home/anirudh/anaconda3/lib/python3.8/site-packages/bs4/__init__.py:414: MarkupResemblesLocatorWarning: \"https://t.co/f4y1bhld8f'\" looks like a URL. Beautiful Soup is not an HTTP client. You should probably use an HTTP client like requests to get the document behind the URL, and feed that document to Beautiful Soup.\n",
      "  warnings.warn(\n"
     ]
    }
   ],
   "source": [
    "elec_cleaned['text'] = elec_cleaned['text'].apply(parse)"
   ]
  },
  {
   "cell_type": "code",
   "execution_count": 31,
   "metadata": {
    "colab": {},
    "colab_type": "code",
    "id": "OQ5CNS98fF9q"
   },
   "outputs": [],
   "source": [
    "elec_cleaned['text'] = elec_cleaned['text'].apply(normalize)"
   ]
  },
  {
   "cell_type": "code",
   "execution_count": 32,
   "metadata": {
    "colab": {},
    "colab_type": "code",
    "id": "EtNzKqpxfGvX"
   },
   "outputs": [],
   "source": [
    "elec_cleaned['text'] = elec_cleaned['text'].apply(remove_URL)"
   ]
  },
  {
   "cell_type": "code",
   "execution_count": 33,
   "metadata": {
    "colab": {},
    "colab_type": "code",
    "id": "X11AuC21fG6Y"
   },
   "outputs": [],
   "source": [
    "elec_cleaned['text'] = elec_cleaned['text'].apply(remove_stopwords)"
   ]
  },
  {
   "cell_type": "code",
   "execution_count": 34,
   "metadata": {
    "colab": {},
    "colab_type": "code",
    "id": "PWhOJju2fXlJ"
   },
   "outputs": [],
   "source": [
    "elec_cleaned['text'] = elec_cleaned['text'].apply(remove_hashtag)"
   ]
  },
  {
   "cell_type": "code",
   "execution_count": 35,
   "metadata": {
    "colab": {},
    "colab_type": "code",
    "id": "32YSi8VEfb2Q"
   },
   "outputs": [],
   "source": [
    "elec_cleaned['text'] = elec_cleaned['text'].apply(remove_nonletter)"
   ]
  },
  {
   "cell_type": "code",
   "execution_count": 36,
   "metadata": {
    "colab": {},
    "colab_type": "code",
    "id": "f2YsFcLlfcPT"
   },
   "outputs": [],
   "source": [
    "elec_cleaned['text'] = elec_cleaned['text'].apply(remove_ws)"
   ]
  },
  {
   "cell_type": "code",
   "execution_count": 37,
   "metadata": {
    "colab": {},
    "colab_type": "code",
    "id": "Ej9prLlwfyhd"
   },
   "outputs": [],
   "source": [
    "elec_cleaned['text'] = elec_cleaned['text'].apply(lemmatization)"
   ]
  },
  {
   "cell_type": "code",
   "execution_count": 38,
   "metadata": {
    "colab": {
     "base_uri": "https://localhost:8080/"
    },
    "colab_type": "code",
    "id": "oNlBgrf2ggHW",
    "outputId": "04e61ecc-0e43-4503-b022-4f610aee04ba"
   },
   "outputs": [
    {
     "data": {
      "text/html": [
       "<div>\n",
       "<style scoped>\n",
       "    .dataframe tbody tr th:only-of-type {\n",
       "        vertical-align: middle;\n",
       "    }\n",
       "\n",
       "    .dataframe tbody tr th {\n",
       "        vertical-align: top;\n",
       "    }\n",
       "\n",
       "    .dataframe thead th {\n",
       "        text-align: right;\n",
       "    }\n",
       "</style>\n",
       "<table border=\"1\" class=\"dataframe\">\n",
       "  <thead>\n",
       "    <tr style=\"text-align: right;\">\n",
       "      <th></th>\n",
       "      <th>text</th>\n",
       "      <th>sentiment</th>\n",
       "      <th>negative_reason</th>\n",
       "      <th>cleaned_text</th>\n",
       "    </tr>\n",
       "  </thead>\n",
       "  <tbody>\n",
       "    <tr>\n",
       "      <th>0</th>\n",
       "      <td>b'@robreiner so afraid of Nov, Dec, and Jan! E...</td>\n",
       "      <td>Negative</td>\n",
       "      <td>covid19</td>\n",
       "      <td>b afraid nov dec jan even bidenharris win frum...</td>\n",
       "    </tr>\n",
       "    <tr>\n",
       "      <th>1</th>\n",
       "      <td>b\"RT @SueC00K: Lord Sumption launches Recovery...</td>\n",
       "      <td>Negative</td>\n",
       "      <td>others</td>\n",
       "      <td>b rt lord sumption launch recovery new initiat...</td>\n",
       "    </tr>\n",
       "    <tr>\n",
       "      <th>2</th>\n",
       "      <td>b'RT @WalidPhares: Uber Timing: after #Biden a...</td>\n",
       "      <td>Negative</td>\n",
       "      <td>covid19</td>\n",
       "      <td>b rt uber timing biden advisor said would put ...</td>\n",
       "    </tr>\n",
       "    <tr>\n",
       "      <th>3</th>\n",
       "      <td>b'Every 107 seconds an American is dying from ...</td>\n",
       "      <td>Positive</td>\n",
       "      <td>NaN</td>\n",
       "      <td>b every second american dying trumpvirus n n d...</td>\n",
       "    </tr>\n",
       "    <tr>\n",
       "      <th>4</th>\n",
       "      <td>b'RT @thewebbix: The #Democrats embrace #Diver...</td>\n",
       "      <td>Positive</td>\n",
       "      <td>NaN</td>\n",
       "      <td>b rt democrat embrace diversityandinclusion ci...</td>\n",
       "    </tr>\n",
       "  </tbody>\n",
       "</table>\n",
       "</div>"
      ],
      "text/plain": [
       "                                                text sentiment  \\\n",
       "0  b'@robreiner so afraid of Nov, Dec, and Jan! E...  Negative   \n",
       "1  b\"RT @SueC00K: Lord Sumption launches Recovery...  Negative   \n",
       "2  b'RT @WalidPhares: Uber Timing: after #Biden a...  Negative   \n",
       "3  b'Every 107 seconds an American is dying from ...  Positive   \n",
       "4  b'RT @thewebbix: The #Democrats embrace #Diver...  Positive   \n",
       "\n",
       "  negative_reason                                       cleaned_text  \n",
       "0         covid19  b afraid nov dec jan even bidenharris win frum...  \n",
       "1          others  b rt lord sumption launch recovery new initiat...  \n",
       "2         covid19  b rt uber timing biden advisor said would put ...  \n",
       "3             NaN  b every second american dying trumpvirus n n d...  \n",
       "4             NaN  b rt democrat embrace diversityandinclusion ci...  "
      ]
     },
     "execution_count": 38,
     "metadata": {},
     "output_type": "execute_result"
    }
   ],
   "source": [
    "\n",
    "elec_cleaned.columns = ['cleaned_text']\n",
    "elec = pd.concat([elec, elec_cleaned], axis=1)\n",
    "elec.head()\n",
    "\n",
    "elec.head()\n"
   ]
  },
  {
   "cell_type": "markdown",
   "metadata": {
    "colab_type": "text",
    "id": "AVcP0PsYjnGL"
   },
   "source": [
    "# Quesyion 2: Exploratory Analysis"
   ]
  },
  {
   "cell_type": "markdown",
   "metadata": {
    "colab_type": "text",
    "id": "3xN0W9aOQLCD"
   },
   "source": [
    "## Determine the political party"
   ]
  },
  {
   "cell_type": "code",
   "execution_count": 39,
   "metadata": {
    "colab": {},
    "colab_type": "code",
    "id": "TCVnBXDXjuNb"
   },
   "outputs": [],
   "source": [
    "# keywords/hashtags that represent each party\n",
    "# obtained from the internet consisted of political party names and leader names in various forms\n",
    "conserv = ['conserv','con','andrew', 'scheer', 'andrewscheer', 'conservative', 'conservatives', \n",
    "           'cpc_hq', 'cpc', 'ford']\n",
    "liberal = ['liber','lib','justin', 'trudeau', 'justintrudeau', 'liberal', 'liberals', 'timlouis', \n",
    "           'chooseforward', 'chooseforwardwithtrudeau', 'teamtrudeau', 'votingliberal']\n",
    "NDP = ['ndp', 'jagmeet', 'singh', 'thejagmeetsingh', 'uprisingh']"
   ]
  },
  {
   "cell_type": "code",
   "execution_count": 40,
   "metadata": {
    "colab": {
     "base_uri": "https://localhost:8080/"
    },
    "colab_type": "code",
    "id": "2UPysgp6KRQc",
    "outputId": "abac686d-40da-4b1b-ab2e-99911d692be9"
   },
   "outputs": [
    {
     "data": {
      "text/html": [
       "<div>\n",
       "<style scoped>\n",
       "    .dataframe tbody tr th:only-of-type {\n",
       "        vertical-align: middle;\n",
       "    }\n",
       "\n",
       "    .dataframe tbody tr th {\n",
       "        vertical-align: top;\n",
       "    }\n",
       "\n",
       "    .dataframe thead th {\n",
       "        text-align: right;\n",
       "    }\n",
       "</style>\n",
       "<table border=\"1\" class=\"dataframe\">\n",
       "  <thead>\n",
       "    <tr style=\"text-align: right;\">\n",
       "      <th></th>\n",
       "      <th>text</th>\n",
       "      <th>sentiment</th>\n",
       "      <th>negative_reason</th>\n",
       "      <th>cleaned_text</th>\n",
       "      <th>Political Party</th>\n",
       "    </tr>\n",
       "  </thead>\n",
       "  <tbody>\n",
       "    <tr>\n",
       "      <th>0</th>\n",
       "      <td>b'@robreiner so afraid of Nov, Dec, and Jan! E...</td>\n",
       "      <td>Negative</td>\n",
       "      <td>covid19</td>\n",
       "      <td>b afraid nov dec jan even bidenharris win frum...</td>\n",
       "      <td>None</td>\n",
       "    </tr>\n",
       "    <tr>\n",
       "      <th>1</th>\n",
       "      <td>b\"RT @SueC00K: Lord Sumption launches Recovery...</td>\n",
       "      <td>Negative</td>\n",
       "      <td>others</td>\n",
       "      <td>b rt lord sumption launch recovery new initiat...</td>\n",
       "      <td>None</td>\n",
       "    </tr>\n",
       "    <tr>\n",
       "      <th>2</th>\n",
       "      <td>b'RT @WalidPhares: Uber Timing: after #Biden a...</td>\n",
       "      <td>Negative</td>\n",
       "      <td>covid19</td>\n",
       "      <td>b rt uber timing biden advisor said would put ...</td>\n",
       "      <td>None</td>\n",
       "    </tr>\n",
       "    <tr>\n",
       "      <th>3</th>\n",
       "      <td>b'Every 107 seconds an American is dying from ...</td>\n",
       "      <td>Positive</td>\n",
       "      <td>NaN</td>\n",
       "      <td>b every second american dying trumpvirus n n d...</td>\n",
       "      <td>Conservative</td>\n",
       "    </tr>\n",
       "    <tr>\n",
       "      <th>4</th>\n",
       "      <td>b'RT @thewebbix: The #Democrats embrace #Diver...</td>\n",
       "      <td>Positive</td>\n",
       "      <td>NaN</td>\n",
       "      <td>b rt democrat embrace diversityandinclusion ci...</td>\n",
       "      <td>None</td>\n",
       "    </tr>\n",
       "  </tbody>\n",
       "</table>\n",
       "</div>"
      ],
      "text/plain": [
       "                                                text sentiment  \\\n",
       "0  b'@robreiner so afraid of Nov, Dec, and Jan! E...  Negative   \n",
       "1  b\"RT @SueC00K: Lord Sumption launches Recovery...  Negative   \n",
       "2  b'RT @WalidPhares: Uber Timing: after #Biden a...  Negative   \n",
       "3  b'Every 107 seconds an American is dying from ...  Positive   \n",
       "4  b'RT @thewebbix: The #Democrats embrace #Diver...  Positive   \n",
       "\n",
       "  negative_reason                                       cleaned_text  \\\n",
       "0         covid19  b afraid nov dec jan even bidenharris win frum...   \n",
       "1          others  b rt lord sumption launch recovery new initiat...   \n",
       "2         covid19  b rt uber timing biden advisor said would put ...   \n",
       "3             NaN  b every second american dying trumpvirus n n d...   \n",
       "4             NaN  b rt democrat embrace diversityandinclusion ci...   \n",
       "\n",
       "  Political Party  \n",
       "0            None  \n",
       "1            None  \n",
       "2            None  \n",
       "3    Conservative  \n",
       "4            None  "
      ]
     },
     "execution_count": 40,
     "metadata": {},
     "output_type": "execute_result"
    }
   ],
   "source": [
    "# determine the political party by looking for the keywords of each party in the tweets\n",
    "def LabelParty(text):\n",
    "    for keyword1 in conserv:\n",
    "        if text.find(keyword1)>=0:\n",
    "            return \"Conservative\"\n",
    "    for keyword2 in liberal:\n",
    "        if text.find(keyword2)>=0:\n",
    "            return \"Liberal\"\n",
    "    for keyword3 in NDP:\n",
    "        if text.find(keyword3)>=0:\n",
    "            return \"NDP\"        \n",
    "    return \"None\"\n",
    "\n",
    "elec['Political Party'] = elec['cleaned_text'].apply(LabelParty)\n",
    "\n",
    "elec.head()"
   ]
  },
  {
   "cell_type": "code",
   "execution_count": 41,
   "metadata": {
    "colab": {
     "base_uri": "https://localhost:8080/"
    },
    "colab_type": "code",
    "id": "TExfrFODPI3c",
    "outputId": "7f8232f4-3c29-41ca-db7d-f569bfd5d6ee"
   },
   "outputs": [
    {
     "data": {
      "text/plain": [
       "None            2322\n",
       "Conservative     212\n",
       "Liberal           17\n",
       "NDP                1\n",
       "Name: Political Party, dtype: int64"
      ]
     },
     "execution_count": 41,
     "metadata": {},
     "output_type": "execute_result"
    }
   ],
   "source": [
    "# print the distribution of the political affiliations of the tweets\n",
    "elec['Political Party'].value_counts()"
   ]
  },
  {
   "cell_type": "markdown",
   "metadata": {
    "colab_type": "text",
    "id": "RYltAvtdYmC_"
   },
   "source": [
    "According to the results, there are around eight hundred of tweets mentioned something about conservative party. For liberal the number if 323 and for NDP is 112. Conservative party gets the most attention of the public, no matter negative or positive."
   ]
  },
  {
   "cell_type": "markdown",
   "metadata": {
    "colab_type": "text",
    "id": "gUvCJ6-Pu_Fv"
   },
   "source": [
    "## Dataset visualization"
   ]
  },
  {
   "cell_type": "markdown",
   "metadata": {
    "colab_type": "text",
    "id": "esPYnI6HxTj7"
   },
   "source": [
    "### Word cloud for each dataset"
   ]
  },
  {
   "cell_type": "code",
   "execution_count": 42,
   "metadata": {
    "colab": {
     "base_uri": "https://localhost:8080/"
    },
    "colab_type": "code",
    "id": "Bo0JxDM0xb3y",
    "outputId": "107eb09f-4506-4f7a-83ad-67f9f2c5a5ff"
   },
   "outputs": [
    {
     "data": {
      "image/png": "[encoded data removed]",
      "text/plain": [
       "<Figure size 1440x720 with 1 Axes>"
      ]
     },
     "metadata": {
      "needs_background": "light"
     },
     "output_type": "display_data"
    }
   ],
   "source": [
    "# word cloud for generic tweets dataset\n",
    "text = senti.cleaned_text.values\n",
    "senti_wordcloud = WordCloud(width = 3000, height = 2000, background_color=\"black\").generate(str(text))\n",
    "\n",
    "plt.figure(figsize=(20,10))\n",
    "plt.imshow(senti_wordcloud, interpolation='bilinear')\n",
    "plt.title('Keywords of Tweets of Generic Tweets')\n",
    "plt.axis(\"off\")\n",
    "plt.show()"
   ]
  },
  {
   "cell_type": "code",
   "execution_count": 43,
   "metadata": {
    "colab": {
     "base_uri": "https://localhost:8080/"
    },
    "colab_type": "code",
    "id": "lAUbw2Gm2FbI",
    "outputId": "8fe0cbc9-c971-416a-efc2-9ee2cea3a741"
   },
   "outputs": [
    {
     "data": {
      "image/png": "[encoded data removed]",
      "text/plain": [
       "<Figure size 1440x720 with 1 Axes>"
      ]
     },
     "metadata": {
      "needs_background": "light"
     },
     "output_type": "display_data"
    }
   ],
   "source": [
    "# word cloud for Canadian Elections 2019 dataset\n",
    "text = elec.cleaned_text.values\n",
    "elec_wordcloud = WordCloud(width = 3000, height = 2000, background_color=\"black\").generate(str(text))\n",
    "\n",
    "plt.figure(figsize=(20,10))\n",
    "plt.imshow(elec_wordcloud, interpolation='bilinear')\n",
    "plt.title('Keywords of Tweets of Canadian Elections 2019')\n",
    "plt.axis(\"off\")\n",
    "plt.show()\n"
   ]
  },
  {
   "cell_type": "markdown",
   "metadata": {
    "colab_type": "text",
    "id": "TZTOQu5ece4J"
   },
   "source": [
    "From the word cloud of people's voice, we can see the frequent mentions of political party and leaders' names. There are some words such as 'suggestion', 'right', 'instead', 'going', 'strategic', 'reminder' that may show people expressing their opinions and hoping for the changes. There are also some words such as 'woman', 'allwomanspacewalk' and 'abortion' showing people concerning women productive rights."
   ]
  },
  {
   "cell_type": "markdown",
   "metadata": {
    "colab_type": "text",
    "id": "FsA8ZxVf2loH"
   },
   "source": [
    "### **BONUS**: Distribution of tweets"
   ]
  },
  {
   "cell_type": "markdown",
   "metadata": {
    "colab_type": "text",
    "id": "OuPgzKm9f9Fh"
   },
   "source": [
    "A bar chart is plotted in this section to visualize the distribution of the tweets with political affiliation of each party."
   ]
  },
  {
   "cell_type": "code",
   "execution_count": 44,
   "metadata": {
    "colab": {
     "base_uri": "https://localhost:8080/"
    },
    "colab_type": "code",
    "id": "ptM-YNIC6Cs0",
    "outputId": "46b863f4-847c-48fb-fbf5-213cee4da0a6"
   },
   "outputs": [
    {
     "data": {
      "image/png": "[encoded data removed]",
      "text/plain": [
       "<Figure size 432x288 with 1 Axes>"
      ]
     },
     "metadata": {
      "needs_background": "light"
     },
     "output_type": "display_data"
    }
   ],
   "source": [
    "plt.bar(elec['Political Party'].unique(),elec['Political Party'].value_counts(), align='center', alpha=0.5)\n",
    "plt.xticks(elec['Political Party'].unique())\n",
    "plt.ylabel('Number of Tweets')\n",
    "plt.title('Political Party')\n",
    "\n",
    "plt.show()"
   ]
  },
  {
   "cell_type": "markdown",
   "metadata": {
    "colab_type": "text",
    "id": "eYR9PcWQ6urF"
   },
   "source": [
    "### **BONUS**: Distribution of negative reasons"
   ]
  },
  {
   "cell_type": "markdown",
   "metadata": {
    "colab_type": "text",
    "id": "HLfupVJFjo9C"
   },
   "source": [
    "A pie chart is plotted to show the percentage of each negative reason with respective to the total."
   ]
  },
  {
   "cell_type": "code",
   "execution_count": 45,
   "metadata": {
    "colab": {
     "base_uri": "https://localhost:8080/"
    },
    "colab_type": "code",
    "id": "alae-NHF63id",
    "outputId": "a6cf96cb-09e8-4c01-d696-85f86a14d27c"
   },
   "outputs": [],
   "source": [
    "# labels = list(elec['negative_reason'].value_counts().keys())\n",
    "# sizes = list(elec['negative_reason'].value_counts().values)\n",
    "# explode = (0, 0, 0, 0, 0.5, 0, 0, 0, 0, 0) \n",
    "# fig1, ax1 = plt.subplots()\n",
    "# ax1.pie(sizes, explode=explode, labels=labels, autopct='%1.2f%%', shadow=True)\n",
    "# ax1.axis('equal') \n",
    "# fig = plt.gcf()\n",
    "# fig.set_size_inches(20,15)\n",
    "# plt.title('Reasons of Negative Tweets', fontsize=16)\n",
    "# plt.show()"
   ]
  },
  {
   "cell_type": "markdown",
   "metadata": {
    "colab_type": "text",
    "id": "krFEpUkH-Ufb"
   },
   "source": [
    "# Question 3: Model Preparation"
   ]
  },
  {
   "cell_type": "markdown",
   "metadata": {
    "colab_type": "text",
    "id": "LoyIv__8sYm5"
   },
   "source": [
    "## Word frequency"
   ]
  },
  {
   "cell_type": "markdown",
   "metadata": {
    "colab_type": "text",
    "id": "Mf3-c0gmnxGy"
   },
   "source": [
    "The technique of word frequency, as indicated by the name, represents a count of the respective word from a bag of words that are deemed most frequent. It assumes that the most important keywords occur more often than words that are not.\n",
    "\n",
    "More information from the dataset is retained with more features. However, due to the limited RAM and running time, the maximum number of features used is 512 in this case."
   ]
  },
  {
   "cell_type": "code",
   "execution_count": 46,
   "metadata": {
    "colab": {
     "base_uri": "https://localhost:8080/"
    },
    "colab_type": "code",
    "id": "lE1yxQQc4LMY",
    "outputId": "748fa75f-aa26-4016-856e-26eefec1cc29"
   },
   "outputs": [
    {
     "data": {
      "text/html": [
       "<div>\n",
       "<style scoped>\n",
       "    .dataframe tbody tr th:only-of-type {\n",
       "        vertical-align: middle;\n",
       "    }\n",
       "\n",
       "    .dataframe tbody tr th {\n",
       "        vertical-align: top;\n",
       "    }\n",
       "\n",
       "    .dataframe thead th {\n",
       "        text-align: right;\n",
       "    }\n",
       "</style>\n",
       "<table border=\"1\" class=\"dataframe\">\n",
       "  <thead>\n",
       "    <tr style=\"text-align: right;\">\n",
       "      <th></th>\n",
       "      <th>absolutely</th>\n",
       "      <th>actually</th>\n",
       "      <th>adorable</th>\n",
       "      <th>again</th>\n",
       "      <th>ain</th>\n",
       "      <th>album</th>\n",
       "      <th>all</th>\n",
       "      <th>almost</th>\n",
       "      <th>already</th>\n",
       "      <th>also</th>\n",
       "      <th>...</th>\n",
       "      <th>would</th>\n",
       "      <th>wow</th>\n",
       "      <th>wrong</th>\n",
       "      <th>ya</th>\n",
       "      <th>year</th>\n",
       "      <th>yes</th>\n",
       "      <th>yesterday</th>\n",
       "      <th>yet</th>\n",
       "      <th>you</th>\n",
       "      <th>young</th>\n",
       "    </tr>\n",
       "  </thead>\n",
       "  <tbody>\n",
       "    <tr>\n",
       "      <th>0</th>\n",
       "      <td>0</td>\n",
       "      <td>0</td>\n",
       "      <td>0</td>\n",
       "      <td>0</td>\n",
       "      <td>0</td>\n",
       "      <td>0</td>\n",
       "      <td>0</td>\n",
       "      <td>0</td>\n",
       "      <td>0</td>\n",
       "      <td>0</td>\n",
       "      <td>...</td>\n",
       "      <td>0</td>\n",
       "      <td>0</td>\n",
       "      <td>0</td>\n",
       "      <td>0</td>\n",
       "      <td>0</td>\n",
       "      <td>0</td>\n",
       "      <td>0</td>\n",
       "      <td>0</td>\n",
       "      <td>0</td>\n",
       "      <td>0</td>\n",
       "    </tr>\n",
       "    <tr>\n",
       "      <th>1</th>\n",
       "      <td>0</td>\n",
       "      <td>0</td>\n",
       "      <td>0</td>\n",
       "      <td>0</td>\n",
       "      <td>0</td>\n",
       "      <td>0</td>\n",
       "      <td>0</td>\n",
       "      <td>0</td>\n",
       "      <td>0</td>\n",
       "      <td>0</td>\n",
       "      <td>...</td>\n",
       "      <td>0</td>\n",
       "      <td>0</td>\n",
       "      <td>0</td>\n",
       "      <td>0</td>\n",
       "      <td>0</td>\n",
       "      <td>0</td>\n",
       "      <td>0</td>\n",
       "      <td>0</td>\n",
       "      <td>0</td>\n",
       "      <td>0</td>\n",
       "    </tr>\n",
       "    <tr>\n",
       "      <th>2</th>\n",
       "      <td>0</td>\n",
       "      <td>0</td>\n",
       "      <td>0</td>\n",
       "      <td>0</td>\n",
       "      <td>0</td>\n",
       "      <td>0</td>\n",
       "      <td>0</td>\n",
       "      <td>0</td>\n",
       "      <td>0</td>\n",
       "      <td>0</td>\n",
       "      <td>...</td>\n",
       "      <td>0</td>\n",
       "      <td>0</td>\n",
       "      <td>0</td>\n",
       "      <td>0</td>\n",
       "      <td>0</td>\n",
       "      <td>0</td>\n",
       "      <td>0</td>\n",
       "      <td>0</td>\n",
       "      <td>0</td>\n",
       "      <td>0</td>\n",
       "    </tr>\n",
       "    <tr>\n",
       "      <th>3</th>\n",
       "      <td>0</td>\n",
       "      <td>0</td>\n",
       "      <td>0</td>\n",
       "      <td>0</td>\n",
       "      <td>0</td>\n",
       "      <td>0</td>\n",
       "      <td>0</td>\n",
       "      <td>0</td>\n",
       "      <td>0</td>\n",
       "      <td>0</td>\n",
       "      <td>...</td>\n",
       "      <td>0</td>\n",
       "      <td>0</td>\n",
       "      <td>0</td>\n",
       "      <td>0</td>\n",
       "      <td>0</td>\n",
       "      <td>0</td>\n",
       "      <td>0</td>\n",
       "      <td>0</td>\n",
       "      <td>0</td>\n",
       "      <td>0</td>\n",
       "    </tr>\n",
       "    <tr>\n",
       "      <th>4</th>\n",
       "      <td>0</td>\n",
       "      <td>0</td>\n",
       "      <td>0</td>\n",
       "      <td>0</td>\n",
       "      <td>0</td>\n",
       "      <td>0</td>\n",
       "      <td>0</td>\n",
       "      <td>0</td>\n",
       "      <td>0</td>\n",
       "      <td>0</td>\n",
       "      <td>...</td>\n",
       "      <td>0</td>\n",
       "      <td>0</td>\n",
       "      <td>0</td>\n",
       "      <td>0</td>\n",
       "      <td>0</td>\n",
       "      <td>0</td>\n",
       "      <td>0</td>\n",
       "      <td>0</td>\n",
       "      <td>0</td>\n",
       "      <td>0</td>\n",
       "    </tr>\n",
       "  </tbody>\n",
       "</table>\n",
       "<p>5 rows × 512 columns</p>\n",
       "</div>"
      ],
      "text/plain": [
       "   absolutely  actually  adorable  again  ain  album  all  almost  already  \\\n",
       "0           0         0         0      0    0      0    0       0        0   \n",
       "1           0         0         0      0    0      0    0       0        0   \n",
       "2           0         0         0      0    0      0    0       0        0   \n",
       "3           0         0         0      0    0      0    0       0        0   \n",
       "4           0         0         0      0    0      0    0       0        0   \n",
       "\n",
       "   also  ...  would  wow  wrong  ya  year  yes  yesterday  yet  you  young  \n",
       "0     0  ...      0    0      0   0     0    0          0    0    0      0  \n",
       "1     0  ...      0    0      0   0     0    0          0    0    0      0  \n",
       "2     0  ...      0    0      0   0     0    0          0    0    0      0  \n",
       "3     0  ...      0    0      0   0     0    0          0    0    0      0  \n",
       "4     0  ...      0    0      0   0     0    0          0    0    0      0  \n",
       "\n",
       "[5 rows x 512 columns]"
      ]
     },
     "execution_count": 46,
     "metadata": {},
     "output_type": "execute_result"
    }
   ],
   "source": [
    "# prepare word frequency features\n",
    "corpus = senti['cleaned_text'].values.astype('U')\n",
    "vectorizer_wf = CountVectorizer(max_features=512)\n",
    "wf_array = vectorizer_wf.fit_transform(corpus).toarray()\n",
    "\n",
    "wf_features = pd.DataFrame(data=wf_array, columns = vectorizer_wf.get_feature_names())\n",
    "wf_features.head()"
   ]
  },
  {
   "cell_type": "markdown",
   "metadata": {
    "colab_type": "text",
    "id": "SpZ5iKXe6Kpg"
   },
   "source": [
    "## TF-IDF"
   ]
  },
  {
   "cell_type": "markdown",
   "metadata": {
    "colab_type": "text",
    "id": "ZN77Qgr5rzEX"
   },
   "source": [
    "The concept of Term Frequency-Inverse Document Frequency (TF-IDF) is different from Word Frequency that it assumes the words that appear often are in fact not important and words that appear less frequent contribute more to the overall importance."
   ]
  },
  {
   "cell_type": "code",
   "execution_count": 47,
   "metadata": {
    "colab": {
     "base_uri": "https://localhost:8080/"
    },
    "colab_type": "code",
    "id": "uysPLl8k9LWz",
    "outputId": "21c23700-6956-4a2d-9133-3c31f178e523"
   },
   "outputs": [
    {
     "data": {
      "text/html": [
       "<div>\n",
       "<style scoped>\n",
       "    .dataframe tbody tr th:only-of-type {\n",
       "        vertical-align: middle;\n",
       "    }\n",
       "\n",
       "    .dataframe tbody tr th {\n",
       "        vertical-align: top;\n",
       "    }\n",
       "\n",
       "    .dataframe thead th {\n",
       "        text-align: right;\n",
       "    }\n",
       "</style>\n",
       "<table border=\"1\" class=\"dataframe\">\n",
       "  <thead>\n",
       "    <tr style=\"text-align: right;\">\n",
       "      <th></th>\n",
       "      <th>absolutely</th>\n",
       "      <th>actually</th>\n",
       "      <th>adorable</th>\n",
       "      <th>again</th>\n",
       "      <th>ain</th>\n",
       "      <th>album</th>\n",
       "      <th>all</th>\n",
       "      <th>almost</th>\n",
       "      <th>already</th>\n",
       "      <th>also</th>\n",
       "      <th>...</th>\n",
       "      <th>would</th>\n",
       "      <th>wow</th>\n",
       "      <th>wrong</th>\n",
       "      <th>ya</th>\n",
       "      <th>year</th>\n",
       "      <th>yes</th>\n",
       "      <th>yesterday</th>\n",
       "      <th>yet</th>\n",
       "      <th>you</th>\n",
       "      <th>young</th>\n",
       "    </tr>\n",
       "  </thead>\n",
       "  <tbody>\n",
       "    <tr>\n",
       "      <th>0</th>\n",
       "      <td>0.0</td>\n",
       "      <td>0.0</td>\n",
       "      <td>0.0</td>\n",
       "      <td>0.0</td>\n",
       "      <td>0.0</td>\n",
       "      <td>0.0</td>\n",
       "      <td>0.0</td>\n",
       "      <td>0.0</td>\n",
       "      <td>0.0</td>\n",
       "      <td>0.0</td>\n",
       "      <td>...</td>\n",
       "      <td>0.0</td>\n",
       "      <td>0.0</td>\n",
       "      <td>0.0</td>\n",
       "      <td>0.0</td>\n",
       "      <td>0.0</td>\n",
       "      <td>0.0</td>\n",
       "      <td>0.0</td>\n",
       "      <td>0.0</td>\n",
       "      <td>0.0</td>\n",
       "      <td>0.0</td>\n",
       "    </tr>\n",
       "    <tr>\n",
       "      <th>1</th>\n",
       "      <td>0.0</td>\n",
       "      <td>0.0</td>\n",
       "      <td>0.0</td>\n",
       "      <td>0.0</td>\n",
       "      <td>0.0</td>\n",
       "      <td>0.0</td>\n",
       "      <td>0.0</td>\n",
       "      <td>0.0</td>\n",
       "      <td>0.0</td>\n",
       "      <td>0.0</td>\n",
       "      <td>...</td>\n",
       "      <td>0.0</td>\n",
       "      <td>0.0</td>\n",
       "      <td>0.0</td>\n",
       "      <td>0.0</td>\n",
       "      <td>0.0</td>\n",
       "      <td>0.0</td>\n",
       "      <td>0.0</td>\n",
       "      <td>0.0</td>\n",
       "      <td>0.0</td>\n",
       "      <td>0.0</td>\n",
       "    </tr>\n",
       "    <tr>\n",
       "      <th>2</th>\n",
       "      <td>0.0</td>\n",
       "      <td>0.0</td>\n",
       "      <td>0.0</td>\n",
       "      <td>0.0</td>\n",
       "      <td>0.0</td>\n",
       "      <td>0.0</td>\n",
       "      <td>0.0</td>\n",
       "      <td>0.0</td>\n",
       "      <td>0.0</td>\n",
       "      <td>0.0</td>\n",
       "      <td>...</td>\n",
       "      <td>0.0</td>\n",
       "      <td>0.0</td>\n",
       "      <td>0.0</td>\n",
       "      <td>0.0</td>\n",
       "      <td>0.0</td>\n",
       "      <td>0.0</td>\n",
       "      <td>0.0</td>\n",
       "      <td>0.0</td>\n",
       "      <td>0.0</td>\n",
       "      <td>0.0</td>\n",
       "    </tr>\n",
       "    <tr>\n",
       "      <th>3</th>\n",
       "      <td>0.0</td>\n",
       "      <td>0.0</td>\n",
       "      <td>0.0</td>\n",
       "      <td>0.0</td>\n",
       "      <td>0.0</td>\n",
       "      <td>0.0</td>\n",
       "      <td>0.0</td>\n",
       "      <td>0.0</td>\n",
       "      <td>0.0</td>\n",
       "      <td>0.0</td>\n",
       "      <td>...</td>\n",
       "      <td>0.0</td>\n",
       "      <td>0.0</td>\n",
       "      <td>0.0</td>\n",
       "      <td>0.0</td>\n",
       "      <td>0.0</td>\n",
       "      <td>0.0</td>\n",
       "      <td>0.0</td>\n",
       "      <td>0.0</td>\n",
       "      <td>0.0</td>\n",
       "      <td>0.0</td>\n",
       "    </tr>\n",
       "    <tr>\n",
       "      <th>4</th>\n",
       "      <td>0.0</td>\n",
       "      <td>0.0</td>\n",
       "      <td>0.0</td>\n",
       "      <td>0.0</td>\n",
       "      <td>0.0</td>\n",
       "      <td>0.0</td>\n",
       "      <td>0.0</td>\n",
       "      <td>0.0</td>\n",
       "      <td>0.0</td>\n",
       "      <td>0.0</td>\n",
       "      <td>...</td>\n",
       "      <td>0.0</td>\n",
       "      <td>0.0</td>\n",
       "      <td>0.0</td>\n",
       "      <td>0.0</td>\n",
       "      <td>0.0</td>\n",
       "      <td>0.0</td>\n",
       "      <td>0.0</td>\n",
       "      <td>0.0</td>\n",
       "      <td>0.0</td>\n",
       "      <td>0.0</td>\n",
       "    </tr>\n",
       "  </tbody>\n",
       "</table>\n",
       "<p>5 rows × 512 columns</p>\n",
       "</div>"
      ],
      "text/plain": [
       "   absolutely  actually  adorable  again  ain  album  all  almost  already  \\\n",
       "0         0.0       0.0       0.0    0.0  0.0    0.0  0.0     0.0      0.0   \n",
       "1         0.0       0.0       0.0    0.0  0.0    0.0  0.0     0.0      0.0   \n",
       "2         0.0       0.0       0.0    0.0  0.0    0.0  0.0     0.0      0.0   \n",
       "3         0.0       0.0       0.0    0.0  0.0    0.0  0.0     0.0      0.0   \n",
       "4         0.0       0.0       0.0    0.0  0.0    0.0  0.0     0.0      0.0   \n",
       "\n",
       "   also  ...  would  wow  wrong   ya  year  yes  yesterday  yet  you  young  \n",
       "0   0.0  ...    0.0  0.0    0.0  0.0   0.0  0.0        0.0  0.0  0.0    0.0  \n",
       "1   0.0  ...    0.0  0.0    0.0  0.0   0.0  0.0        0.0  0.0  0.0    0.0  \n",
       "2   0.0  ...    0.0  0.0    0.0  0.0   0.0  0.0        0.0  0.0  0.0    0.0  \n",
       "3   0.0  ...    0.0  0.0    0.0  0.0   0.0  0.0        0.0  0.0  0.0    0.0  \n",
       "4   0.0  ...    0.0  0.0    0.0  0.0   0.0  0.0        0.0  0.0  0.0    0.0  \n",
       "\n",
       "[5 rows x 512 columns]"
      ]
     },
     "execution_count": 47,
     "metadata": {},
     "output_type": "execute_result"
    }
   ],
   "source": [
    "# prepare TF-IDF features\n",
    "vectorizer_tfidf = TfidfVectorizer(use_idf=True, smooth_idf=True, norm=None, max_features=512)\n",
    "tfidf_array = vectorizer_tfidf.fit_transform(corpus).toarray()\n",
    "\n",
    "tfidf_features = pd.DataFrame(data=tfidf_array, columns = vectorizer_tfidf.get_feature_names())\n",
    "tfidf_features.head()"
   ]
  },
  {
   "cell_type": "markdown",
   "metadata": {
    "colab_type": "text",
    "id": "Qd7PyFpNDQ3P"
   },
   "source": [
    "## Split test and training set"
   ]
  },
  {
   "cell_type": "code",
   "execution_count": 48,
   "metadata": {},
   "outputs": [
    {
     "data": {
      "text/html": [
       "<div>\n",
       "<style scoped>\n",
       "    .dataframe tbody tr th:only-of-type {\n",
       "        vertical-align: middle;\n",
       "    }\n",
       "\n",
       "    .dataframe tbody tr th {\n",
       "        vertical-align: top;\n",
       "    }\n",
       "\n",
       "    .dataframe thead th {\n",
       "        text-align: right;\n",
       "    }\n",
       "</style>\n",
       "<table border=\"1\" class=\"dataframe\">\n",
       "  <thead>\n",
       "    <tr style=\"text-align: right;\">\n",
       "      <th></th>\n",
       "      <th>ID</th>\n",
       "      <th>text</th>\n",
       "      <th>label</th>\n",
       "      <th>sentiment</th>\n",
       "      <th>cleaned_text</th>\n",
       "    </tr>\n",
       "  </thead>\n",
       "  <tbody>\n",
       "    <tr>\n",
       "      <th>0</th>\n",
       "      <td>7.680980e+17</td>\n",
       "      <td>Josh Jenkins is looking forward to TAB Breeder...</td>\n",
       "      <td>1</td>\n",
       "      <td>Positive</td>\n",
       "      <td>josh jenkins looking forward tab breeder crown...</td>\n",
       "    </tr>\n",
       "    <tr>\n",
       "      <th>1</th>\n",
       "      <td>7.680980e+17</td>\n",
       "      <td>RT @MianUsmanJaved: Congratulations Pakistan o...</td>\n",
       "      <td>1</td>\n",
       "      <td>Positive</td>\n",
       "      <td>rt congratulation pakistan becoming no testtea...</td>\n",
       "    </tr>\n",
       "    <tr>\n",
       "      <th>2</th>\n",
       "      <td>7.680980e+17</td>\n",
       "      <td>RT @PEPalerts: This September, @YESmag is taki...</td>\n",
       "      <td>1</td>\n",
       "      <td>Positive</td>\n",
       "      <td>rt september taking maine mendozas surprise th...</td>\n",
       "    </tr>\n",
       "    <tr>\n",
       "      <th>3</th>\n",
       "      <td>7.680980e+17</td>\n",
       "      <td>RT @david_gaibis: Newly painted walls, thanks ...</td>\n",
       "      <td>1</td>\n",
       "      <td>Positive</td>\n",
       "      <td>rt newly painted wall thanks million custodial...</td>\n",
       "    </tr>\n",
       "    <tr>\n",
       "      <th>4</th>\n",
       "      <td>7.680980e+17</td>\n",
       "      <td>RT @CedricFeschotte: Excited to announce: as o...</td>\n",
       "      <td>1</td>\n",
       "      <td>Positive</td>\n",
       "      <td>rt excited announce july feschotte lab relocat...</td>\n",
       "    </tr>\n",
       "    <tr>\n",
       "      <th>...</th>\n",
       "      <td>...</td>\n",
       "      <td>...</td>\n",
       "      <td>...</td>\n",
       "      <td>...</td>\n",
       "      <td>...</td>\n",
       "    </tr>\n",
       "    <tr>\n",
       "      <th>550386</th>\n",
       "      <td>8.046170e+17</td>\n",
       "      <td>@goddesses_o I can't stop watching her...mm. M...</td>\n",
       "      <td>0</td>\n",
       "      <td>Negative</td>\n",
       "      <td>can t stop watching her mm more</td>\n",
       "    </tr>\n",
       "    <tr>\n",
       "      <th>550387</th>\n",
       "      <td>8.046180e+17</td>\n",
       "      <td>Poor old Tom Odell doesn't look like he would ...</td>\n",
       "      <td>0</td>\n",
       "      <td>Negative</td>\n",
       "      <td>poor old tom odell look like would know wrong ...</td>\n",
       "    </tr>\n",
       "    <tr>\n",
       "      <th>550388</th>\n",
       "      <td>8.046180e+17</td>\n",
       "      <td>#antsmasher I smashed  7 ants in this awesome ...</td>\n",
       "      <td>1</td>\n",
       "      <td>Positive</td>\n",
       "      <td>antsmasher smashed ant awesome game hjfjfi</td>\n",
       "    </tr>\n",
       "    <tr>\n",
       "      <th>550389</th>\n",
       "      <td>8.046180e+17</td>\n",
       "      <td>@LizHudston @KymWyllie @Evasmiless @meanBok @l...</td>\n",
       "      <td>1</td>\n",
       "      <td>Positive</td>\n",
       "      <td>morning girl wonderful friday</td>\n",
       "    </tr>\n",
       "    <tr>\n",
       "      <th>550390</th>\n",
       "      <td>8.046190e+17</td>\n",
       "      <td>Bixbeat Mixtape Vol.2 is here with great artis...</td>\n",
       "      <td>1</td>\n",
       "      <td>Positive</td>\n",
       "      <td>bixbeat mixtape vol great artiste join movemen...</td>\n",
       "    </tr>\n",
       "  </tbody>\n",
       "</table>\n",
       "<p>550391 rows × 5 columns</p>\n",
       "</div>"
      ],
      "text/plain": [
       "                  ID                                               text  \\\n",
       "0       7.680980e+17  Josh Jenkins is looking forward to TAB Breeder...   \n",
       "1       7.680980e+17  RT @MianUsmanJaved: Congratulations Pakistan o...   \n",
       "2       7.680980e+17  RT @PEPalerts: This September, @YESmag is taki...   \n",
       "3       7.680980e+17  RT @david_gaibis: Newly painted walls, thanks ...   \n",
       "4       7.680980e+17  RT @CedricFeschotte: Excited to announce: as o...   \n",
       "...              ...                                                ...   \n",
       "550386  8.046170e+17  @goddesses_o I can't stop watching her...mm. M...   \n",
       "550387  8.046180e+17  Poor old Tom Odell doesn't look like he would ...   \n",
       "550388  8.046180e+17  #antsmasher I smashed  7 ants in this awesome ...   \n",
       "550389  8.046180e+17  @LizHudston @KymWyllie @Evasmiless @meanBok @l...   \n",
       "550390  8.046190e+17  Bixbeat Mixtape Vol.2 is here with great artis...   \n",
       "\n",
       "        label sentiment                                       cleaned_text  \n",
       "0           1  Positive  josh jenkins looking forward tab breeder crown...  \n",
       "1           1  Positive  rt congratulation pakistan becoming no testtea...  \n",
       "2           1  Positive  rt september taking maine mendozas surprise th...  \n",
       "3           1  Positive  rt newly painted wall thanks million custodial...  \n",
       "4           1  Positive  rt excited announce july feschotte lab relocat...  \n",
       "...       ...       ...                                                ...  \n",
       "550386      0  Negative                    can t stop watching her mm more  \n",
       "550387      0  Negative  poor old tom odell look like would know wrong ...  \n",
       "550388      1  Positive         antsmasher smashed ant awesome game hjfjfi  \n",
       "550389      1  Positive                      morning girl wonderful friday  \n",
       "550390      1  Positive  bixbeat mixtape vol great artiste join movemen...  \n",
       "\n",
       "[550391 rows x 5 columns]"
      ]
     },
     "execution_count": 48,
     "metadata": {},
     "output_type": "execute_result"
    }
   ],
   "source": [
    "senti"
   ]
  },
  {
   "cell_type": "code",
   "execution_count": 49,
   "metadata": {
    "colab": {
     "base_uri": "https://localhost:8080/",
     "height": 85
    },
    "colab_type": "code",
    "id": "QYH9vhUoDkxY",
    "outputId": "870c5f29-a01d-46a3-a1d4-1dcde6c8bcce"
   },
   "outputs": [
    {
     "data": {
      "text/plain": [
       "Positive    371341\n",
       "Negative    179050\n",
       "Name: sentiment, dtype: int64"
      ]
     },
     "execution_count": 49,
     "metadata": {},
     "output_type": "execute_result"
    }
   ],
   "source": [
    "senti['sentiment'].value_counts()"
   ]
  },
  {
   "cell_type": "code",
   "execution_count": 50,
   "metadata": {
    "colab": {},
    "colab_type": "code",
    "id": "3lrDyYaaDb0S"
   },
   "outputs": [],
   "source": [
    "# concate word frequency features with target and drop rows with 'Neutral' sentiment\n",
    "senti_wf_features = pd.concat([senti['sentiment'], wf_features], axis=1)\n",
    "senti_wf_features = senti_wf_features.drop(senti_wf_features[senti_wf_features['sentiment'] == 'Neutral'].index)"
   ]
  },
  {
   "cell_type": "code",
   "execution_count": 51,
   "metadata": {
    "colab": {},
    "colab_type": "code",
    "id": "X4_dZb08XKvK"
   },
   "outputs": [],
   "source": [
    "# encode target column\n",
    "label_encoding = {\"Positive\":1,\"Negative\":0}\n",
    "senti_wf_features['labels'] = senti_wf_features['sentiment'].map(label_encoding)\n",
    "senti_wf_features = senti_wf_features.drop(['sentiment'],axis=1)"
   ]
  },
  {
   "cell_type": "code",
   "execution_count": null,
   "metadata": {
    "colab": {},
    "colab_type": "code",
    "id": "dHKjL_TpXPFz"
   },
   "outputs": [],
   "source": [
    "# split the data into 70% training and 30% testing\n",
    "X_wf = senti_wf_features.drop(['labels'], axis=1)\n",
    "y_wf = senti_wf_features['labels']\n",
    "X_wf_train, X_wf_test, y_wf_train, y_wf_test = train_test_split(X_wf, y_wf, random_state=0, test_size=0.3)"
   ]
  },
  {
   "cell_type": "code",
   "execution_count": null,
   "metadata": {
    "colab": {},
    "colab_type": "code",
    "id": "Dp2_ZbtPXBza"
   },
   "outputs": [],
   "source": [
    "# concate TF-IDF features with target and drop rows with 'Neutral' sentiment\n",
    "senti_tfidf_features = pd.concat([senti['sentiment'], tfidf_features], axis=1)\n",
    "senti_tfidf_features = senti_tfidf_features.drop(senti_tfidf_features[senti_tfidf_features['sentiment'] == 'Neutral'].index)"
   ]
  },
  {
   "cell_type": "code",
   "execution_count": null,
   "metadata": {
    "colab": {},
    "colab_type": "code",
    "id": "IfXGBQMoDe6d"
   },
   "outputs": [],
   "source": [
    "# encode target column\n",
    "senti_tfidf_features['labels'] = senti_tfidf_features['sentiment'].map(label_encoding)\n",
    "senti_tfidf_features = senti_tfidf_features.drop(['sentiment'],axis=1)"
   ]
  },
  {
   "cell_type": "code",
   "execution_count": null,
   "metadata": {
    "colab": {},
    "colab_type": "code",
    "id": "oopz2UWbDg8e"
   },
   "outputs": [],
   "source": [
    "# split the data into 70% training and 30% testing\n",
    "X_tfidf = senti_tfidf_features.drop(['labels',], axis=1)\n",
    "y_tfidf = senti_tfidf_features['labels']\n",
    "X_tfidf_train, X_tfidf_test, y_tfidf_train, y_tfidf_test = train_test_split(X_tfidf, y_tfidf, random_state=0, test_size=0.3)"
   ]
  },
  {
   "cell_type": "markdown",
   "metadata": {
    "colab_type": "text",
    "id": "BSETgtMDfvLr"
   },
   "source": [
    "# Question 4: Model Implementation"
   ]
  },
  {
   "cell_type": "markdown",
   "metadata": {
    "colab_type": "text",
    "id": "1rLkq-qn66FE"
   },
   "source": [
    "First of all, Logistic Regression, k-NN, Naive Bayes, SVM, Decision Trees, Random Forest and XGBoost models are trained and applied to the test data. Note that each model is trained twice with word frequency features and TF-IDF features. The accuracy values are obtained and printed."
   ]
  },
  {
   "cell_type": "markdown",
   "metadata": {
    "colab_type": "text",
    "id": "oqKsSSrUgAOL"
   },
   "source": [
    "## Logistic regression model"
   ]
  },
  {
   "cell_type": "code",
   "execution_count": null,
   "metadata": {
    "colab": {},
    "colab_type": "code",
    "id": "p7cp1nTilC5a"
   },
   "outputs": [],
   "source": [
    "from sklearn.linear_model import LogisticRegression"
   ]
  },
  {
   "cell_type": "markdown",
   "metadata": {
    "colab_type": "text",
    "id": "jiw_CU3Mgna4"
   },
   "source": [
    "### Word frequency features"
   ]
  },
  {
   "cell_type": "code",
   "execution_count": null,
   "metadata": {
    "colab": {},
    "colab_type": "code",
    "id": "E2sQpYlFph08",
    "outputId": "ee9be37e-cbd1-4346-f8b1-e5acd682cd47"
   },
   "outputs": [],
   "source": [
    "wf_logistic_model = LogisticRegression()\n",
    "wf_logistic_model.fit(X_wf_train,y_wf_train)"
   ]
  },
  {
   "cell_type": "code",
   "execution_count": null,
   "metadata": {
    "colab": {},
    "colab_type": "code",
    "id": "S98TEWglpzY_",
    "outputId": "8af593ac-2abc-40d9-fa93-c8b164a4f3a3"
   },
   "outputs": [],
   "source": [
    "wf_logistic_predict = wf_logistic_model.predict(X_wf_test)\n",
    "wf_logistic_accuracy = accuracy_score(y_wf_test, wf_logistic_predict)\n",
    "print(\"The accuracy of logistic regression model with word frequency features is:{}%\".format(round(wf_logistic_accuracy*100, 3)))"
   ]
  },
  {
   "cell_type": "markdown",
   "metadata": {
    "colab_type": "text",
    "id": "Ow_G3dEHrVjJ"
   },
   "source": [
    "### TF-IDF features"
   ]
  },
  {
   "cell_type": "code",
   "execution_count": null,
   "metadata": {
    "colab": {},
    "colab_type": "code",
    "id": "Vbmsl4Wdraft",
    "outputId": "050bdc2f-5fdd-44ce-c755-e1bd2f500019"
   },
   "outputs": [],
   "source": [
    "tfidf_logistic_model = LogisticRegression()\n",
    "tfidf_logistic_model.fit(X_tfidf_train,y_tfidf_train)\n"
   ]
  },
  {
   "cell_type": "code",
   "execution_count": null,
   "metadata": {
    "colab": {},
    "colab_type": "code",
    "id": "zUqPMsMLsC6D",
    "outputId": "6ca6f1c3-5dc9-4f96-be1b-49dfdc9e6763"
   },
   "outputs": [],
   "source": [
    "tfidf_logistic_predict = tfidf_logistic_model.predict(X_tfidf_test)\n",
    "tfidf_logistic_accuracy = accuracy_score(y_tfidf_test, tfidf_logistic_predict)\n",
    "print(\"The accuracy of logistic regression model with TF-IDF features is:{}%\".format(round(tfidf_logistic_accuracy*100, 3)))"
   ]
  },
  {
   "cell_type": "markdown",
   "metadata": {
    "colab_type": "text",
    "id": "CPka8OiesO-8"
   },
   "source": [
    "## k-NN model"
   ]
  },
  {
   "cell_type": "code",
   "execution_count": null,
   "metadata": {
    "colab": {},
    "colab_type": "code",
    "id": "c2CadIdgvHfL"
   },
   "outputs": [],
   "source": [
    "from sklearn.neighbors import KNeighborsClassifier"
   ]
  },
  {
   "cell_type": "markdown",
   "metadata": {
    "colab_type": "text",
    "id": "YOyqs75MsUEy"
   },
   "source": [
    "### Word frequency features"
   ]
  },
  {
   "cell_type": "code",
   "execution_count": null,
   "metadata": {
    "colab": {},
    "colab_type": "code",
    "id": "HcUX7sLWsXvM",
    "outputId": "ec173ed1-a2ea-4001-b274-59b02c8554e7"
   },
   "outputs": [],
   "source": [
    "wf_knn_model = KNeighborsClassifier()\n",
    "wf_knn_model.fit(X_wf_train,y_wf_train)"
   ]
  },
  {
   "cell_type": "code",
   "execution_count": null,
   "metadata": {
    "colab": {},
    "colab_type": "code",
    "id": "vwy_Bx4DvWgc",
    "outputId": "45a827d3-5510-4cf3-b5e3-3e1b25d0d749"
   },
   "outputs": [],
   "source": [
    "wf_knn_predict = wf_knn_model.predict(X_wf_test)\n",
    "wf_knn_accuracy = accuracy_score(y_wf_test, wf_knn_predict)\n",
    "print(\"The accuracy of k-NN model with word frequency features is:{}%\".format(round(wf_knn_accuracy*100, 3)))"
   ]
  },
  {
   "cell_type": "markdown",
   "metadata": {
    "colab_type": "text",
    "id": "eaEVIzIsvvgZ"
   },
   "source": [
    "### TF-TDF features"
   ]
  },
  {
   "cell_type": "code",
   "execution_count": null,
   "metadata": {
    "colab": {},
    "colab_type": "code",
    "id": "dySzAyQkv0Rl",
    "outputId": "c6b72651-5b4e-4e7c-ddc8-50fe1f6110fe"
   },
   "outputs": [],
   "source": [
    "tfidf_knn_model = KNeighborsClassifier()\n",
    "tfidf_knn_model.fit(X_tfidf_train,y_tfidf_train)"
   ]
  },
  {
   "cell_type": "code",
   "execution_count": null,
   "metadata": {
    "colab": {},
    "colab_type": "code",
    "id": "mpEcokfYv0X_",
    "outputId": "32157eb9-df0f-4142-f13a-c055f244bb52"
   },
   "outputs": [],
   "source": [
    "tfidf_knn_predict = tfidf_knn_model.predict(X_tfidf_test)\n",
    "tfidf_knn_accuracy = accuracy_score(y_tfidf_test, tfidf_knn_predict)\n",
    "print(\"The accuracy of k-NN model with TF-IDF features is:{}%\".format(round(tfidf_knn_accuracy*100, 3)))"
   ]
  },
  {
   "cell_type": "markdown",
   "metadata": {
    "colab_type": "text",
    "id": "sx4Tbm2zwPms"
   },
   "source": [
    "## Naive bayes model"
   ]
  },
  {
   "cell_type": "code",
   "execution_count": null,
   "metadata": {
    "colab": {},
    "colab_type": "code",
    "id": "Zbji5CNIws9l"
   },
   "outputs": [],
   "source": [
    "from sklearn.naive_bayes import GaussianNB"
   ]
  },
  {
   "cell_type": "markdown",
   "metadata": {
    "colab_type": "text",
    "id": "K_kw3_fWwtkr"
   },
   "source": [
    "### Word frequency features"
   ]
  },
  {
   "cell_type": "code",
   "execution_count": null,
   "metadata": {
    "colab": {},
    "colab_type": "code",
    "id": "RSEdAokBwz6S",
    "outputId": "b4661af2-80b9-4843-8c4c-f2403fb32923"
   },
   "outputs": [],
   "source": [
    "wf_naive_model = GaussianNB()\n",
    "wf_naive_model.fit(X_wf_train,y_wf_train)"
   ]
  },
  {
   "cell_type": "code",
   "execution_count": null,
   "metadata": {
    "colab": {},
    "colab_type": "code",
    "id": "jZ5PYi-Pw0Av",
    "outputId": "a9abd8c6-c841-42eb-a601-374494d2f325"
   },
   "outputs": [],
   "source": [
    "wf_naive_predict = wf_naive_model.predict(X_wf_test)\n",
    "wf_naive_accuracy = accuracy_score(y_wf_test, wf_naive_predict)\n",
    "print(\"The accuracy of Naive Bayes model with word frequency features is:{}%\".format(round(wf_naive_accuracy*100, 3)))"
   ]
  },
  {
   "cell_type": "markdown",
   "metadata": {
    "colab_type": "text",
    "id": "0cMoYFWNxl3v"
   },
   "source": [
    "### TF-IDF features"
   ]
  },
  {
   "cell_type": "code",
   "execution_count": null,
   "metadata": {
    "colab": {},
    "colab_type": "code",
    "id": "viadcz2Nxpgu",
    "outputId": "0f5ee4ca-71da-4db0-8681-ff1b4e61f24c"
   },
   "outputs": [],
   "source": [
    "tfidf_naive_model = GaussianNB()\n",
    "tfidf_naive_model.fit(X_tfidf_train,y_tfidf_train)"
   ]
  },
  {
   "cell_type": "code",
   "execution_count": null,
   "metadata": {
    "colab": {},
    "colab_type": "code",
    "id": "-Kew7qxTxpkY",
    "outputId": "843c0e7a-444b-44f3-b74a-e6edddf41c39"
   },
   "outputs": [],
   "source": [
    "tfidf_naive_predict = tfidf_naive_model.predict(X_tfidf_test)\n",
    "tfidf_naive_accuracy = accuracy_score(y_tfidf_test, tfidf_naive_predict)\n",
    "print(\"The accuracy of Naive Bayes model with TF-IDF features is:{}%\".format(round(tfidf_naive_accuracy*100, 3)))"
   ]
  },
  {
   "cell_type": "markdown",
   "metadata": {
    "colab_type": "text",
    "id": "b02_gfGLyMYY"
   },
   "source": [
    "## SVM"
   ]
  },
  {
   "cell_type": "code",
   "execution_count": null,
   "metadata": {
    "colab": {},
    "colab_type": "code",
    "id": "RRbGLR3syQHK"
   },
   "outputs": [],
   "source": [
    "from sklearn.svm import SVC"
   ]
  },
  {
   "cell_type": "markdown",
   "metadata": {
    "colab_type": "text",
    "id": "N3tVix1jz17i"
   },
   "source": [
    "### Word frequency features"
   ]
  },
  {
   "cell_type": "code",
   "execution_count": null,
   "metadata": {
    "colab": {},
    "colab_type": "code",
    "id": "OwS48hCSz1k7",
    "outputId": "39c23178-9c06-4996-8846-a4b7aba0265a"
   },
   "outputs": [],
   "source": [
    "wf_svm_model = SVC()\n",
    "wf_svm_model.fit(X_wf_train,y_wf_train)"
   ]
  },
  {
   "cell_type": "code",
   "execution_count": null,
   "metadata": {
    "colab": {},
    "colab_type": "code",
    "id": "qGHs8vEo0GG6",
    "outputId": "91fd6e73-240d-487a-c28e-5b4430f0d39b"
   },
   "outputs": [],
   "source": [
    "wf_svm_predict = wf_svm_model.predict(X_wf_test)\n",
    "wf_svm_accuracy = accuracy_score(y_wf_test, wf_svm_predict)\n",
    "print(\"The accuracy of SVM model with word frequency features is:{}%\".format(round(wf_svm_accuracy*100, 3)))"
   ]
  },
  {
   "cell_type": "markdown",
   "metadata": {
    "colab_type": "text",
    "id": "tPrJBz7N0OnG"
   },
   "source": [
    "### TF-IDF features"
   ]
  },
  {
   "cell_type": "code",
   "execution_count": null,
   "metadata": {
    "colab": {},
    "colab_type": "code",
    "id": "jXhsjpnz0Xm7",
    "outputId": "bb786a15-21a9-4833-b6a6-ea6e7e28d676"
   },
   "outputs": [],
   "source": [
    "tfidf_svm_model = SVC()\n",
    "tfidf_svm_model.fit(X_tfidf_train,y_tfidf_train)"
   ]
  },
  {
   "cell_type": "code",
   "execution_count": null,
   "metadata": {
    "colab": {},
    "colab_type": "code",
    "id": "NASC5gpM0ZEu",
    "outputId": "691d686c-ddc6-4597-91ab-10767e2b3e04"
   },
   "outputs": [],
   "source": [
    "tfidf_svm_predict = tfidf_svm_model.predict(X_tfidf_test)\n",
    "tfidf_svm_accuracy = accuracy_score(y_tfidf_test, tfidf_svm_predict)\n",
    "print(\"The accuracy of SVM model with TF-IDF features is:{}%\".format(round(tfidf_svm_accuracy*100, 3)))"
   ]
  },
  {
   "cell_type": "markdown",
   "metadata": {
    "colab_type": "text",
    "id": "ydebmD-90v9H"
   },
   "source": [
    "## Decision trees model"
   ]
  },
  {
   "cell_type": "code",
   "execution_count": null,
   "metadata": {
    "colab": {},
    "colab_type": "code",
    "id": "UiF8cHpG07gF"
   },
   "outputs": [],
   "source": [
    "from sklearn.tree import DecisionTreeClassifier"
   ]
  },
  {
   "cell_type": "markdown",
   "metadata": {
    "colab_type": "text",
    "id": "mIXQ8nHd08K2"
   },
   "source": [
    "### Word frequency features"
   ]
  },
  {
   "cell_type": "code",
   "execution_count": null,
   "metadata": {
    "colab": {},
    "colab_type": "code",
    "id": "ZouHyfIm1Qoq",
    "outputId": "78dc95d4-ab32-419f-9d24-2d8517157e2c"
   },
   "outputs": [],
   "source": [
    "wf_dt_model = DecisionTreeClassifier(random_state = 0)\n",
    "wf_dt_model.fit(X_wf_train,y_wf_train)"
   ]
  },
  {
   "cell_type": "code",
   "execution_count": null,
   "metadata": {
    "colab": {},
    "colab_type": "code",
    "id": "NrHaRbGl1K8R",
    "outputId": "66e4414b-bcc2-4bb5-e4c6-7596e1a3ef5f"
   },
   "outputs": [],
   "source": [
    "wf_dt_predict = wf_dt_model.predict(X_wf_test)\n",
    "wf_dt_accuracy = accuracy_score(y_wf_test, wf_dt_predict)\n",
    "print(\"The accuracy of Decision Trees model with word frequency features is:{}%\".format(round(wf_dt_accuracy*100, 3)))"
   ]
  },
  {
   "cell_type": "markdown",
   "metadata": {
    "colab_type": "text",
    "id": "3PzjmdJG1xNQ"
   },
   "source": [
    "### TF-IDF features"
   ]
  },
  {
   "cell_type": "code",
   "execution_count": null,
   "metadata": {
    "colab": {},
    "colab_type": "code",
    "id": "6iE88AIQ10LZ",
    "outputId": "5647173b-9f9c-4d52-cbee-84d6b4108fbb"
   },
   "outputs": [],
   "source": [
    "tfidf_dt_model = DecisionTreeClassifier(random_state = 0)\n",
    "tfidf_dt_model.fit(X_tfidf_train,y_tfidf_train)"
   ]
  },
  {
   "cell_type": "code",
   "execution_count": null,
   "metadata": {
    "colab": {},
    "colab_type": "code",
    "id": "HHRiPSe510Rc",
    "outputId": "8c9329e4-ca44-45c7-f67a-2684341c40cd"
   },
   "outputs": [],
   "source": [
    "tfidf_dt_predict = tfidf_svm_model.predict(X_tfidf_test)\n",
    "tfidf_dt_accuracy = accuracy_score(y_tfidf_test, tfidf_dt_predict)\n",
    "print(\"The accuracy of Decision Trees model with TF-IDF features is:{}%\".format(round(tfidf_dt_accuracy*100, 3)))"
   ]
  },
  {
   "cell_type": "markdown",
   "metadata": {
    "colab_type": "text",
    "id": "KHznJQW92x7u"
   },
   "source": [
    "## Random forest model"
   ]
  },
  {
   "cell_type": "code",
   "execution_count": null,
   "metadata": {
    "colab": {},
    "colab_type": "code",
    "id": "eL4z0WXE20nq"
   },
   "outputs": [],
   "source": [
    "from sklearn.ensemble import RandomForestClassifier"
   ]
  },
  {
   "cell_type": "markdown",
   "metadata": {
    "colab_type": "text",
    "id": "JYZgjDJC22Wv"
   },
   "source": [
    "### Word frequency features"
   ]
  },
  {
   "cell_type": "code",
   "execution_count": null,
   "metadata": {
    "colab": {},
    "colab_type": "code",
    "id": "ZxelWUpQ26Zs",
    "outputId": "d316e8d9-f3d8-4a5c-cd25-90bbe98d19a4"
   },
   "outputs": [],
   "source": [
    "wf_rf_model = RandomForestClassifier()\n",
    "wf_rf_model.fit(X_wf_train,y_wf_train)"
   ]
  },
  {
   "cell_type": "code",
   "execution_count": null,
   "metadata": {
    "colab": {},
    "colab_type": "code",
    "id": "1nsAo3E726f1",
    "outputId": "2c368b38-9482-49d3-f0e9-967575cabce1"
   },
   "outputs": [],
   "source": [
    "wf_rf_predict = wf_rf_model.predict(X_wf_test)\n",
    "wf_rf_accuracy = accuracy_score(y_wf_test, wf_rf_predict)\n",
    "print(\"The accuracy of Random Forest model with word frequency features is:{}%\".format(round(wf_rf_accuracy*100, 3)))"
   ]
  },
  {
   "cell_type": "markdown",
   "metadata": {
    "colab_type": "text",
    "id": "xuh5zUZd3MKO"
   },
   "source": [
    "### TF-IDF features"
   ]
  },
  {
   "cell_type": "code",
   "execution_count": null,
   "metadata": {
    "colab": {},
    "colab_type": "code",
    "id": "W6iLqkXG3Pas",
    "outputId": "d45c004e-fddb-4c16-ac99-008fb7249c97"
   },
   "outputs": [],
   "source": [
    "tfidf_rf_model = DecisionTreeClassifier()\n",
    "tfidf_rf_model.fit(X_tfidf_train,y_tfidf_train)"
   ]
  },
  {
   "cell_type": "code",
   "execution_count": null,
   "metadata": {
    "colab": {},
    "colab_type": "code",
    "id": "3jO8hZJa3PfV",
    "outputId": "ba64e0d6-337d-4276-ac10-f29646311ec1"
   },
   "outputs": [],
   "source": [
    "tfidf_rf_predict = tfidf_rf_model.predict(X_tfidf_test)\n",
    "tfidf_rf_accuracy = accuracy_score(y_tfidf_test, tfidf_rf_predict)\n",
    "print(\"The accuracy of Random Forest model with TF-IDF features is:{}%\".format(round(tfidf_rf_accuracy*100, 3)))"
   ]
  },
  {
   "cell_type": "markdown",
   "metadata": {
    "colab_type": "text",
    "id": "PGnl-x2T8iZc"
   },
   "source": [
    "## XGBoost "
   ]
  },
  {
   "cell_type": "code",
   "execution_count": null,
   "metadata": {
    "colab": {},
    "colab_type": "code",
    "id": "WsD2aDwZ8wq6"
   },
   "outputs": [],
   "source": [
    "from sklearn.ensemble import GradientBoostingClassifier"
   ]
  },
  {
   "cell_type": "markdown",
   "metadata": {
    "colab_type": "text",
    "id": "ZdXmSI7C8n8K"
   },
   "source": [
    "### Word frequency features"
   ]
  },
  {
   "cell_type": "code",
   "execution_count": null,
   "metadata": {
    "colab": {},
    "colab_type": "code",
    "id": "aKm_Ql9n6z79",
    "outputId": "afb9bb8f-7bc8-42fe-a643-ef44195df8c3"
   },
   "outputs": [],
   "source": [
    "wf_xgb_model = GradientBoostingClassifier(random_state = 0)\n",
    "wf_xgb_model.fit(X_wf_train,y_wf_train)"
   ]
  },
  {
   "cell_type": "code",
   "execution_count": null,
   "metadata": {
    "colab": {},
    "colab_type": "code",
    "id": "NHjlmDWQ60DX",
    "outputId": "86e33c5a-c43b-40c7-f843-47fa053dd402"
   },
   "outputs": [],
   "source": [
    "wf_xgb_predict = wf_rf_model.predict(X_wf_test)\n",
    "wf_xgb_accuracy = accuracy_score(y_wf_test, wf_xgb_predict)\n",
    "print(\"The accuracy of XGBoost model with word frequency features is:{}%\".format(round(wf_xgb_accuracy*100, 3)))"
   ]
  },
  {
   "cell_type": "markdown",
   "metadata": {
    "colab_type": "text",
    "id": "5PlIrHmKBcej"
   },
   "source": [
    "### TF-IDF features"
   ]
  },
  {
   "cell_type": "code",
   "execution_count": null,
   "metadata": {
    "colab": {},
    "colab_type": "code",
    "id": "oGiKe0iuBhaz",
    "outputId": "d1ae6680-cdc0-47c4-f365-1067b92ba90d"
   },
   "outputs": [],
   "source": [
    "tfidf_xgb_model = GradientBoostingClassifier(random_state = 0)\n",
    "tfidf_xgb_model.fit(X_tfidf_train,y_tfidf_train)"
   ]
  },
  {
   "cell_type": "code",
   "execution_count": null,
   "metadata": {
    "colab": {},
    "colab_type": "code",
    "id": "nNxN4telBhg9",
    "outputId": "48d54387-4689-4f73-8b38-81311fcbbd66"
   },
   "outputs": [],
   "source": [
    "tfidf_xgb_predict = tfidf_xgb_model.predict(X_tfidf_test)\n",
    "tfidf_xgb_accuracy = accuracy_score(y_tfidf_test, tfidf_xgb_predict)\n",
    "print(\"The accuracy of XGBoost model with TF-IDF features is:{}%\".format(round(tfidf_xgb_accuracy*100, 3)))"
   ]
  },
  {
   "cell_type": "markdown",
   "metadata": {
    "colab_type": "text",
    "id": "OMzbneNMdPMM"
   },
   "source": [
    "## Results comparison"
   ]
  },
  {
   "cell_type": "code",
   "execution_count": null,
   "metadata": {
    "colab": {},
    "colab_type": "code",
    "id": "-It2vOQ1eTE2",
    "outputId": "f7b96e73-6c37-4ada-fc47-2d000b5c5d66"
   },
   "outputs": [],
   "source": [
    "model_name = np.array([['Logistic Regression'], ['k-NN'], ['Naive Bayes'], ['SVM'], ['Decision Trees'],\n",
    "                       ['Random Forest'], ['XGBoost']])\n",
    "wf_accuracy = np.array([[round(wf_logistic_accuracy*100, 3)], [round(wf_knn_accuracy*100, 3)],\n",
    "              [round(wf_naive_accuracy*100, 3)], [round(wf_svm_accuracy*100, 3)],\n",
    "              [round(wf_dt_accuracy*100, 3)], [round(wf_rf_accuracy*100, 3)],\n",
    "              [round(wf_xgb_accuracy*100, 3)]])\n",
    "tfidf_accuracy = np.array([[round(tfidf_logistic_accuracy*100, 3)], [round(tfidf_knn_accuracy*100, 3)],\n",
    "              [round(tfidf_naive_accuracy*100, 3)], [round(tfidf_svm_accuracy*100, 3)],\n",
    "              [round(tfidf_dt_accuracy*100, 3)], [round(tfidf_rf_accuracy*100, 3)],\n",
    "              [round(tfidf_xgb_accuracy*100, 3)]])  \n",
    "summary_np = np.concatenate((model_name, wf_accuracy, tfidf_accuracy), axis=1) \n",
    "summary = pd.DataFrame(summary_np)\n",
    "summary.columns = ['Model', 'Word Frequency Features', 'TF-IDF Features']\n",
    "summary"
   ]
  },
  {
   "cell_type": "markdown",
   "metadata": {
    "colab_type": "text",
    "id": "JkmW-RgDdj0Q"
   },
   "source": [
    "### Model with best performance"
   ]
  },
  {
   "cell_type": "markdown",
   "metadata": {
    "colab_type": "text",
    "id": "e3SXtMN-7tnc"
   },
   "source": [
    "According to the summary table, SVM model and Decision Trees model with TF-IDF features both yield the highest accuracy of 72.695%. The SVM model is selected for it has a higher average accuracy (among WF features and TF-IDF features). In this case, the model will be used in the following section is the SVM model with TF-IDF features."
   ]
  },
  {
   "cell_type": "markdown",
   "metadata": {
    "colab_type": "text",
    "id": "-3GypxghdtSY"
   },
   "source": [
    "### Hyperparameter tuning"
   ]
  },
  {
   "cell_type": "markdown",
   "metadata": {
    "colab_type": "text",
    "id": "fUi7VyZnDDRm"
   },
   "source": [
    "The SVM model takes extremely long to fit and predict. With grid search, the expected running time would be around 50 times longer, not to mention that the cross-validation will further lengthen the running time.\n",
    "\n",
    "In this case, the hyperparameter tuning is skipped (but code is still available below) and the default parameters are used for the SVM model."
   ]
  },
  {
   "cell_type": "code",
   "execution_count": null,
   "metadata": {
    "colab": {},
    "colab_type": "code",
    "id": "_4zje8aweTE4"
   },
   "outputs": [],
   "source": [
    "#param_grid = {'C': [0.1,1, 10, 100], 'gamma': [1,0.1,0.01,0.001],'kernel': ['rbf', 'poly', 'sigmoid']}\n",
    "#grid = GridSearchCV(tfidf_svm_model(),param_grid,cv=10,refit=True,verbose=2)\n",
    "#grid.fit(X_tfidf_train,y_tfidf_train)"
   ]
  },
  {
   "cell_type": "code",
   "execution_count": null,
   "metadata": {
    "colab": {},
    "colab_type": "code",
    "id": "-g-IOoj_eTE7"
   },
   "outputs": [],
   "source": [
    "#print(grid.best_estimator_)"
   ]
  },
  {
   "cell_type": "markdown",
   "metadata": {
    "colab_type": "text",
    "id": "7Zaa1MTKd-eW"
   },
   "source": [
    "## Sentiments prediction results"
   ]
  },
  {
   "cell_type": "markdown",
   "metadata": {
    "colab_type": "text",
    "id": "YNmNY6LOJ0Ry"
   },
   "source": [
    "In this section, the best model (SVM with TF-IDF features) is implemented on the **entire** Canadian Election dataset to get prediction results on sentiments."
   ]
  },
  {
   "cell_type": "code",
   "execution_count": null,
   "metadata": {
    "colab": {},
    "colab_type": "code",
    "id": "g2gh1F7-eTE9",
    "outputId": "489cced7-a6c6-4a18-d1d3-01ddf6717031"
   },
   "outputs": [],
   "source": [
    "corpus_elec = elec['cleaned_text'].values.astype('U')\n",
    "vectorizer_tfidf = TfidfVectorizer(use_idf=True, smooth_idf=True, norm=None, max_features=512)\n",
    "elec_tfidf_array = vectorizer_tfidf.fit_transform(corpus_elec).toarray()\n",
    "\n",
    "elec_tfidf_features = pd.DataFrame(data=elec_tfidf_array, columns = vectorizer_tfidf.get_feature_names())\n",
    "elec_tfidf_features.head()"
   ]
  },
  {
   "cell_type": "code",
   "execution_count": null,
   "metadata": {
    "colab": {},
    "colab_type": "code",
    "id": "49ktuQ9NeTE_"
   },
   "outputs": [],
   "source": [
    "elec_tfidf_features = pd.concat([elec['sentiment'], elec_tfidf_features], axis=1)"
   ]
  },
  {
   "cell_type": "code",
   "execution_count": null,
   "metadata": {
    "colab": {},
    "colab_type": "code",
    "id": "V2Y-HZWBeTFB"
   },
   "outputs": [],
   "source": [
    "elec_tfidf_features['labels'] = elec_tfidf_features['sentiment'].map(label_encoding)\n",
    "elec_tfidf_features = elec_tfidf_features.drop(['sentiment'],axis=1)"
   ]
  },
  {
   "cell_type": "code",
   "execution_count": null,
   "metadata": {
    "colab": {},
    "colab_type": "code",
    "id": "KuoDeLhueTFF"
   },
   "outputs": [],
   "source": [
    "X_elec_tfidf = elec_tfidf_features.drop(['labels',], axis=1)\n",
    "y_elec_tfidf = elec_tfidf_features['labels']"
   ]
  },
  {
   "cell_type": "code",
   "execution_count": null,
   "metadata": {
    "colab": {},
    "colab_type": "code",
    "id": "EjFUosQPeTFJ",
    "outputId": "a2703f6a-8bdf-4032-dffa-2846df1ae5a2"
   },
   "outputs": [],
   "source": [
    "elec_tfidf_svm_predict = tfidf_svm_model.predict(X_elec_tfidf)\n",
    "elec_tfidf_svm_accuracy = accuracy_score(y_elec_tfidf, elec_tfidf_svm_predict)\n",
    "print(\"The accuracy of SVM model with TF-IDF features is:{}%\".format(round(elec_tfidf_svm_accuracy*100, 3)))"
   ]
  },
  {
   "cell_type": "markdown",
   "metadata": {
    "colab_type": "text",
    "id": "qVUBM-rmMVDg"
   },
   "source": [
    "The accuracy of the model is only about 50% meaning that it only correctly predicts half of the sentiments, which is a comparatively poor model accuracy."
   ]
  },
  {
   "cell_type": "markdown",
   "metadata": {
    "colab_type": "text",
    "id": "BXGb8C_xeD8O"
   },
   "source": [
    "## Visualisation of the results for the three parties"
   ]
  },
  {
   "cell_type": "markdown",
   "metadata": {
    "colab_type": "text",
    "id": "6V5pah4NMpYw"
   },
   "source": [
    "A classification report is printed for the prediction of each party and a confusion matrix is plotted as well."
   ]
  },
  {
   "cell_type": "markdown",
   "metadata": {
    "colab_type": "text",
    "id": "pC56d7RDePP5"
   },
   "source": [
    "### Liberal"
   ]
  },
  {
   "cell_type": "code",
   "execution_count": null,
   "metadata": {
    "colab": {},
    "colab_type": "code",
    "id": "kWBTqrmKeTFO"
   },
   "outputs": [],
   "source": [
    "elec['predict'] = elec_tfidf_svm_predict\n",
    "elec['labels'] = elec_tfidf_features['labels']"
   ]
  },
  {
   "cell_type": "code",
   "execution_count": null,
   "metadata": {
    "colab": {},
    "colab_type": "code",
    "id": "sCeCNdE1eTFR"
   },
   "outputs": [],
   "source": [
    "lib_visual = elec[elec['Political Party'] == 'Liberal']\n",
    "lib_test = lib_visual['labels']\n",
    "lib_pred = lib_visual['predict']"
   ]
  },
  {
   "cell_type": "code",
   "execution_count": null,
   "metadata": {
    "colab": {},
    "colab_type": "code",
    "id": "TraQJo71eTFT",
    "outputId": "4d8721c7-aea8-461c-b4dc-95f8f6af300c"
   },
   "outputs": [],
   "source": [
    "from sklearn.metrics import classification_report\n",
    "import sklearn.metrics as metrics\n",
    "from sklearn.metrics import confusion_matrix\n",
    "import seaborn as sns  \n",
    "\n",
    "print(classification_report(lib_test,lib_pred))\n",
    "cm=metrics.confusion_matrix(lib_test, lib_pred)\n",
    "\n",
    "ax= plt.subplot()\n",
    "sns.heatmap(cm, annot=True, ax = ax, cmap=\"Blues\", fmt='g'); #annot=True to annotate cells\n",
    "\n",
    "ax.set_xlabel('Predicted labels');ax.set_ylabel('True labels'); \n",
    "ax.set_title('Canadian Election Tweets Sentiment Prediction for Liberal'); \n",
    "ax.xaxis.set_ticklabels(['Negative','Positive']); ax.yaxis.set_ticklabels(['Negative','Positive']);"
   ]
  },
  {
   "cell_type": "markdown",
   "metadata": {
    "colab_type": "text",
    "id": "675XSm7EeUsT"
   },
   "source": [
    "### Conservative"
   ]
  },
  {
   "cell_type": "code",
   "execution_count": null,
   "metadata": {
    "colab": {},
    "colab_type": "code",
    "id": "M42KKKbweTFV"
   },
   "outputs": [],
   "source": [
    "con_visual = elec[elec['Political Party'] == 'Conservative']\n",
    "con_test = con_visual['labels']\n",
    "con_pred = con_visual['predict']"
   ]
  },
  {
   "cell_type": "code",
   "execution_count": null,
   "metadata": {
    "colab": {},
    "colab_type": "code",
    "id": "6h36qBWyeTFY",
    "outputId": "f2ccbfa0-c82d-45d0-e5d3-6f480b8aeeba"
   },
   "outputs": [],
   "source": [
    "print(classification_report(con_test,con_pred))\n",
    "cm=metrics.confusion_matrix(con_test,con_pred)\n",
    "\n",
    "ax= plt.subplot()\n",
    "sns.heatmap(cm, annot=True, ax = ax, cmap=\"Blues\", fmt='g'); #annot=True to annotate cells\n",
    "\n",
    "ax.set_xlabel('Predicted labels');ax.set_ylabel('True labels'); \n",
    "ax.set_title('Canadian Election Tweets Sentiment Prediction for Conservative'); \n",
    "ax.xaxis.set_ticklabels(['Negative','Positive']); ax.yaxis.set_ticklabels(['Negative','Positive']);"
   ]
  },
  {
   "cell_type": "markdown",
   "metadata": {
    "colab_type": "text",
    "id": "BG-7FAN9eYBQ"
   },
   "source": [
    "### NDP"
   ]
  },
  {
   "cell_type": "code",
   "execution_count": null,
   "metadata": {
    "colab": {},
    "colab_type": "code",
    "id": "sS_YVt6xeTFb"
   },
   "outputs": [],
   "source": [
    "ndp_visual = elec[elec['Political Party'] == 'NDP']\n",
    "ndp_test = ndp_visual['labels']\n",
    "ndp_pred = ndp_visual['predict']"
   ]
  },
  {
   "cell_type": "code",
   "execution_count": null,
   "metadata": {
    "colab": {},
    "colab_type": "code",
    "id": "bRHVfOXjeTFd",
    "outputId": "31c4ce73-85fd-47fa-b64b-08c20f300c41"
   },
   "outputs": [],
   "source": [
    "print(classification_report(ndp_test,ndp_pred))\n",
    "cm=metrics.confusion_matrix(ndp_test,ndp_pred)\n",
    "\n",
    "ax= plt.subplot()\n",
    "sns.heatmap(cm, annot=True, ax = ax, cmap=\"Blues\", fmt='g'); #annot=True to annotate cells\n",
    "\n",
    "ax.set_xlabel('Predicted labels');ax.set_ylabel('True labels'); \n",
    "ax.set_title('Canadian Election Tweets Sentiment Prediction for NDP'); \n",
    "ax.xaxis.set_ticklabels(['Negative','Positive']); ax.yaxis.set_ticklabels(['Negative','Positive']);"
   ]
  },
  {
   "cell_type": "markdown",
   "metadata": {
    "colab_type": "text",
    "id": "Rk4YYz3MizOU"
   },
   "source": [
    "### Discussion"
   ]
  },
  {
   "cell_type": "markdown",
   "metadata": {
    "colab_type": "text",
    "id": "ib763aNOjbDN"
   },
   "source": [
    "The prediction accuracy 0.51 for liberal, 0.55 for conservative and 0.46 for NDP. The lower accuracy for that of NDP might be attributed to its smaller sample size as it has the fewest number of tweets when determining the political party.\n",
    "\n",
    "For the three parties, in general, the predicted negative tweets are always more than the actual negative tweets. It is also clear from the confusion matrix that there are more 'false negative' than 'false positive' for all three parties.\n",
    "\n",
    "The model performance is considered as poor mainly because of its low accuracy. The accuracy is only about 50%, which is equal to a random selection probability as there are only two possible outcomes (binary). In this case, the NLP analysis can be concluded as **not useful** for political parties. It may help the leaders to get insights on what the public think about their plans and strategies, but it does not really give an accurate prediction of the sentiments."
   ]
  },
  {
   "cell_type": "markdown",
   "metadata": {
    "colab_type": "text",
    "id": "u_tGC822fces"
   },
   "source": [
    "## Predict reasons for negative tweets"
   ]
  },
  {
   "cell_type": "markdown",
   "metadata": {
    "colab_type": "text",
    "id": "83-IJJAAnv5g"
   },
   "source": [
    "The three models selected to predict the reasons for negative tweets are:\n",
    "\n",
    "\n",
    "1.   Logistic Regression\n",
    "2.   SVM\n",
    "3.   Decision Trees\n",
    "\n",
    "The three models are selected for they had the highest accuracy in model implementation section."
   ]
  },
  {
   "cell_type": "markdown",
   "metadata": {
    "colab_type": "text",
    "id": "PwihvkcSflIT"
   },
   "source": [
    "### Label encoding"
   ]
  },
  {
   "cell_type": "code",
   "execution_count": null,
   "metadata": {
    "colab": {},
    "colab_type": "code",
    "id": "9WWsqiizeTFf"
   },
   "outputs": [],
   "source": [
    "elec_nega = pd.concat([elec['negative_reason'],elec_tfidf_features], axis=1)\n",
    "elec_nega = elec_nega[elec_nega['labels'] == 0]\n",
    "elec_nega = elec_nega.drop(['labels'], axis = 1)"
   ]
  },
  {
   "cell_type": "code",
   "execution_count": null,
   "metadata": {
    "colab": {},
    "colab_type": "code",
    "id": "gjSrSMIveTFh",
    "outputId": "904365ca-b9be-46a8-b311-755e78075ec9"
   },
   "outputs": [],
   "source": [
    "elec_nega['negative_reason'].value_counts()"
   ]
  },
  {
   "cell_type": "code",
   "execution_count": null,
   "metadata": {
    "colab": {},
    "colab_type": "code",
    "id": "wE4lqfJWeTFj"
   },
   "outputs": [],
   "source": [
    "nega_label={'Others':0,'Scandal':1,'Tell lies':2, 'Economy':3, 'Women Reproductive right and Racism':4, \n",
    "            'Climate Problem':5, 'Separation':6, 'Privilege':7, 'Healthcare':8, \n",
    "            'Healthcare and Marijuana':8}"
   ]
  },
  {
   "cell_type": "code",
   "execution_count": null,
   "metadata": {
    "colab": {},
    "colab_type": "code",
    "id": "bnPAY6j0eTFn"
   },
   "outputs": [],
   "source": [
    "elec_nega['reason_encoded'] = elec_nega['negative_reason'].map(nega_label)\n",
    "elec_nega = elec_nega.drop(['negative_reason'],axis=1)"
   ]
  },
  {
   "cell_type": "markdown",
   "metadata": {
    "colab_type": "text",
    "id": "JyRnx5SBfxTi"
   },
   "source": [
    "### Split test and training set"
   ]
  },
  {
   "cell_type": "code",
   "execution_count": null,
   "metadata": {
    "colab": {},
    "colab_type": "code",
    "id": "gnwhKFmxeTFp"
   },
   "outputs": [],
   "source": [
    "X = elec_nega.drop(['reason_encoded'],axis=1)\n",
    "y = elec_nega['reason_encoded']\n",
    "\n",
    "# split the test train data\n",
    "X_train, X_test, y_train, y_test = train_test_split(X, y, test_size=0.3, random_state=55)"
   ]
  },
  {
   "cell_type": "markdown",
   "metadata": {
    "colab_type": "text",
    "id": "7pfIy5zsf1iI"
   },
   "source": [
    "### Logistic regression"
   ]
  },
  {
   "cell_type": "code",
   "execution_count": null,
   "metadata": {
    "colab": {},
    "colab_type": "code",
    "id": "ZYRNMzeIeTFs",
    "outputId": "c1f95fb5-2bd7-45ad-e6ef-dab94215408a"
   },
   "outputs": [],
   "source": [
    "nega_logistic_model = LogisticRegression()\n",
    "nega_logistic_model.fit(X_train,y_train)"
   ]
  },
  {
   "cell_type": "code",
   "execution_count": null,
   "metadata": {
    "colab": {},
    "colab_type": "code",
    "id": "3-2X6ncfeTFw"
   },
   "outputs": [],
   "source": [
    "from sklearn.model_selection import cross_val_score\n",
    "import warnings\n",
    "warnings.filterwarnings('ignore')\n",
    "nega_logistic_predict = nega_logistic_model.predict(X_test)\n",
    "nega_logistic_accuracy = accuracy_score(y_test, nega_logistic_predict)\n",
    "nega_logistic_scores = cross_val_score(nega_logistic_model, X_train, y_train, cv=10)"
   ]
  },
  {
   "cell_type": "code",
   "execution_count": null,
   "metadata": {
    "colab": {},
    "colab_type": "code",
    "id": "g_0Q3RT_eTFz",
    "outputId": "7f6e45b2-e268-417c-ea2b-1cf787d43374"
   },
   "outputs": [],
   "source": [
    "print(\"Cross Validation Accuracy: %0.3f (+/- %0.3f)\" % (nega_logistic_scores.mean(), nega_logistic_scores.std() * 2))\n",
    "print ('Prediction Accuracy Score: ' + str(round(nega_logistic_accuracy,3)*100) +'%')\n",
    "print ('\\n')\n",
    "print(classification_report(y_test,nega_logistic_predict))"
   ]
  },
  {
   "cell_type": "markdown",
   "metadata": {
    "colab_type": "text",
    "id": "07xircD9f9j3"
   },
   "source": [
    "### SVM"
   ]
  },
  {
   "cell_type": "code",
   "execution_count": null,
   "metadata": {
    "colab": {},
    "colab_type": "code",
    "id": "GcOzVDD_eTF3",
    "outputId": "93a80d74-9801-4848-caaf-79c8d3ce0140"
   },
   "outputs": [],
   "source": [
    "nega_svm_model = SVC()\n",
    "nega_svm_model.fit(X_train,y_train)"
   ]
  },
  {
   "cell_type": "code",
   "execution_count": null,
   "metadata": {
    "colab": {},
    "colab_type": "code",
    "id": "H4tcxj0reTF5"
   },
   "outputs": [],
   "source": [
    "nega_svm_predict = nega_svm_model.predict(X_test)\n",
    "nega_svm_accuracy = accuracy_score(y_test, nega_svm_predict)\n",
    "nega_svm_scores = cross_val_score(nega_svm_model, X_train, y_train, cv=10)"
   ]
  },
  {
   "cell_type": "code",
   "execution_count": null,
   "metadata": {
    "colab": {},
    "colab_type": "code",
    "id": "TOJ8X4UIeTF8",
    "outputId": "12ee0011-0e36-4994-dd3e-ad166751d030"
   },
   "outputs": [],
   "source": [
    "print(\"Cross Validation Accuracy: %0.3f (+/- %0.3f)\" % (nega_svm_scores.mean(), nega_svm_scores.std() * 2))\n",
    "print ('Prediction Accuracy Score: ' + str(round(nega_svm_accuracy,3)*100) +'%')\n",
    "print ('\\n')\n",
    "print(classification_report(y_test,nega_svm_predict))"
   ]
  },
  {
   "cell_type": "markdown",
   "metadata": {
    "colab_type": "text",
    "id": "Vbkl1d7ZgCC2"
   },
   "source": [
    "### Decision trees"
   ]
  },
  {
   "cell_type": "code",
   "execution_count": null,
   "metadata": {
    "colab": {},
    "colab_type": "code",
    "id": "bpqwf7nEeTF-",
    "outputId": "84606173-bdf7-40df-fb5a-03701b5cab84"
   },
   "outputs": [],
   "source": [
    "nega_dt_model = DecisionTreeClassifier(random_state = 0)\n",
    "nega_dt_model.fit(X_train,y_train)"
   ]
  },
  {
   "cell_type": "code",
   "execution_count": null,
   "metadata": {
    "colab": {},
    "colab_type": "code",
    "id": "QQlNVbeSeTGA"
   },
   "outputs": [],
   "source": [
    "nega_dt_predict = nega_dt_model.predict(X_test)\n",
    "nega_dt_accuracy = accuracy_score(y_test, nega_dt_predict)\n",
    "nega_dt_scores = cross_val_score(nega_dt_model, X_train, y_train, cv=10)"
   ]
  },
  {
   "cell_type": "code",
   "execution_count": null,
   "metadata": {
    "colab": {},
    "colab_type": "code",
    "id": "Moq1biYueTGD",
    "outputId": "b6c9c632-9d14-48ce-b62f-dbab0d112720"
   },
   "outputs": [],
   "source": [
    "print(\"Cross Validation Accuracy: %0.3f (+/- %0.3f)\" % (nega_dt_scores.mean(), nega_dt_scores.std() * 2))\n",
    "print ('Prediction Accuracy Score: ' + str(round(nega_dt_accuracy,3)*100) +'%')\n",
    "print ('\\n')\n",
    "print(classification_report(y_test,nega_dt_predict))"
   ]
  },
  {
   "cell_type": "markdown",
   "metadata": {
    "colab_type": "text",
    "id": "JmqFYT2dZxov"
   },
   "source": [
    "### Results"
   ]
  },
  {
   "cell_type": "markdown",
   "metadata": {
    "colab_type": "text",
    "id": "ad-3Sor6Zj-G"
   },
   "source": [
    "The model with highest accuracy is the Logistic Regression Model and the accuracy is 50.7%."
   ]
  },
  {
   "cell_type": "markdown",
   "metadata": {
    "colab_type": "text",
    "id": "CxqYk_LpgKfw"
   },
   "source": [
    "# Question 5: Results comparison"
   ]
  },
  {
   "cell_type": "markdown",
   "metadata": {
    "colab_type": "text",
    "id": "dD8piXLPraP6"
   },
   "source": [
    "## First model"
   ]
  },
  {
   "cell_type": "code",
   "execution_count": null,
   "metadata": {
    "colab": {},
    "colab_type": "code",
    "id": "1GI3vkKxYqyg"
   },
   "outputs": [],
   "source": [
    "lib_visual = elec[elec['Political Party'] == 'Liberal']\n",
    "lib_pos_gt = lib_visual['labels'].sum()\n",
    "lib_neg_gt = lib_visual.shape[0] - lib_pos_gt\n",
    "lib_pos_pr = lib_visual['predict'].sum()\n",
    "lib_neg_pr = lib_visual.shape[0] - lib_pos_pr\n",
    "\n",
    "con_visual = elec[elec['Political Party'] == 'Conservative']\n",
    "con_pos_gt = con_visual['labels'].sum()\n",
    "con_neg_gt = con_visual.shape[0] - con_pos_gt\n",
    "con_pos_pr = con_visual['predict'].sum()\n",
    "con_neg_pr = con_visual.shape[0] - con_pos_pr\n",
    "\n",
    "ndp_visual = elec[elec['Political Party'] == 'NDP']\n",
    "ndp_pos_gt = ndp_visual['labels'].sum()\n",
    "ndp_neg_gt = ndp_visual.shape[0] - ndp_pos_gt\n",
    "ndp_pos_pr = ndp_visual['predict'].sum()\n",
    "ndp_neg_pr = ndp_visual.shape[0] - ndp_pos_pr\n",
    "\n",
    "pos_gt_list = [lib_pos_gt, con_pos_gt, ndp_pos_gt]\n",
    "neg_gt_list = [lib_neg_gt, con_neg_gt, ndp_neg_gt]\n",
    "pos_pr_list = [lib_pos_pr, con_pos_pr, ndp_pos_pr]\n",
    "neg_pr_list = [lib_neg_pr, con_neg_pr, ndp_neg_pr]"
   ]
  },
  {
   "cell_type": "code",
   "execution_count": null,
   "metadata": {
    "colab": {},
    "colab_type": "code",
    "id": "s8KJDNc6Yb-P",
    "outputId": "dc0b65ba-ed88-4305-9081-9acc7684997d"
   },
   "outputs": [],
   "source": [
    "# plot the bar chart\n",
    "fig, ax = plt.subplots()\n",
    "index = np.arange(3)\n",
    "bar_width = 0.35\n",
    "opacity = 0.8\n",
    "\n",
    "plt.bar(index, pos_gt_list, bar_width, alpha=opacity, \n",
    "        color='#2ECC71', label='Label Positive')\n",
    "plt.bar(index + bar_width, pos_pr_list, bar_width, alpha=opacity, \n",
    "        color='#82E0AA', label='Predicted Positive')\n",
    "plt.bar(index, neg_gt_list, bar_width, alpha=opacity, bottom=pos_gt_list,\n",
    "        color='#E74C3C', edgecolor='white', label='Label Negative')\n",
    "plt.bar(index + bar_width, neg_pr_list, bar_width, alpha=opacity, bottom=pos_pr_list,\n",
    "        color='#F1948A', edgecolor='white', label='Predicted Negative')\n",
    "\n",
    "plt.xlabel('Political Party')\n",
    "plt.ylabel('Number of Tweets')\n",
    "plt.title('Election Sentiment Analysis')\n",
    "plt.xticks(index + bar_width/2, ('LIB', 'CON', 'NDP'))\n",
    "plt.legend()\n",
    "\n",
    "plt.tight_layout()\n",
    "plt.show()"
   ]
  },
  {
   "cell_type": "markdown",
   "metadata": {
    "colab_type": "text",
    "id": "-WdjZBDNr4O1"
   },
   "source": [
    "What can public opinion on Twitter tell us about the Canadian political landscape in 2019?\n",
    "\n",
    "\n",
    "1.   Many people talk about the election but without mentioning any specific party. It is possible that these people do not have any inclination in which party they are going to vote for, or they might be talking about political parties other than the three classified in the analysis.\n",
    "2.   Among the three major political parties (Liberal, Conservative and NDP), the Conservative Party of Canada received the most tweets. This makes sense as the party has very popular votes. Liberal is the second as it stands on the opposite side to the Conservative Party.\n",
    "3.   Among the entire dataset, the positive tweets and negative tweets are about half to half, which results in a comparatively balanced dataset.\n",
    "\n",
    "How each party is viewed in the public eye?\n",
    "\n",
    "\n",
    "1.   Liberal Party: Positive tweets and negative tweets are about the similar amount, indicating that the overall sentiment towards the party is fairly neutral.\n",
    "2.   Conservative Party: There are more negative tweets mentioning the party than negative ones, meaning more dissatisfaction is discovered on Twitter towards the party.\n",
    "3.   NDP: Fewer tweets mentioned the party, indicating less attention from the public, however, the party received twice more positive tweets than negative ones.\n",
    "\n",
    "How to improve the accuracy of the model?\n",
    "\n",
    "\n",
    "1.   Include more features when developing word frequency and TF-IDF feature set\n",
    "2.   Use larger and more relevant dataset (i.e. last year election data) to train the model\n",
    "3.   Include more keywords when determining political party\n",
    "4.   Implement more sophisticated models of NLP\n",
    "\n",
    "\n",
    "\n",
    "\n",
    "\n"
   ]
  },
  {
   "cell_type": "markdown",
   "metadata": {
    "colab_type": "text",
    "id": "5mLfqKbYxQU2"
   },
   "source": [
    "## Second model"
   ]
  },
  {
   "cell_type": "markdown",
   "metadata": {
    "colab_type": "text",
    "id": "kzER4P0kHVQl"
   },
   "source": [
    "Why the model may fail to predict the correct negative reasons?\n",
    "\n",
    "\n",
    "1.   The sample size is too small. There is not sufficient data for training the model.\n",
    "2.   About 1/3 of the negative reason is 'Other', which does not help to classify the specific negative reason.\n",
    "3.   Some tweets belong to one class of negative reason do not necessarily mention the keywords for classfying that negative reason and thus will reduce accuracy.\n",
    "\n",
    "How to improve the accuracy of the model?\n",
    "\n",
    "\n",
    "1.   Augment the dataset to include more tweets with negative reasons other than 'Other'\n",
    "\n",
    "\n",
    "\n"
   ]
  },
  {
   "cell_type": "code",
   "execution_count": null,
   "metadata": {},
   "outputs": [],
   "source": []
  },
  {
   "cell_type": "code",
   "execution_count": null,
   "metadata": {},
   "outputs": [],
   "source": []
  },
  {
   "cell_type": "code",
   "execution_count": null,
   "metadata": {},
   "outputs": [],
   "source": []
  }
 ],
 "metadata": {
  "colab": {
   "machine_shape": "hm",
   "name": "yu_1005898502_assignment2.ipynb",
   "provenance": [],
   "toc_visible": true
  },
  "kernelspec": {
   "display_name": "Python 3",
   "language": "python",
   "name": "python3"
  },
  "language_info": {
   "codemirror_mode": {
    "name": "ipython",
    "version": 3
   },
   "file_extension": ".py",
   "mimetype": "text/x-python",
   "name": "python",
   "nbconvert_exporter": "python",
   "pygments_lexer": "ipython3",
   "version": "3.8.3"
  }
 },
 "nbformat": 4,
 "nbformat_minor": 1
}
